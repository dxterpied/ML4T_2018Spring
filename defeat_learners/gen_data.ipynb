{
 "cells": [
  {
   "cell_type": "markdown",
   "metadata": {},
   "source": [
    "# Defeat learners\n",
    "ML for trading Udacity Course exercise\n",
    "\n",
    "More info:\n",
    "https://quantsoftware.gatech.edu/Defeat_learners\n",
    "\n",
    "A transcription of the Udacity Course lectures can be find on https://docs.google.com/document/d/1ELqlnuTSdc9-MDHOkV0uvSY4RmI1eslyQlU9DgOY_jc/edit?usp=sharing\n",
    "\n",
    "Kairoart 2018\n",
    "\n"
   ]
  },
  {
   "cell_type": "markdown",
   "metadata": {},
   "source": [
    "## Overview\n",
    "\n",
    "In this project you will generate data that you believe will work better for one learner than another. This will test your understanding of the strengths and weaknesses of various learners. The two learners you should aim your datasets at are:\n",
    "\n",
    "    * A decision tree learner with leaf_size = 1 (DTLearner). Note that for testing purposes we will use our implementation of DTLearner\n",
    "    * A LinRegLearner provided as part of the repo.\n",
    "\n",
    "Your data generation should use a random number generator as part of its data generation process. We will pass your generators a random number seed. Whenever the seed is the same you should return exactly the same data set. Different seeds should result in different data sets. "
   ]
  },
  {
   "cell_type": "markdown",
   "metadata": {},
   "source": [
    "## Import libraries"
   ]
  },
  {
   "cell_type": "code",
   "execution_count": 13,
   "metadata": {},
   "outputs": [
    {
     "data": {
      "text/html": [
       "<script>requirejs.config({paths: { 'plotly': ['https://cdn.plot.ly/plotly-latest.min']},});if(!window.Plotly) {{require(['plotly'],function(plotly) {window.Plotly=plotly;});}}</script>"
      ],
      "text/vnd.plotly.v1+html": [
       "<script>requirejs.config({paths: { 'plotly': ['https://cdn.plot.ly/plotly-latest.min']},});if(!window.Plotly) {{require(['plotly'],function(plotly) {window.Plotly=plotly;});}}</script>"
      ]
     },
     "metadata": {},
     "output_type": "display_data"
    }
   ],
   "source": [
    "import numpy as np\n"
   ]
  },
  {
   "cell_type": "markdown",
   "metadata": {},
   "source": [
    "## Generate data to fool learners"
   ]
  },
  {
   "cell_type": "code",
   "execution_count": null,
   "metadata": {},
   "outputs": [],
   "source": [
    "def best4LinReg(seed=np.random.randint(1000000)):\n",
    "    \"\"\"This function should return a dataset (X and Y) that will work\n",
    "    better for linear regression than decision trees\n",
    "    Parameters: \n",
    "    seed: Random integer used to initialize the pseudo-random number generator. \n",
    "    Whenever the seed is the same, the same data set will be returned. \n",
    "    Different seeds should result in different data sets.\n",
    "    Returns: \n",
    "    X: A numpy ndarray of X values\n",
    "    Y: A numpy 1D array of Y values\n",
    "    \"\"\"\n",
    "\n",
    "    np.random.seed(seed)\n",
    "\n",
    "    # X and Y should each contain from 10 to 1000 rows\n",
    "    num_rows = np.random.randint(10, 1001)\n",
    "\n",
    "    # X should have from 2 to 1000 columns\n",
    "    num_X_cols = np.random.randint(2, 1001)\n",
    "\n",
    "    X = np.random.normal(size=(num_rows, num_X_cols))\n",
    "    Y = np.zeros(num_rows)\n",
    "    for col in range(num_X_cols):\n",
    "        Y += X[:, col]\n",
    "\n",
    "    return X, Y\n",
    "\n",
    "\n",
    "def best4DT(seed=np.random.randint(1000000)):\n",
    "    \"\"\"This function should return a dataset (X and Y) that will work\n",
    "    better for decision trees than linear regression\n",
    "    Parameters: \n",
    "    seed: Random seed used to initialize the pseudo-random number generator. \n",
    "    Whenever the seed is the same, the same data set will be returned. \n",
    "    Different seeds should result in different data sets.\n",
    "    Returns: \n",
    "    X: A numpy ndarray of X values\n",
    "    Y: A numpy 1D array of Y values\n",
    "    \"\"\"\n",
    "\n",
    "    np.random.seed(seed)\n",
    "    \n",
    "    # X and Y should each contain from 10 to 1000 rows\n",
    "    num_rows = np.random.randint(10, 1001)\n",
    "\n",
    "    # X should have from 2 to 1000 columns\n",
    "    num_X_cols = np.random.randint(2, 1001)\n",
    "\n",
    "    X = np.random.normal(size=(num_rows, num_X_cols))\n",
    "    Y = np.zeros(num_rows)\n",
    "    for col in range(num_X_cols):\n",
    "        Y += X[:, col] ** 2\n",
    "    \n",
    "    return X, Y"
   ]
  }
 ],
 "metadata": {
  "kernelspec": {
   "display_name": "Python 3",
   "language": "python",
   "name": "python3"
  },
  "language_info": {
   "codemirror_mode": {
    "name": "ipython",
    "version": 3
   },
   "file_extension": ".py",
   "mimetype": "text/x-python",
   "name": "python",
   "nbconvert_exporter": "python",
   "pygments_lexer": "ipython3",
   "version": "3.6.4"
  },
  "toc-autonumbering": false,
  "toc-showcode": false,
  "toc-showmarkdowntxt": false
 },
 "nbformat": 4,
 "nbformat_minor": 2
}
