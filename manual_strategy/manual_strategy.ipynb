{
 "cells": [
  {
   "cell_type": "markdown",
   "metadata": {},
   "source": [
    "# Manual strategy\n",
    "ML for trading Udacity Course exercise\n",
    "\n",
    "More info:\n",
    "https://quantsoftware.gatech.edu/Manual_strategy\n",
    "\n",
    "A transcription of the Udacity Course lectures can be find on https://docs.google.com/document/d/1ELqlnuTSdc9-MDHOkV0uvSY4RmI1eslyQlU9DgOY_jc/edit?usp=sharing\n",
    "\n",
    "Kairoart 2018\n",
    "\"\"\"\n"
   ]
  },
  {
   "cell_type": "markdown",
   "metadata": {},
   "source": [
    "## Overview\n",
    "\n",
    "In this project you will develop a trading strategy using your intuition and Technical Analysis, and test it against a stock using your market simulator. In a later project, you will use your same indicators but with Machine Learning (instead of your intuition) to create a trading strategy. We hope Machine Learning will do better than your intuition, but who knows? "
   ]
  },
  {
   "cell_type": "markdown",
   "metadata": {},
   "source": [
    "## Task\n",
    "\n",
    "Your code that implements your indicators as functions that operate on dataframes. The code should generate the charts that illustrate your indicators in the report.\n",
    "\n",
    "**Indicators**\n",
    "\n",
    "We'll use three tecnical indicators:\n",
    "* Bolliner Bands.\n",
    "* Simple Moving Average (SMA)\n",
    "* Relative Strength Index (RSI)"
   ]
  },
  {
   "cell_type": "markdown",
   "metadata": {},
   "source": [
    "## Import libraries"
   ]
  },
  {
   "cell_type": "code",
   "execution_count": 1,
   "metadata": {},
   "outputs": [
    {
     "data": {
      "text/html": [
       "<script>requirejs.config({paths: { 'plotly': ['https://cdn.plot.ly/plotly-latest.min']},});if(!window.Plotly) {{require(['plotly'],function(plotly) {window.Plotly=plotly;});}}</script>"
      ],
      "text/vnd.plotly.v1+html": [
       "<script>requirejs.config({paths: { 'plotly': ['https://cdn.plot.ly/plotly-latest.min']},});if(!window.Plotly) {{require(['plotly'],function(plotly) {window.Plotly=plotly;});}}</script>"
      ]
     },
     "metadata": {},
     "output_type": "display_data"
    }
   ],
   "source": [
    "import pandas as pd\n",
    "import numpy as np\n",
    "import datetime as dt\n",
    "import math\n",
    "import matplotlib.pyplot as plt\n",
    "%matplotlib inline\n",
    "\n",
    "\n",
    "# Add parent directory PATH for looking for modules,\n",
    "import sys\n",
    "#sys.path.insert(0,'..')\n",
    "from util import get_data, plot_data\n",
    "\n",
    "# Add plotly for interactive charts\n",
    "from plotly.offline import init_notebook_mode, iplot\n",
    "init_notebook_mode(connected=True)\n",
    "import plotly.plotly as py\n",
    "import plotly.graph_objs as go\n",
    "from plotly import tools"
   ]
  },
  {
   "cell_type": "markdown",
   "metadata": {},
   "source": [
    "## Part 1: Technical Indicators\n",
    "\n",
    "Develop and describe at least 3 and at most 5 technical indicators. You may find our lecture on time series processing to be helpful. For each indicator you should create a single, compelling chart that illustrates the indicator.\n",
    "\n",
    "As an example, you might create a chart that shows the price history of the stock, along with \"helper data\" (such as upper and lower bollinger bands) and the value of the indicator itself. Another example: If you were using price/SMA as an indicator you would want to create a chart with 3 lines: Price, SMA, Price/SMA. In order to facilitate visualization of the indicator you might normalize the data to 1.0 at the start of the date range (i.e. divide price[t] by price[0]).\n",
    "\n",
    "Your report description of each indicator should enable someone to reproduce it just by reading the description. We want a written description here, not code, however, it is OK to augment your written description with a pseudocode figure.\n",
    "\n",
    "At least one of the indicators you use should be completely different from the ones presented in our lectures. (i.e. something other than SMA, Bollinger Bands, RSI). "
   ]
  },
  {
   "cell_type": "markdown",
   "metadata": {},
   "source": [
    "### Bollinger Bands"
   ]
  },
  {
   "cell_type": "code",
   "execution_count": null,
   "metadata": {},
   "outputs": [],
   "source": [
    "\"\"\"Bollinger Bands.\"\"\"\n",
    "\n",
    "def get_rolling_mean(values, window):\n",
    "    \"\"\"Return rolling mean of given values, using specified window size.\"\"\"\n",
    "    #values.rolling(window).mean\n",
    "    return values.rolling(window).mean()\n",
    "\n",
    "\n",
    "def get_rolling_std(values, window):\n",
    "    \"\"\"Return rolling standard deviation of given values, using specified window size.\"\"\"\n",
    "    # todo: Compute and return rolling standard deviation\n",
    "    #return pd.rolling_std(values, window=window)\n",
    "    return values.rolling(window).std()\n",
    "\n",
    "\n",
    "def get_bollinger_bands(rm, rstd):\n",
    "    \"\"\"Return upper and lower Bollinger Bands.\"\"\"\n",
    "    # TODO: Compute upper_band and lower_band\n",
    "    # 2 standard deviations aboav the mean.\n",
    "    # add 2 times the rolling standard deviations of the mean 2*std.\n",
    "\n",
    "    upper_band = rm + 2 * rstd\n",
    "    lower_band = rm - 2 * rstd\n",
    "\n",
    "    return upper_band, lower_band \n",
    "\n",
    "\n",
    "def test_run(plotly=False):\n",
    "    # Read data\n",
    "    dates = pd.date_range('2008-01-01', '2009-12-31')\n",
    "    symbols = ['JPM']\n",
    "    df = get_data(symbols, dates)\n",
    "\n",
    "    # Compute Bollinger Bands\n",
    "    # 1. Compute rolling mean\n",
    "    rm_JPM = get_rolling_mean(df['JPM'], window=10)\n",
    "\n",
    "    # 2. Compute rolling standard deviation\n",
    "    rstd_JPM = get_rolling_std(df['JPM'], window=10)\n",
    "\n",
    "    # 3. Compute upper and lower bands\n",
    "    upper_band, lower_band = get_bollinger_bands(rm_JPM, rstd_JPM)\n",
    "    \n",
    "    if plotly==False:\n",
    "        # Plot raw JPM values, rolling mean and Bollinger Bands\n",
    "        plt.figure(figsize=(16,8))\n",
    "\n",
    "        ax = df['JPM'].plot(title=\"Bollinger Bands\", label='JPM')\n",
    "        rm_JPM.plot(label='Rolling mean', ax=ax)\n",
    "        upper_band.plot(label='upper band', ax=ax)\n",
    "        lower_band.plot(label='lower band', ax=ax)\n",
    "\n",
    "        # Add axis labels and legend\n",
    "        ax.set_xlabel(\"Date\")\n",
    "        ax.set_ylabel(\"Price\")\n",
    "        ax.legend(loc='upper left')\n",
    "        plt.show()\n",
    "    else:\n",
    "        trace_symbol = go.Scatter(\n",
    "                x=df.index,\n",
    "                y=df['JPM'],\n",
    "                name = \"JPM\",\n",
    "                line = dict(color = '#17BECF'),\n",
    "                opacity = 0.8)\n",
    "\n",
    "        trace_upper = go.Scatter(\n",
    "                x=df.index,\n",
    "                y=upper_band,\n",
    "                name = \"Upper band\",\n",
    "                line = dict(color = '#04B404'),\n",
    "                opacity = 0.8)\n",
    "        \n",
    "        trace_lower = go.Scatter(\n",
    "                x=df.index,\n",
    "                y=lower_band,\n",
    "                name = \"Lower band\",\n",
    "                line = dict(color = '#FF0000'),\n",
    "                opacity = 0.8)\n",
    "        \n",
    "        trace_Rolling = go.Scatter(\n",
    "                x=df.index,\n",
    "                y=rm_JPM,\n",
    "                name = \"Rolling Mean\",\n",
    "                line = dict(color = '#FF8000'),\n",
    "                opacity = 0.8)\n",
    "        \n",
    "        data = [trace_symbol, trace_upper, trace_lower, trace_Rolling]\n",
    "\n",
    "        layout = dict(\n",
    "            title = \"Bollinger Bands\",\n",
    "            xaxis = dict(\n",
    "                    title='Dates',\n",
    "                    rangeselector=dict(\n",
    "                        buttons=list([\n",
    "                            dict(count=1,\n",
    "                                 label='1m',\n",
    "                                 step='month',\n",
    "                                 stepmode='backward'),\n",
    "                            dict(count=6,\n",
    "                                 label='6m',\n",
    "                                 step='month',\n",
    "                                 stepmode='backward'),\n",
    "                            dict(step='all')\n",
    "                        ])\n",
    "                    ),\n",
    "                    range = [dates.values[0], dates.values[1]]),\n",
    "            \n",
    "            yaxis = dict(\n",
    "                    title='Price')\n",
    "                    \n",
    "            )\n",
    "        \n",
    "        \n",
    "\n",
    "        fig = dict(data=data, layout=layout)\n",
    "        iplot(fig)"
   ]
  },
  {
   "cell_type": "code",
   "execution_count": null,
   "metadata": {},
   "outputs": [],
   "source": [
    "test_run(True)"
   ]
  },
  {
   "cell_type": "markdown",
   "metadata": {},
   "source": [
    "#### Description\n",
    "\n",
    "**Type**\n",
    "It's a volatility indicator.\n",
    "\n",
    "**Bollinger bands:**\n",
    "\n",
    "* It's a volatity indicator.\n",
    "* Measures the “highness” or “lowness” of price, relative to previous trades.\n",
    "* The idea is to add a band 2 standard deviations above and 2 standard deviations below (upper band and lower band).\n",
    "\n",
    "**Buy signal**\n",
    "\n",
    "If we drop below the lower band and then up back through it, that is potentially right there a buy signal, because the hypothesis there is that we've gone quite far from the simple moving average. And we're now moving back towards it. if you buy there, you should anticipate positive returns as it climbs back through the average.\n",
    "\n",
    "\n",
    "**Sell signal**\n",
    "\n",
    "Where you see it punch through the upper band and then go back down through, that's potentially a sell signal.\n",
    "\n"
   ]
  },
  {
   "cell_type": "markdown",
   "metadata": {},
   "source": [
    "### Simple moving average (SMA)\n"
   ]
  },
  {
   "cell_type": "code",
   "execution_count": null,
   "metadata": {},
   "outputs": [],
   "source": [
    "\"\"\"Simple moving average (SMA)\"\"\"\n",
    "\n",
    "def SMA(values, window): \n",
    "    \"\"\"Return Simple moving average of given values, using specified window size.\"\"\"\n",
    "    sma = pd.Series(values.rolling(window,center=False).mean()) \n",
    "    q = (sma / values) - 1 \n",
    "    return sma, q\n",
    "\n",
    "def test_run(plotly=False):\n",
    "    # Read data\n",
    "    dates = pd.date_range('2008-01-01', '2009-12-31')\n",
    "    symbols = ['JPM']\n",
    "    df = get_data(symbols, dates)\n",
    "\n",
    "    # 1. Normalize the prices Dataframe\n",
    "    normed = pd.DataFrame()\n",
    "    for column in df:\n",
    "        normed[column] = df[column].values / df[column].iloc[0];\n",
    "\n",
    "    # 2. Compute SMA\n",
    "    sma_JPM, q = SMA(normed[column], window=10)\n",
    "\n",
    "    if plotly==False:\n",
    "        # Plot raw JPM values, rolling mean and Bollinger Bands\n",
    "        plt.figure(figsize=(16,8))\n",
    "\n",
    "        ax = normed[column].plot(title=\"Simple Moving Average \", label='JPM')\n",
    "        sma_JPM.plot(label='SMA', ax=ax)\n",
    "        \n",
    "\n",
    "        # Add axis labels and legend\n",
    "        ax.set_xlabel(\"Date\")\n",
    "        ax.set_ylabel(\"Price\")\n",
    "        ax.legend(loc='upper left')\n",
    "        plt.show()\n",
    "    else:\n",
    "        trace_symbol = go.Scatter(\n",
    "                x=df.index,\n",
    "                y=normed[column],\n",
    "                name = \"JPM\",\n",
    "                line = dict(color = '#17BECF'),\n",
    "                opacity = 0.8)\n",
    "\n",
    "        trace_sma = go.Scatter(\n",
    "                x=df.index,\n",
    "                y=sma_JPM,\n",
    "                name = \"SMA\",\n",
    "                line = dict(color = '#FF8000'),\n",
    "                opacity = 0.8)\n",
    "        \n",
    "        trace_q = go.Scatter(\n",
    "                x=df.index,\n",
    "                y=q,\n",
    "                name = \"SMA Quantity\",\n",
    "                line = dict(color = '#04B404'),\n",
    "                opacity = 0.8)\n",
    "        \n",
    "        data = [trace_symbol, trace_sma, trace_q]\n",
    "\n",
    "        layout = dict(\n",
    "            title = \"Simple Moving Average (SMA)\",\n",
    "            xaxis = dict(\n",
    "                    title='Dates',\n",
    "                    rangeselector=dict(\n",
    "                        buttons=list([\n",
    "                            dict(count=1,\n",
    "                                 label='1m',\n",
    "                                 step='month',\n",
    "                                 stepmode='backward'),\n",
    "                            dict(count=6,\n",
    "                                 label='6m',\n",
    "                                 step='month',\n",
    "                                 stepmode='backward'),\n",
    "                            dict(step='all')\n",
    "                        ])\n",
    "                    ),\n",
    "                    range = [dates.values[0], dates.values[1]]),\n",
    "            \n",
    "            yaxis = dict(\n",
    "                    title='Price')\n",
    "                    \n",
    "            )\n",
    "        \n",
    "        \n",
    "\n",
    "        fig = dict(data=data, layout=layout)\n",
    "        iplot(fig)"
   ]
  },
  {
   "cell_type": "code",
   "execution_count": null,
   "metadata": {},
   "outputs": [],
   "source": [
    "test_run(True)"
   ]
  },
  {
   "cell_type": "markdown",
   "metadata": {},
   "source": [
    "#### Description\n",
    "\n",
    "The moving average is one of the most widely used technical indicators. It is used along with other technical indicators or it can form the building block for the computation of other technical indicators.\n",
    "\n",
    "A “moving average” is average of the asset prices over the “x” number of days/weeks. The term “moving” is used because the group of data moves forward with each new trading day. For each new day, we include the price of that day and exclude the price of the first day in the data sequence.\n",
    "\n",
    "**Type**\n",
    "It's a trend indicator.\n",
    "\n",
    "**Estimation**\n",
    "\n",
    "To compute a 10-day window SMA, we take the sum of prices over 10 days and divide it by 10. To arrive at the next data point for the 20-day SMA, we include the price of the next trading day while excluding the price of the first trading day. This way the group of data moves forward.\n",
    "\n",
    "The SMA assigns equal weights to each price point in the group. \n",
    "\n",
    "**Analysis**\n",
    "\n",
    "The moving average tells whether a trend has begun, ended or reversed. The averaging of the prices produces a smoother line which makes it easier to identify the underlying trend. However, the moving average lags the market action.\n",
    "\n",
    "A shorter moving average is more sensitive than a longer moving average. However, it is prone to generate false trading signals.\n",
    "\n",
    "**Signals**\n",
    "\n",
    "When the *closing price moves above the moving average, a buy signal is generated and vice versa*.  When using a single moving average one should select the averaging period in such a way that it is sensitive in generating trading signals and at the same time insensitive in giving out false signals.\n",
    "\n",
    "**Quantifying**\n",
    "\n",
    "We lso need a way to quantify it, to turn it into a number.\n",
    "The way we do that is to compare the current price with the current simple moving average, and construct a ratio.\n",
    "So, if, for instance, the price is 10% above the simple moving average, we'd end up getting a positive 0.1.\n",
    "If it were 10% below, we'd get a negative 0.1.\n"
   ]
  },
  {
   "cell_type": "markdown",
   "metadata": {},
   "source": [
    "### Relative Strength Index (RSI)"
   ]
  },
  {
   "cell_type": "code",
   "execution_count": null,
   "metadata": {},
   "outputs": [],
   "source": [
    "\"\"\"Relative Strength Index (RSI)\"\"\"\n",
    "\n",
    "def RSI(price, n=14):\n",
    "    \"\"\"Return Relative Strength Index (RSI) of given values, using specified window size.\"\"\"\n",
    "    gain = (price-price.shift(1)).fillna(0) # calculate price gain with previous day, first row nan is filled with 0\n",
    "\n",
    "    def rsiCalc(p):\n",
    "        # subfunction for calculating rsi for one lookback period\n",
    "        avgGain = p[p>0].sum()/n\n",
    "        avgLoss = -p[p<0].sum()/n \n",
    "        rs = avgGain/avgLoss\n",
    "        return 100 - 100/(1+rs)\n",
    "\n",
    "    # run for all periods with rolling_apply\n",
    "    return pd.rolling_apply(gain,n,rsiCalc) \n",
    "\n",
    "def test_run(plotly=False):\n",
    "    # Read data\n",
    "    dates = pd.date_range('2008-01-01', '2009-12-31')\n",
    "    symbols = ['JPM']\n",
    "    df = get_data(symbols, dates)\n",
    "\n",
    "    # Compute RSI\n",
    "    rsi_JPM = RSI(df['JPM'])\n",
    "\n",
    "    if plotly==True:\n",
    "        # Plot\n",
    "        # Price line\n",
    "        trace_symbol = go.Scatter(\n",
    "                x=df.index,\n",
    "                y=df['JPM'],\n",
    "                name = \"JPM\",\n",
    "                line = dict(color = '#17BECF'),\n",
    "                opacity = 0.8)\n",
    "\n",
    "        # RSI line\n",
    "        trace_rsi = go.Scatter(\n",
    "                x=df.index,\n",
    "                y=rsi_JPM,\n",
    "                name = \"RSI\",\n",
    "                line = dict(color = '#FF8000'),\n",
    "                opacity = 0.8)\n",
    "\n",
    "        # Overbought line\n",
    "        trace_ob = go.Scatter(\n",
    "                x=df.index,\n",
    "                y=np.repeat(70, len(df)),\n",
    "                name = \"Overbought\",\n",
    "                line = dict(color = '#04B404',\n",
    "                           dash = 'dash')\n",
    "                )\n",
    "        # Oversold line\n",
    "        trace_os = go.Scatter(\n",
    "                x=df.index,\n",
    "                y=np.repeat(30, len(df)),\n",
    "                name = \"Oversold\",\n",
    "                line = dict(color = '#FF0000',\n",
    "                           dash = 'dash')\n",
    "                )\n",
    "\n",
    "\n",
    "        # Subplots\n",
    "        fig = tools.make_subplots(rows=2, cols=1, subplot_titles=('JPM Prices', 'Relative Strength Index (RSI)'))\n",
    "        fig.append_trace(trace_symbol, 1, 1)\n",
    "        fig.append_trace(trace_ob, 2, 1)\n",
    "        fig.append_trace(trace_os, 2, 1)\n",
    "        fig.append_trace(trace_rsi, 2, 1)\n",
    "        layout = dict(\n",
    "            xaxis = dict(\n",
    "                    title='Dates',\n",
    "                    range = [dates.values[0], dates.values[1]]),\n",
    "\n",
    "            yaxis = dict(\n",
    "                    title='Price')\n",
    "\n",
    "            )\n",
    "\n",
    "\n",
    "\n",
    "        fig['layout'].update(height=600, title='Overbought-Oversold')\n",
    "        iplot(fig)"
   ]
  },
  {
   "cell_type": "code",
   "execution_count": null,
   "metadata": {},
   "outputs": [],
   "source": [
    "test_run(True)"
   ]
  },
  {
   "cell_type": "markdown",
   "metadata": {},
   "source": [
    "#### Description\n",
    "\n",
    "The Relative Strength Index - RSI is a momentum indicator that measures the magnitude of recent price changes to analyze [overbought](https://www.investopedia.com/terms/o/overbought.asp) or [oversold](https://www.investopedia.com/terms/o/oversold.asp) conditions. It is primarily used to attempt to identify overbought or oversold conditions in the trading of an asset.\n",
    "\n",
    "**Type**\n",
    "It's a momentum indicator.\n",
    "\n",
    "**Estimation**\n",
    "The relative strength index (RSI) is calculated using the following formula:\n",
    "\n",
    "RSI = 100 - 100 / (1 + RS)\n",
    "\n",
    "Where RS = Average gain of up periods during the specified time frame / Average loss of down periods during the specified time frame\n",
    "\n",
    "The RSI provides a relative evaluation of the strength of a security's recent price performance, thus making it a momentum indicator. RSI values range from 0 to 100. The default time frame for comparing up periods to down periods is 14, as in 14 trading days.\n",
    "\n",
    "**Analisys**\n",
    "Taking the prior value plus the current value is a smoothing technique similar to that used in calculating an exponential moving average. This also means that RSI values become more accurate as the calculation period extends. To exactly replicate our RSI numbers, a formula will need at least 250 data points.\n",
    "\n",
    "The formula normalizes RS and turns it into an oscillator that fluctuates between zero and 100. In fact, a plot of RS looks exactly the same as a plot of RSI. The normalization step makes it easier to identify extremes because RSI is range bound. RSI is 0 when the Average Gain equals zero. Assuming a 14-period RSI, a zero RSI value means prices moved lower all 14 periods. There were no gains to measure. RSI is 100 when the Average Loss equals zero. This means prices moved higher all 14 periods. There were no losses to measure. \n",
    "\n",
    "**Signals**\n",
    "* RSI values of 70 or above indicate that a security is becoming overbought or overvalued, and therefore, may be primed for a trend reversal or corrective [pullback](https://www.investopedia.com/terms/p/pullback.asp in price.\n",
    "* RSI reading of 30 or below is commonly interpreted as indicating an oversold or undervalued condition that may signal a trend change or corrective price reversal to the upside."
   ]
  },
  {
   "cell_type": "markdown",
   "metadata": {},
   "source": [
    "# Part 2: Theoretically Optimal Strategy\n",
    "\n",
    "Assume that you can see the future, but that you are constrained by the portfolio size and order limits as specified above. Create a set of trades that represents the best a strategy could possibly do during the **in sample period**. The reason we're having you do this is so that you will have an idea of an upper bound on performance.\n",
    "\n",
    "The intent is for you to use adjusted close prices with the market simulator that you wrote earlier in the course. For this activity, use 0.00, and 0.0 for commissions and impact respectively.\n",
    "\n",
    "**Main functions**\n",
    "\n",
    "* *Indicators:* Your code that implements your indicators as functions that operate on dataframes. The \"main\" code in indicators should generate the charts that illustrate your indicators in the report.\n",
    "* *Marketsimcode:* An improved version of your marketsim code that accepts a \"trades\" data frame (instead of a file). More info on the trades data frame below.\n",
    "* *ManualStrategy:* Code implementing a ManualStrategy object (your manual strategy). It should implement testPolicy() which returns a trades data frame (see below). The main part of this code should call marketsimcode as necessary to generate the plots used in the report.\n",
    "* *TheoreticallyOptimalStrategy:* Code implementing a TheoreticallyOptimalStrategy object (details below). It should implement testPolicy() which returns a trades data frame (see below). The main part of this code should call marketsimcode as necessary to generate the plots used in the report.\n",
    "\n",
    "Provide a chart that reports:\n",
    "\n",
    "    * Benchmark (see definition above) normalized to 1.0 at the start: Blue line\n",
    "    * Value of the theoretically optimal portfolio (normalized to 1.0 at the start): Black line\n",
    "\n",
    "You should also report in text:\n",
    "\n",
    "    * Cumulative return of the benchmark and portfolio\n",
    "    * Stdev of daily returns of benchmark and portfolio\n",
    "    * Mean of daily returns of benchmark and portfolio\n",
    "\n",
    "Your code should implement testPolicy() as follows:\n",
    "\n",
    "df_trades = tos.testPolicy(symbol = \"AAPL\", sd=dt.datetime(2010,1,1), ed=dt.datetime(2011,12,31), sv = 100000) \n",
    "\n",
    "**Input parameters**\n",
    "\n",
    "    * symbol: the stock symbol to act on\n",
    "    * sd: A datetime object that represents the start date\n",
    "    * ed: A datetime object that represents the end date\n",
    "    * sv: Start value of the portfolio\n",
    "\n",
    "**Output result**\n",
    "\n",
    "df_trades: A data frame whose values represent trades for each day. Legal values are +1000.0 indicating a BUY of 1000 shares, -1000.0 indicating a SELL of 1000 shares, and 0.0 indicating NOTHING. Values of +2000 and -2000 for trades are also legal so long as net holdings are constrained to -1000, 0, and 1000.\n",
    "\n",
    "\n"
   ]
  },
  {
   "cell_type": "markdown",
   "metadata": {},
   "source": [
    "## Import libraries"
   ]
  },
  {
   "cell_type": "code",
   "execution_count": 2,
   "metadata": {},
   "outputs": [
    {
     "data": {
      "text/html": [
       "<script>requirejs.config({paths: { 'plotly': ['https://cdn.plot.ly/plotly-latest.min']},});if(!window.Plotly) {{require(['plotly'],function(plotly) {window.Plotly=plotly;});}}</script>"
      ],
      "text/vnd.plotly.v1+html": [
       "<script>requirejs.config({paths: { 'plotly': ['https://cdn.plot.ly/plotly-latest.min']},});if(!window.Plotly) {{require(['plotly'],function(plotly) {window.Plotly=plotly;});}}</script>"
      ]
     },
     "metadata": {},
     "output_type": "display_data"
    }
   ],
   "source": [
    "# For Theoritically Optimal Strategy\n",
    "from marketsim import market_simulator\n",
    "from best_strategy import BestPossibleStrategy"
   ]
  },
  {
   "cell_type": "markdown",
   "metadata": {},
   "source": [
    "## Start and end dates for this period"
   ]
  },
  {
   "cell_type": "code",
   "execution_count": 3,
   "metadata": {},
   "outputs": [],
   "source": [
    "# Specify the start and end dates for this period.\n",
    "start_val = 100000\n",
    "symbol = \"JPM\""
   ]
  },
  {
   "cell_type": "markdown",
   "metadata": {},
   "source": [
    "## In-sample or training period performance\n",
    "\n",
    "Create a set of trades that represents the best a strategy could possibly do during the **in sample period**\n",
    "\n",
    "Chart:\n",
    "    * Benchmark (see definition above) normalized to 1.0 at the start: Blue line\n",
    "    * Value of the theoretically optimal portfolio (normalized to 1.0 at the start): Black line\n",
    "\n",
    "Report:\n",
    "    * Cumulative return of the benchmark and portfolio\n",
    "    * Stdev of daily returns of benchmark and portfolio\n",
    "    * Mean of daily returns of benchmark and portfolio"
   ]
  },
  {
   "cell_type": "code",
   "execution_count": null,
   "metadata": {},
   "outputs": [
    {
     "name": "stdout",
     "output_type": "stream",
     "text": [
      "Performances during training period for JPM\n",
      "Date Range: 2008-01-01 00:00:00 to 2009-12-31 00:00:00\n"
     ]
    }
   ],
   "source": [
    "start_d = dt.datetime(2008, 1, 1)\n",
    "end_d = dt.datetime(2009, 12, 31)\n",
    "\n",
    "# Get benchmark data\n",
    "benchmark_prices = get_data([symbol], pd.date_range(start_d, end_d), \n",
    "    addSPY=False).dropna()\n",
    "\n",
    "# Create benchmark trades: buy 1000 shares of symbol, hold them till the last date\n",
    "df_benchmark_trades = pd.DataFrame(\n",
    "    data=[(benchmark_prices.index.min(), symbol, \"BUY\", 1000), \n",
    "    (benchmark_prices.index.max(), symbol, \"SELL\", 1000)], \n",
    "    columns=[\"Date\", \"Symbol\", \"Order\", \"Shares\"])\n",
    "df_benchmark_trades.set_index(\"Date\", inplace=True)\n",
    "\n",
    "best_poss = BestPossibleStrategy()\n",
    "df_trades = best_poss.test_policy(symbol=symbol, start_date=start_d, end_date=end_d)\n",
    "\n",
    "# Retrieve performance stats via a market simulator\n",
    "print (\"Performances during training period for {}\".format(symbol))\n",
    "print (\"Date Range: {} to {}\".format(start_d, end_d))\n",
    "market_simulator(df_trades, df_benchmark_trades, start_val=start_val)\n"
   ]
  },
  {
   "cell_type": "markdown",
   "metadata": {},
   "source": [
    "## Out-of-sample or testing period"
   ]
  },
  {
   "cell_type": "code",
   "execution_count": null,
   "metadata": {},
   "outputs": [],
   "source": [
    "start_d = dt.datetime(2010, 1, 1)\n",
    "end_d = dt.datetime(2011, 12, 31)\n",
    "\n",
    "# Get benchmark data\n",
    "benchmark_prices = get_data([symbol], pd.date_range(start_d, end_d), \n",
    "    addSPY=False).dropna()\n",
    "\n",
    "# Create benchmark trades: buy 1000 shares of symbol, hold them till the last date\n",
    "df_benchmark_trades = pd.DataFrame(\n",
    "    data=[(benchmark_prices.index.min(), symbol, \"BUY\", 1000), \n",
    "    (benchmark_prices.index.max(), symbol, \"SELL\", 1000)], \n",
    "    columns=[\"Date\", \"Symbol\", \"Order\", \"Shares\"])\n",
    "df_benchmark_trades.set_index(\"Date\", inplace=True)\n",
    "\n",
    "best_poss = BestPossibleStrategy()\n",
    "df_trades = best_poss.test_policy(symbol=symbol, start_date=start_d, end_date=end_d)\n",
    "\n",
    "# Retrieve performance stats via a market simulator\n",
    "print (\"\\nPerformances during testing period for {}\".format(symbol))\n",
    "print (\"Date Range: {} to {}\".format(start_d, end_d))\n",
    "market_simulator(df_trades, df_benchmark_trades, start_val=start_val)\n"
   ]
  },
  {
   "cell_type": "markdown",
   "metadata": {},
   "source": [
    "# Part 3: Manual Rule-Based Trader"
   ]
  },
  {
   "cell_type": "markdown",
   "metadata": {},
   "source": [
    "## Data Details, Dates and Rules\n",
    "\n",
    "* For your report, trade only the symbol JPM. This will enable us to more easily compare results.\n",
    "* You may use data from other symbols (such as SPY) to inform your strategy.\n",
    "* The in sample/development period is January 1, 2008 to December 31 2009.\n",
    "* The out of sample/testing period is January 1, 2010 to December 31 2011.\n",
    "* Starting cash is 100,000.\n",
    "* Allowable positions are 1000 shares long, 1000 shares short, 0 shares.\n",
    "* Benchmark: The performance of a portfolio starting with 100,000 cash, investing in 1000 shares of JPM and holding that position.\n",
    "* There is no limit on leverage.\n",
    "* Transaction costs for ManualStrategy: Commission: 9.95, Impact: 0.005.\n",
    "* Transaction costs for TheoreticallyOptimalStrategy: Commission: 0.00, Impact: 0.00.\n",
    "\n"
   ]
  },
  {
   "cell_type": "markdown",
   "metadata": {},
   "source": [
    "### Starting cash and symbol of interest"
   ]
  },
  {
   "cell_type": "code",
   "execution_count": null,
   "metadata": {},
   "outputs": [],
   "source": [
    "# For Manual Rule-Based Trader\n",
    "from marketsim import market_simulator\n",
    "from indicators import get_momentum, get_sma_indicator, get_bollinger_bands, \\\n",
    "compute_bollinger_value, plot_momentum, plot_sma_indicator, plot_bollinger\n",
    "import rule_based_strategy as rbs"
   ]
  },
  {
   "cell_type": "code",
   "execution_count": null,
   "metadata": {},
   "outputs": [],
   "source": [
    "start_val = 100000\n",
    "symbol = \"JPM\""
   ]
  },
  {
   "cell_type": "markdown",
   "metadata": {},
   "source": [
    "### In-sample performance\n",
    "\n",
    "Show the performances of portfolio and benchmark in the in-sample period."
   ]
  },
  {
   "cell_type": "markdown",
   "metadata": {},
   "source": [
    "#### Specify the start and end dates for this period."
   ]
  },
  {
   "cell_type": "code",
   "execution_count": null,
   "metadata": {},
   "outputs": [],
   "source": [
    "start_d = dt.datetime(2008, 1, 1)\n",
    "end_d = dt.datetime(2009, 12, 31)"
   ]
  },
  {
   "cell_type": "markdown",
   "metadata": {
    "toc-hr-collapsed": false
   },
   "source": [
    "#### Get benchmark data"
   ]
  },
  {
   "cell_type": "code",
   "execution_count": null,
   "metadata": {},
   "outputs": [],
   "source": [
    "benchmark_prices = get_data([symbol], pd.date_range(start_d, end_d), addSPY=False).dropna()"
   ]
  },
  {
   "cell_type": "markdown",
   "metadata": {},
   "source": [
    "#### Create benchmark trades\n",
    "\n",
    "Buy 1000 shares of symbol, hold them till the last date"
   ]
  },
  {
   "cell_type": "code",
   "execution_count": null,
   "metadata": {},
   "outputs": [],
   "source": [
    "df_benchmark_trades = pd.DataFrame(\n",
    "        data=[(benchmark_prices.index.min(), symbol, \"BUY\", 1000), \n",
    "        (benchmark_prices.index.max(), symbol, \"SELL\", 1000)], \n",
    "        columns=[\"Date\", \"Symbol\", \"Order\", \"Shares\"])\n",
    "df_benchmark_trades.set_index(\"Date\", inplace=True)\n",
    "df_benchmark_trades"
   ]
  },
  {
   "cell_type": "code",
   "execution_count": null,
   "metadata": {},
   "outputs": [],
   "source": []
  },
  {
   "cell_type": "code",
   "execution_count": null,
   "metadata": {},
   "outputs": [],
   "source": []
  }
 ],
 "metadata": {
  "kernelspec": {
   "display_name": "Python 3",
   "language": "python",
   "name": "python3"
  },
  "language_info": {
   "codemirror_mode": {
    "name": "ipython",
    "version": 3
   },
   "file_extension": ".py",
   "mimetype": "text/x-python",
   "name": "python",
   "nbconvert_exporter": "python",
   "pygments_lexer": "ipython3",
   "version": "3.6.4"
  },
  "toc-autonumbering": true,
  "toc-showmarkdowntxt": true
 },
 "nbformat": 4,
 "nbformat_minor": 2
}
