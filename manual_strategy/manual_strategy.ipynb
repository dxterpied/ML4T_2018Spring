{
 "cells": [
  {
   "cell_type": "markdown",
   "metadata": {
    "slideshow": {
     "slide_type": "slide"
    }
   },
   "source": [
    "# Manual strategy\n",
    "ML for trading Udacity Course exercise\n",
    "\n",
    "More info:\n",
    "https://quantsoftware.gatech.edu/Manual_strategy\n",
    "\n",
    "A transcription of the Udacity Course lectures can be find on https://docs.google.com/document/d/1ELqlnuTSdc9-MDHOkV0uvSY4RmI1eslyQlU9DgOY_jc/edit?usp=sharing\n",
    "\n",
    "Kairoart 2018\n",
    "\"\"\"\n"
   ]
  },
  {
   "cell_type": "markdown",
   "metadata": {
    "slideshow": {
     "slide_type": "subslide"
    }
   },
   "source": [
    "## Overview\n",
    "\n",
    "In this project you will develop a trading strategy using your intuition and Technical Analysis, and test it against a stock using your market simulator. In a later project, you will use your same indicators but with Machine Learning (instead of your intuition) to create a trading strategy. We hope Machine Learning will do better than your intuition, but who knows? "
   ]
  },
  {
   "cell_type": "markdown",
   "metadata": {
    "slideshow": {
     "slide_type": "subslide"
    }
   },
   "source": [
    "## Data Details, Dates and Rules\n",
    "\n",
    "* For your report, trade only the symbol JPM. This will enable us to more easily compare results.\n",
    "* You may use data from other symbols (such as SPY) to inform your strategy.\n",
    "* The in sample/development period is January 1, 2008 to December 31 2009.\n",
    "* The out of sample/testing period is January 1, 2010 to December 31 2011.\n",
    "* Starting cash is 100,000.\n",
    "* Allowable positions are 1000 shares long, 1000 shares short, 0 shares.\n",
    "* Benchmark: The performance of a portfolio starting with 100,000 cash, investing in 1000 shares of JPM and holding that position.\n",
    "* There is no limit on leverage.\n",
    "* Transaction costs for ManualStrategy: Commission: 9.95, Impact: 0.005.\n",
    "* Transaction costs for TheoreticallyOptimalStrategy: Commission: 0.00, Impact: 0.00.\n",
    "\n"
   ]
  },
  {
   "cell_type": "markdown",
   "metadata": {
    "slideshow": {
     "slide_type": "subslide"
    }
   },
   "source": [
    "## Task\n",
    "\n",
    "Your code that implements your indicators as functions that operate on dataframes. The code should generate the charts that illustrate your indicators in the report.\n",
    "\n",
    "**Indicators**\n",
    "\n",
    "We'll use three tecnical indicators:\n",
    "* Bolliner Bands.\n",
    "* Simple Moving Average (SMA)\n",
    "* Relative Strength Index (RSI)"
   ]
  },
  {
   "cell_type": "markdown",
   "metadata": {},
   "source": [
    "## Import libraries"
   ]
  },
  {
   "cell_type": "code",
   "execution_count": 1,
   "metadata": {},
   "outputs": [
    {
     "ename": "SyntaxError",
     "evalue": "invalid syntax (indicators.py, line 412)",
     "output_type": "error",
     "traceback": [
      "Traceback \u001b[0;36m(most recent call last)\u001b[0m:\n",
      "  File \u001b[1;32m\"/home/emi/anaconda3/lib/python3.6/site-packages/IPython/core/interactiveshell.py\"\u001b[0m, line \u001b[1;32m2910\u001b[0m, in \u001b[1;35mrun_code\u001b[0m\n    exec(code_obj, self.user_global_ns, self.user_ns)\n",
      "\u001b[0;36m  File \u001b[0;32m\"<ipython-input-1-4460bf569255>\"\u001b[0;36m, line \u001b[0;32m15\u001b[0;36m, in \u001b[0;35m<module>\u001b[0;36m\u001b[0m\n\u001b[0;31m    import indicators\u001b[0m\n",
      "\u001b[0;36m  File \u001b[0;32m\"/home/emi/Jupyter/ML4T_2018Spring/manual_strategy/indicators.py\"\u001b[0;36m, line \u001b[0;32m412\u001b[0m\n\u001b[0;31m    y=perform_df.loc['Sharpe Ratio'][0],\u001b[0m\n\u001b[0m    ^\u001b[0m\n\u001b[0;31mSyntaxError\u001b[0m\u001b[0;31m:\u001b[0m invalid syntax\n"
     ]
    }
   ],
   "source": [
    "import pandas as pd\n",
    "import numpy as np\n",
    "import datetime as dt\n",
    "import math\n",
    "import matplotlib.pyplot as plt\n",
    "%matplotlib inline\n",
    "\n",
    "\n",
    "# Add parent directory PATH for looking for modules,\n",
    "import sys\n",
    "#sys.path.insert(0,'..')\n",
    "from util import get_data, plot_data\n",
    "\n",
    "# Indicators\n",
    "import indicators\n",
    "from indicators import get_momentum, get_rolling_mean, get_rolling_std, get_bollinger_bands, get_sma, get_RSI, plot_bollinger,  plot_momentum, plot_sma_indicator, plot_rsi_indicator\n",
    "\n"
   ]
  },
  {
   "cell_type": "markdown",
   "metadata": {
    "slideshow": {
     "slide_type": "subslide"
    }
   },
   "source": [
    "## Part 1: Technical Indicators\n",
    "\n",
    "Develop and describe at least 3 and at most 5 technical indicators. You may find our lecture on time series processing to be helpful. For each indicator you should create a single, compelling chart that illustrates the indicator.\n",
    "\n",
    "As an example, you might create a chart that shows the price history of the stock, along with \"helper data\" (such as upper and lower bollinger bands) and the value of the indicator itself. Another example: If you were using price/SMA as an indicator you would want to create a chart with 3 lines: Price, SMA, Price/SMA. In order to facilitate visualization of the indicator you might normalize the data to 1.0 at the start of the date range (i.e. divide price[t] by price[0]).\n",
    "\n",
    "Your report description of each indicator should enable someone to reproduce it just by reading the description. We want a written description here, not code, however, it is OK to augment your written description with a pseudocode figure.\n",
    "\n",
    "At least one of the indicators you use should be completely different from the ones presented in our lectures. (i.e. something other than SMA, Bollinger Bands, RSI). "
   ]
  },
  {
   "cell_type": "markdown",
   "metadata": {},
   "source": [
    "### Momentum"
   ]
  },
  {
   "cell_type": "code",
   "execution_count": null,
   "metadata": {},
   "outputs": [],
   "source": [
    "\"\"\"Momentum.\"\"\"\n",
    "\n",
    "def test_run(plotly=False):\n",
    "    # Read data\n",
    "    dates = pd.date_range('2008-01-01', '2009-12-31')\n",
    "    symbols = ['JPM']\n",
    "    df = get_data(symbols, dates)\n",
    "\n",
    "    # 1. Normalize the prices Dataframe\n",
    "    normed = pd.DataFrame()\n",
    "    for column in df:\n",
    "        normed[column] = df[column].values / df[column].iloc[0];\n",
    "    \n",
    "    # 2. Compute momentum\n",
    "    sym_mom = get_momentum(normed[column], window=5)\n",
    "\n",
    "    # 3. Plot raw JPM values and Momentym\n",
    "    plot_momentum(dates, df.index, normed[column], sym_mom, title=\"Momentum Indicator\",\n",
    "                  fig_size=(12, 6))\n",
    "    \n",
    "    #plot_momentum(normed[column], sym_mom, title=\"Momentum Indicator\",\n",
    "    #              fig_size=(12, 6))"
   ]
  },
  {
   "cell_type": "code",
   "execution_count": null,
   "metadata": {},
   "outputs": [],
   "source": [
    "test_run()"
   ]
  },
  {
   "cell_type": "markdown",
   "metadata": {},
   "source": [
    "#### Description\n",
    "\n",
    "**Type**\n",
    "It's a trend indicator.\n",
    "\n",
    "**Momentum**\n",
    "\n",
    "* It refers to the rate of change on price movements for a particular asset – that is, the speed at which the price is changing.\n",
    "* If a trader wants to use a momentum-based strategy, he takes a long position in a stock or asset that has been trending up. If the stock is trending down, he takes a short position. Instead of the traditional philosophy of trading – buy low, sell high – momentum investing seeks to sell low and buy lower, or buy high and sell higher.\n",
    "\n",
    "**Buy signal**\n",
    "\n",
    "If the trend line is up, the momentum investor buys the stock.\n",
    "\n",
    "\n",
    "**Sell signal**\n",
    "\n",
    "If the trend line is down, the momentum investor sells the stock.\n"
   ]
  },
  {
   "cell_type": "markdown",
   "metadata": {},
   "source": [
    "### Bollinger Bands"
   ]
  },
  {
   "cell_type": "code",
   "execution_count": null,
   "metadata": {},
   "outputs": [],
   "source": [
    "\"\"\"Bollinger Bands.\"\"\"\n",
    "\n",
    "def test_run(plotly=False):\n",
    "    # Read data\n",
    "    dates = pd.date_range('2008-01-01', '2009-12-31')\n",
    "    symbols = ['JPM']\n",
    "    df = get_data(symbols, dates)\n",
    "\n",
    "    # Compute Bollinger Bands\n",
    "    # 1. Compute rolling mean\n",
    "    rm_JPM = get_rolling_mean(df['JPM'], window=10)\n",
    "\n",
    "    # 2. Compute rolling standard deviation\n",
    "    rstd_JPM = get_rolling_std(df['JPM'], window=10)\n",
    "\n",
    "    # 3. Compute upper and lower bands\n",
    "    upper_band, lower_band = get_bollinger_bands(rm_JPM, rstd_JPM)\n",
    "    \n",
    "    # 4. Plot raw JPM values, rolling mean and Bollinger Bands\n",
    "    plot_bollinger(dates, df.index, df['JPM'], upper_band, lower_band, rm_JPM, \n",
    "                   num_std=1, title=\"Bollinger Indicator\", fig_size=(12, 6))"
   ]
  },
  {
   "cell_type": "code",
   "execution_count": null,
   "metadata": {},
   "outputs": [],
   "source": [
    "test_run()"
   ]
  },
  {
   "cell_type": "markdown",
   "metadata": {},
   "source": [
    "### Simple moving average (SMA)\n"
   ]
  },
  {
   "cell_type": "code",
   "execution_count": null,
   "metadata": {},
   "outputs": [],
   "source": [
    "\"\"\"Simple moving average (SMA)\"\"\"\n",
    "\n",
    "def test_run(plotly=False):\n",
    "    # Read data\n",
    "    dates = pd.date_range('2008-01-01', '2009-12-31')\n",
    "    symbols = ['JPM']\n",
    "    df = get_data(symbols, dates)\n",
    "\n",
    "    # 1. Normalize the prices Dataframe\n",
    "    normed = pd.DataFrame()\n",
    "    for column in df:\n",
    "        normed[column] = df[column].values / df[column].iloc[0];\n",
    "    \n",
    "    # 2. Compute SMA\n",
    "    sma_JPM, q = get_sma(normed[column], window=10)\n",
    "\n",
    "    # 3. Plot symbol values, SMA and SMA quality\n",
    "    plot_sma_indicator(dates, df.index, normed[column], sma_JPM, q, \"Simple Moving Average (SMA)\")\n",
    "        \n",
    "    "
   ]
  },
  {
   "cell_type": "code",
   "execution_count": null,
   "metadata": {},
   "outputs": [],
   "source": [
    "test_run(False)"
   ]
  },
  {
   "cell_type": "markdown",
   "metadata": {},
   "source": [
    "#### Description\n",
    "\n",
    "The moving average is one of the most widely used technical indicators. It is used along with other technical indicators or it can form the building block for the computation of other technical indicators.\n",
    "\n",
    "A “moving average” is average of the asset prices over the “x” number of days/weeks. The term “moving” is used because the group of data moves forward with each new trading day. For each new day, we include the price of that day and exclude the price of the first day in the data sequence.\n",
    "\n",
    "**Type**\n",
    "It's a trend indicator.\n",
    "\n",
    "**Estimation**\n",
    "\n",
    "To compute a 10-day window SMA, we take the sum of prices over 10 days and divide it by 10. To arrive at the next data point for the 20-day SMA, we include the price of the next trading day while excluding the price of the first trading day. This way the group of data moves forward.\n",
    "\n",
    "The SMA assigns equal weights to each price point in the group. \n",
    "\n",
    "**Analysis**\n",
    "\n",
    "The moving average tells whether a trend has begun, ended or reversed. The averaging of the prices produces a smoother line which makes it easier to identify the underlying trend. However, the moving average lags the market action.\n",
    "\n",
    "A shorter moving average is more sensitive than a longer moving average. However, it is prone to generate false trading signals.\n",
    "\n",
    "**Signals**\n",
    "\n",
    "When the *closing price moves above the moving average, a buy signal is generated and vice versa*.  When using a single moving average one should select the averaging period in such a way that it is sensitive in generating trading signals and at the same time insensitive in giving out false signals.\n",
    "\n",
    "**Quantifying**\n",
    "\n",
    "We lso need a way to quantify it, to turn it into a number.\n",
    "The way we do that is to compare the current price with the current simple moving average, and construct a ratio.\n",
    "So, if, for instance, the price is 10% above the simple moving average, we'd end up getting a positive 0.1.\n",
    "If it were 10% below, we'd get a negative 0.1.\n"
   ]
  },
  {
   "cell_type": "markdown",
   "metadata": {},
   "source": [
    "### Relative Strength Index (RSI)"
   ]
  },
  {
   "cell_type": "code",
   "execution_count": null,
   "metadata": {},
   "outputs": [],
   "source": [
    "   \n",
    "def test_run():\n",
    "    # Read data\n",
    "    dates = pd.date_range('2008-01-01', '2009-12-31')\n",
    "    symbols = ['JPM']\n",
    "    df = get_data(symbols, dates)\n",
    "\n",
    "    # 1. Compute RSI\n",
    "    rsi_JPM = get_RSI(df['JPM'])\n",
    "    \n",
    "    # 2. Plot RSI\n",
    "    plot_rsi_indicator(dates, df.index, df['JPM'], rsi_JPM, window=14, \n",
    "                       title=\"RSI Indicator\", fig_size=(12, 6))\n"
   ]
  },
  {
   "cell_type": "code",
   "execution_count": null,
   "metadata": {},
   "outputs": [],
   "source": [
    "test_run()"
   ]
  },
  {
   "cell_type": "markdown",
   "metadata": {},
   "source": [
    "#### Description\n",
    "\n",
    "The Relative Strength Index - RSI is a momentum indicator that measures the magnitude of recent price changes to analyze [overbought](https://www.investopedia.com/terms/o/overbought.asp) or [oversold](https://www.investopedia.com/terms/o/oversold.asp) conditions. It is primarily used to attempt to identify overbought or oversold conditions in the trading of an asset.\n",
    "\n",
    "**Type**\n",
    "It's a momentum indicator.\n",
    "\n",
    "**Estimation**\n",
    "The relative strength index (RSI) is calculated using the following formula:\n",
    "\n",
    "RSI = 100 - 100 / (1 + RS)\n",
    "\n",
    "Where RS = Average gain of up periods during the specified time frame / Average loss of down periods during the specified time frame\n",
    "\n",
    "The RSI provides a relative evaluation of the strength of a security's recent price performance, thus making it a momentum indicator. RSI values range from 0 to 100. The default time frame for comparing up periods to down periods is 14, as in 14 trading days.\n",
    "\n",
    "**Analisys**\n",
    "Taking the prior value plus the current value is a smoothing technique similar to that used in calculating an exponential moving average. This also means that RSI values become more accurate as the calculation period extends. To exactly replicate our RSI numbers, a formula will need at least 250 data points.\n",
    "\n",
    "The formula normalizes RS and turns it into an oscillator that fluctuates between zero and 100. In fact, a plot of RS looks exactly the same as a plot of RSI. The normalization step makes it easier to identify extremes because RSI is range bound. RSI is 0 when the Average Gain equals zero. Assuming a 14-period RSI, a zero RSI value means prices moved lower all 14 periods. There were no gains to measure. RSI is 100 when the Average Loss equals zero. This means prices moved higher all 14 periods. There were no losses to measure. \n",
    "\n",
    "**Signals**\n",
    "\n",
    "* **Buy signal** occurs when the RSI moves below 50 and then back above it. \n",
    "* **Sell signal** occurs when the RSI moves above 50 and then back below it.\n",
    "* RSI values of 70 or above indicate that a security is becoming overbought or overvalued, and therefore, may be primed for a trend reversal or corrective [pullback](https://www.investopedia.com/terms/p/pullback.asp in price.\n",
    "* RSI reading of 30 or below is commonly interpreted as indicating an oversold or undervalued condition that may signal a trend change or corrective price reversal to the upside."
   ]
  },
  {
   "cell_type": "markdown",
   "metadata": {},
   "source": [
    "# Part 2: Theoretically Optimal Strategy\n",
    "\n",
    "Assume that you can see the future, but that you are constrained by the portfolio size and order limits as specified above. Create a set of trades that represents the best a strategy could possibly do during the **in sample period**. The reason we're having you do this is so that you will have an idea of an upper bound on performance.\n",
    "\n",
    "The intent is for you to use adjusted close prices with the market simulator that you wrote earlier in the course. For this activity, use 0.00, and 0.0 for commissions and impact respectively.\n",
    "\n",
    "**Main functions**\n",
    "\n",
    "* *Indicators:* Your code that implements your indicators as functions that operate on dataframes. The \"main\" code in indicators should generate the charts that illustrate your indicators in the report.\n",
    "* *Marketsimcode:* An improved version of your marketsim code that accepts a \"trades\" data frame (instead of a file). More info on the trades data frame below.\n",
    "* *ManualStrategy:* Code implementing a ManualStrategy object (your manual strategy). It should implement testPolicy() which returns a trades data frame (see below). The main part of this code should call marketsimcode as necessary to generate the plots used in the report.\n",
    "* *TheoreticallyOptimalStrategy:* Code implementing a TheoreticallyOptimalStrategy object (details below). It should implement testPolicy() which returns a trades data frame (see below). The main part of this code should call marketsimcode as necessary to generate the plots used in the report.\n",
    "\n",
    "Provide a chart that reports:\n",
    "\n",
    "    * Benchmark (see definition above) normalized to 1.0 at the start: Blue line\n",
    "    * Value of the theoretically optimal portfolio (normalized to 1.0 at the start): Black line\n",
    "\n",
    "You should also report in text:\n",
    "\n",
    "    * Cumulative return of the benchmark and portfolio\n",
    "    * Stdev of daily returns of benchmark and portfolio\n",
    "    * Mean of daily returns of benchmark and portfolio\n",
    "\n",
    "Your code should implement testPolicy() as follows:\n",
    "\n",
    "df_trades = tos.testPolicy(symbol = \"AAPL\", sd=dt.datetime(2010,1,1), ed=dt.datetime(2011,12,31), sv = 100000) \n",
    "\n",
    "**Input parameters**\n",
    "\n",
    "    * symbol: the stock symbol to act on\n",
    "    * sd: A datetime object that represents the start date\n",
    "    * ed: A datetime object that represents the end date\n",
    "    * sv: Start value of the portfolio\n",
    "\n",
    "**Output result**\n",
    "\n",
    "df_trades: A data frame whose values represent trades for each day. Legal values are +1000.0 indicating a BUY of 1000 shares, -1000.0 indicating a SELL of 1000 shares, and 0.0 indicating NOTHING. Values of +2000 and -2000 for trades are also legal so long as net holdings are constrained to -1000, 0, and 1000.\n",
    "\n",
    "\n"
   ]
  },
  {
   "cell_type": "markdown",
   "metadata": {},
   "source": [
    "## Import libraries"
   ]
  },
  {
   "cell_type": "code",
   "execution_count": null,
   "metadata": {},
   "outputs": [],
   "source": [
    "# For Theoritically Optimal Strategy\n",
    "from marketsim import market_simulator\n",
    "from best_strategy import BestPossibleStrategy"
   ]
  },
  {
   "cell_type": "markdown",
   "metadata": {},
   "source": [
    "## Starting cash and symbol of interest"
   ]
  },
  {
   "cell_type": "code",
   "execution_count": null,
   "metadata": {},
   "outputs": [],
   "source": [
    "# Specify the start and end dates for this period.\n",
    "start_val = 100000\n",
    "symbol = \"JPM\""
   ]
  },
  {
   "cell_type": "markdown",
   "metadata": {},
   "source": [
    "## In-sample or training period performance\n",
    "\n",
    "Create a set of trades that represents the best a strategy could possibly do during the **in sample period**\n",
    "\n",
    "Chart:\n",
    "    * Benchmark (see definition above) normalized to 1.0 at the start: Blue line\n",
    "    * Value of the theoretically optimal portfolio (normalized to 1.0 at the start): Black line\n",
    "\n",
    "Report:\n",
    "    * Cumulative return of the benchmark and portfolio\n",
    "    * Stdev of daily returns of benchmark and portfolio\n",
    "    * Mean of daily returns of benchmark and portfolio"
   ]
  },
  {
   "cell_type": "code",
   "execution_count": null,
   "metadata": {},
   "outputs": [],
   "source": [
    "# Start and end dates for this period\n",
    "start_d = dt.datetime(2008, 1, 1)\n",
    "end_d = dt.datetime(2009, 12, 31)\n",
    "\n",
    "# Get benchmark data\n",
    "benchmark_prices = get_data([symbol], pd.date_range(start_d, end_d), \n",
    "    addSPY=False).dropna()\n",
    "\n",
    "# Create benchmark trades: buy 1000 shares of symbol, hold them till the last date\n",
    "df_benchmark_trades = pd.DataFrame(\n",
    "    data=[(benchmark_prices.index.min(), symbol, \"BUY\", 1000), \n",
    "    (benchmark_prices.index.max(), symbol, \"SELL\", 1000)], \n",
    "    columns=[\"Date\", \"Symbol\", \"Order\", \"Shares\"])\n",
    "df_benchmark_trades.set_index(\"Date\", inplace=True)\n",
    "\n",
    "# Create an instance of BestPossibleStrategy\n",
    "best_poss = BestPossibleStrategy()\n",
    "df_trades = best_poss.test_policy(symbol=symbol, start_date=start_d, end_date=end_d)\n",
    "\n",
    "# Retrieve performance stats via a market simulator\n",
    "print (\"Performances during training period for {}\".format(symbol))\n",
    "print (\"Date Range: {} to {}\".format(start_d, end_d))\n",
    "market_simulator(df_trades, df_benchmark_trades, start_val=start_val, commission=0, \n",
    "    impact=0)\n"
   ]
  },
  {
   "cell_type": "markdown",
   "metadata": {},
   "source": [
    "# Part 3: Manual Rule-Based Trader\n",
    "\n",
    "In ManualStrategy.py implement a set of rules using the indicators you created in Part 1 above. Devise some simple logic using your indicators to enter and exit positions in the stock.\n",
    "\n",
    "A recommended approach is to create a single logical expression that yields a -1, 0, or 1, corresponding to a \"short,\" \"out\" or \"long\" position. Example usage this signal: If you are out of the stock, then a 1 would signal a BUY 1000 order. If you are long, a -1 would signal a SELL 2000 order. You don't have to follow this advice though, so long as you follow the trading rules outlined above. \n",
    "\n",
    "You should tweak your rules as best you can to get the best performance possible during the in sample period (do not peek at out of sample performance). Use your rule-based strategy to generate an orders dataframe over the in sample period, then run that dataframe through your market simulator to create a chart that includes the following components over the in sample period:\n",
    "\n",
    "    * Benchmark (see definition above) normalized to 1.0 at the start: Blue line\n",
    "    * Value of the rule-based portfolio (normalized to 1.0 at the start): Black line\n",
    "    * Vertical green lines indicating LONG entry points.\n",
    "    * Vertical red lines indicating SHORT entry points.\n",
    "\n"
   ]
  },
  {
   "cell_type": "markdown",
   "metadata": {},
   "source": [
    "## Import libraries"
   ]
  },
  {
   "cell_type": "code",
   "execution_count": null,
   "metadata": {},
   "outputs": [],
   "source": [
    "# For Manual Rule-Based Trader\n",
    "from marketsim import market_simulator\n",
    "from indicators import get_momentum, get_sma_indicator, get_bollinger_bands, \\\n",
    "compute_bollinger_value, plot_momentum, plot_sma_indicator, plot_bollinger\n",
    "from rule_based_strategy import RuleBasedStrategy"
   ]
  },
  {
   "cell_type": "markdown",
   "metadata": {},
   "source": [
    "## Starting cash and symbol of interest"
   ]
  },
  {
   "cell_type": "code",
   "execution_count": null,
   "metadata": {},
   "outputs": [],
   "source": [
    "start_val = 100000\n",
    "symbol = \"JPM\""
   ]
  },
  {
   "cell_type": "markdown",
   "metadata": {},
   "source": [
    "## In-sample performance\n",
    "\n",
    "Show the performances of portfolio and benchmark in the in-sample period."
   ]
  },
  {
   "cell_type": "code",
   "execution_count": null,
   "metadata": {},
   "outputs": [],
   "source": [
    "# Specify the start and end dates for this period.\n",
    "start_d = dt.datetime(2008, 1, 1)\n",
    "end_d = dt.datetime(2009, 12, 31)\n",
    "\n",
    "# Get benchmark data\n",
    "benchmark_prices = get_data([symbol], pd.date_range(start_d, end_d), addSPY=False).dropna()\n",
    "\n",
    "# Create benchmark trades: buy 1000 shares of symbol, hold them till the last date\n",
    "df_benchmark_trades = pd.DataFrame(\n",
    "        data=[(benchmark_prices.index.min(), symbol, \"BUY\", 1000), \n",
    "        (benchmark_prices.index.max(), symbol, \"SELL\", 1000)], \n",
    "        columns=[\"Date\", \"Symbol\", \"Order\", \"Shares\"])\n",
    "df_benchmark_trades.set_index(\"Date\", inplace=True)\n",
    "\n",
    "# Create an instance of RuleBasedStrategy\n",
    "rule_based = RuleBasedStrategy()\n",
    "df_trades = rule_based.test_policy(symbol=symbol, start_date=start_d, end_date=end_d)\n",
    "print (df_trades)\n",
    "\n",
    "# Retrieve performance stats via a market simulator\n",
    "print (\"\\nPerformances during testing period for {}\".format(symbol))\n",
    "print (\"Date Range: {} to {}\".format(start_d, end_d))\n",
    "sharpe_ratio_in, cum_ret_in, std_daily_ret_in, avg_daily_ret_in, final_value_in = market_simulator(df_trades, df_benchmark_trades, start_val=start_val, vertical_lines=True)\n",
    "\n"
   ]
  },
  {
   "cell_type": "markdown",
   "metadata": {},
   "source": [
    "### Description\n",
    "\n",
    "**Indicators**\n",
    "\n",
    "    1. Momentum: With a window=14\n",
    "    2. RSI (Relative Strengh Index)  \n",
    "    3. SMA (Simple Moving Average: With a window=30\n",
    "\n",
    "**Signals**\n",
    "\n",
    "    1. IF momentum < -0.07 then SELL.\n",
    "    2. If momentum > 0.14 then BUY.\n",
    "    3. If rsi_indicator < 50 then BUY.\n",
    "    4. If rsi_indicator > 50 then SELL.\n",
    "    5. if sma_indicator < 0.0 then BUY.\n",
    "    6. If sma_indicator > 0.0 then SELL.\n",
    "\n",
    "\n",
    "**Rules**\n",
    "\n",
    "We should BUY if momentum and RSI and SMA give BUY signals.\n",
    "We should SELL if momentum and RSI and SMA give SELL signals.\n",
    "\n",
    "**Chart**\n",
    "\n",
    "You can see the points of LONG entries, (red vertical lines) (BUY) and the SHORT ones (green vertical lines) (SELL)\n",
    "\n",
    "**Results**\n",
    "\n",
    "As you can see in the statistics above, our rule-based strategy have outperformed the benchmark over the in sample period.\n",
    "\n",
    "Final Portfolio Value: 112970.84\n",
    "Final Benchmark Value: 100819.25"
   ]
  },
  {
   "cell_type": "markdown",
   "metadata": {},
   "source": [
    "# Part 4: Comparative Analysis\n",
    "\n",
    "Evaluate the performance of your strategy in the out of sample period. Note that you should not train or tweak your approach on this data. You should use the classification learned using the in sample data only. Create a chart that shows, out of sample:\n",
    "\n",
    "    * Benchmark (see definition above) normalized to 1.0 at the start: Blue line\n",
    "    * Performance of manual strategy: Black line\n",
    "    * Both should be normalized to 1.0 at the start.\n",
    "\n",
    "Create a table that summarizes the performance of the stock, and the manual strategy for both in sample and out of sample periods. Explain WHY these differences occur. "
   ]
  },
  {
   "cell_type": "code",
   "execution_count": null,
   "metadata": {},
   "outputs": [],
   "source": [
    "# For Manual Rule-Based Trader\n",
    "from marketsim import market_simulator\n",
    "from indicators import get_momentum, get_sma_indicator, get_bollinger_bands, \\\n",
    "compute_bollinger_value, plot_momentum, plot_sma_indicator, plot_bollinger, plot_performance\n",
    "from rule_based_strategy import RuleBasedStrategy"
   ]
  },
  {
   "cell_type": "markdown",
   "metadata": {},
   "source": [
    "## Starting cash and symbol of interest"
   ]
  },
  {
   "cell_type": "code",
   "execution_count": null,
   "metadata": {},
   "outputs": [],
   "source": [
    "start_val = 100000\n",
    "symbol = \"JPM\""
   ]
  },
  {
   "cell_type": "markdown",
   "metadata": {},
   "source": [
    "## Out of sample performance\n",
    "\n",
    "Show the performances of portfolio and benchmark in the out of sample period."
   ]
  },
  {
   "cell_type": "code",
   "execution_count": null,
   "metadata": {},
   "outputs": [],
   "source": [
    "# Specify the start and end dates for this period.\n",
    "start_d = dt.datetime(2010, 1, 1)\n",
    "end_d = dt.datetime(2011, 12, 31)\n",
    "\n",
    "# Get benchmark data\n",
    "benchmark_prices = get_data([symbol], pd.date_range(start_d, end_d), addSPY=False).dropna()\n",
    "\n",
    "# Create benchmark trades: buy 1000 shares of symbol, hold them till the last date\n",
    "df_benchmark_trades = pd.DataFrame(\n",
    "        data=[(benchmark_prices.index.min(), symbol, \"BUY\", 1000), \n",
    "        (benchmark_prices.index.max(), symbol, \"SELL\", 1000)], \n",
    "        columns=[\"Date\", \"Symbol\", \"Order\", \"Shares\"])\n",
    "df_benchmark_trades.set_index(\"Date\", inplace=True)\n",
    "\n",
    "# Create an instance of RuleBasedStrategy\n",
    "rule_based = RuleBasedStrategy()\n",
    "df_trades = rule_based.test_policy(symbol=symbol, start_date=start_d, end_date=end_d)\n",
    "print (df_trades)\n",
    "\n",
    "# Retrieve performance stats via a market simulator\n",
    "print (\"\\nPerformances during testing period for {}\".format(symbol))\n",
    "print (\"Date Range: {} to {}\".format(start_d, end_d))\n",
    "sharpe_ratio_out, cum_ret_out, std_daily_ret_out, avg_daily_ret_out, final_value_out = market_simulator(df_trades, df_benchmark_trades, start_val=start_val, vertical_lines=True)\n",
    "\n"
   ]
  },
  {
   "cell_type": "markdown",
   "metadata": {},
   "source": [
    "## Stock Performance table\n",
    "\n",
    "Create a table that summarizes the performance of the stock, and the manual strategy for both in sample and out of sample periods. Explain WHY these differences occur. "
   ]
  },
  {
   "cell_type": "markdown",
   "metadata": {},
   "source": [
    "### Create a dataframe of in-sample and out sample portfolio data"
   ]
  },
  {
   "cell_type": "code",
   "execution_count": null,
   "metadata": {},
   "outputs": [],
   "source": [
    "# Dataframe columns\n",
    "columns = ['Indicator','In-sample', 'Out of sample']\n",
    "\n",
    "# Create and add data to dataframe\n",
    "perform_df = pd.DataFrame(columns=columns)\n",
    "perform_df.loc[len(perform_df)] = [\"Sharpe Ratio\", sharpe_ratio_in, sharpe_ratio_out]\n",
    "perform_df.loc[len(perform_df)] = [\"Cumulative Return\", cum_ret_in, cum_ret_out]\n",
    "perform_df.loc[len(perform_df)] = [\"Standard Deviation\", std_daily_ret_in, std_daily_ret_out]\n",
    "perform_df.loc[len(perform_df)] = [\"Average Daily Return\", avg_daily_ret_in, avg_daily_ret_out]\n",
    "perform_df.loc[len(perform_df)] = [\"Final Portfolio Value\", final_value_in, final_value_out]\n",
    "\n",
    "pedf = perform_df.set_index(\"Indicator\")\n",
    "pedf"
   ]
  },
  {
   "cell_type": "code",
   "execution_count": null,
   "metadata": {},
   "outputs": [],
   "source": [
    "print(pedf.loc['Sharpe Ratio'][0])\n",
    "\n"
   ]
  },
  {
   "cell_type": "markdown",
   "metadata": {},
   "source": [
    "### Plot In-sample and Out of sample performances"
   ]
  },
  {
   "cell_type": "code",
   "execution_count": null,
   "metadata": {},
   "outputs": [],
   "source": [
    "plot_performance(pedf)"
   ]
  },
  {
   "cell_type": "code",
   "execution_count": null,
   "metadata": {},
   "outputs": [],
   "source": []
  }
 ],
 "metadata": {
  "kernelspec": {
   "display_name": "Python 3",
   "language": "python",
   "name": "python3"
  },
  "language_info": {
   "codemirror_mode": {
    "name": "ipython",
    "version": 3
   },
   "file_extension": ".py",
   "mimetype": "text/x-python",
   "name": "python",
   "nbconvert_exporter": "python",
   "pygments_lexer": "ipython3",
   "version": "3.6.4"
  },
  "toc-autonumbering": true,
  "toc-showmarkdowntxt": true
 },
 "nbformat": 4,
 "nbformat_minor": 2
}
