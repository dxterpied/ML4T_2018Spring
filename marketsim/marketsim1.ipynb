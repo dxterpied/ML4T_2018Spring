{
 "cells": [
  {
   "cell_type": "markdown",
   "metadata": {},
   "source": [
    "# Market Simulator\n",
    "ML for trading Udacity Course exercise\n",
    "\n",
    "More info:\n",
    "https://quantsoftware.gatech.edu/Marketsim\n",
    "\n",
    "A transcription of the Udacity Course lectures can be find on https://docs.google.com/document/d/1ELqlnuTSdc9-MDHOkV0uvSY4RmI1eslyQlU9DgOY_jc/edit?usp=sharing\n",
    "\n",
    "Kairoart 2018\n",
    "\n"
   ]
  },
  {
   "cell_type": "markdown",
   "metadata": {},
   "source": [
    "## Overview\n",
    "\n",
    "In this project you will create a market simulator that accepts trading orders and keeps track of a portfolio's value over time and then assesses the performance of that portfolio. "
   ]
  },
  {
   "cell_type": "markdown",
   "metadata": {
    "toc-hr-collapsed": false
   },
   "source": [
    "## Part 1: Create a market simulation function\n",
    "\n",
    "Your job is to implement your market simulator as a function, compute_portvals() that returns a dataframe with one column. It should adhere to the following API: \n",
    "\n",
    "    def compute_portvals(orders_file = \"./orders/orders.csv\", start_val = 1000000, commission = 9.95, impact = 0.005):\n",
    "        # TODO: Your code here\n",
    "        return portvals\n",
    "\n",
    "The start date and end date of the simulation are the first and last dates with orders in the orders_file. The arguments are as follows:\n",
    "\n",
    "    orders_file is the name of a file from which to read orders, and\n",
    "    start_val is the starting value of the portfolio (initial cash available)\n",
    "    commission is the fixed amount in dollars charged for each transaction (both entry and exit)\n",
    "    impact is the amount the price moves against the trader compared to the historical data at each transaction\n",
    "\n",
    "\n",
    "The files containing orders are CSV files with the following columns:\n",
    "\n",
    "    Date (yyyy-mm-dd)\n",
    "    Symbol (e.g. AAPL, GOOG)\n",
    "    Order (BUY or SELL)\n",
    "    Shares (no. of shares to trade)\n",
    "\n",
    "For example: \n",
    "\n",
    "    Date,Symbol,Order,Shares\n",
    "    2008-12-3,AAPL,BUY,130\n",
    "    2008-12-8,AAPL,SELL,130\n",
    "    2008-12-5,IBM,BUY,50\n"
   ]
  },
  {
   "cell_type": "markdown",
   "metadata": {},
   "source": [
    "### Goal\n",
    "\n",
    "**Process Orders** \n",
    "Your simulator should calculate the total value of the portfolio for each day using adjusted closing prices. The value for each day is cash plus the current value of equities. The resulting data frame should contain values like this: \n",
    "\n",
    "    2008, 12, 3, 1000000\n",
    "    2008, 12, 4, 1000010\n",
    "    2008, 12, 5, 1000250\n",
    "    ...\n",
    "\n",
    "**Portfolio stats**\n",
    "You should write your own additional helper function to call compute_portvals() with your own test cases. We suggest that you report the following factors:\n",
    "\n",
    "    * Plot the price history over the trading period.\n",
    "    * Sharpe ratio (Always assume you have 252 trading days in an year. And risk free rate = 0) of the total portfolio\n",
    "    * Cumulative return of the total portfolio\n",
    "    * Standard deviation of daily returns of the total portfolio\n",
    "    * Average daily return of the total portfolio\n",
    "    * Ending value of the portfolio"
   ]
  },
  {
   "cell_type": "markdown",
   "metadata": {},
   "source": [
    "### How it should work\n",
    "\n",
    "Your code should keep account of how many shares of each stock are in the portfolio on each day and how much cash is available on each day. Note that negative shares and negative cash are possible. Negative shares mean that the portfolio is in a short position for that stock. Negative cash means that you've borrowed money from the broker.\n",
    "\n",
    "When a BUY order occurs, you should add the appropriate number of shares to the count for that stock and subtract the appropriate cost of the shares from the cash account. The cost should be determined using the adjusted close price for that stock on that day.\n",
    "\n",
    "When a SELL order occurs, it works in reverse: You should subtract the number of shares from the count and add to the cash account. "
   ]
  },
  {
   "cell_type": "markdown",
   "metadata": {},
   "source": [
    "### Import libraries"
   ]
  },
  {
   "cell_type": "code",
   "execution_count": 13,
   "metadata": {},
   "outputs": [
    {
     "data": {
      "text/html": [
       "<script>requirejs.config({paths: { 'plotly': ['https://cdn.plot.ly/plotly-latest.min']},});if(!window.Plotly) {{require(['plotly'],function(plotly) {window.Plotly=plotly;});}}</script>"
      ],
      "text/vnd.plotly.v1+html": [
       "<script>requirejs.config({paths: { 'plotly': ['https://cdn.plot.ly/plotly-latest.min']},});if(!window.Plotly) {{require(['plotly'],function(plotly) {window.Plotly=plotly;});}}</script>"
      ]
     },
     "metadata": {},
     "output_type": "display_data"
    }
   ],
   "source": [
    "import datetime as dt\n",
    "import matplotlib.pyplot as plt\n",
    "import pandas as pd\n",
    "import numpy as np\n",
    "import operator\n",
    "import sys\n",
    "import csv\n",
    "import math\n",
    "\n",
    "# To fetch data\n",
    "from pandas_datareader import data as pdr   \n",
    "import fix_yahoo_finance as yf  \n",
    "yf.pdr_override()   \n",
    "\n",
    "# Add plotly for interactive charts\n",
    "from plotly.offline import init_notebook_mode, iplot\n",
    "init_notebook_mode(connected=True)\n",
    "import plotly.plotly as py\n",
    "import plotly.graph_objs as go\n",
    "from plotly import tools"
   ]
  },
  {
   "cell_type": "markdown",
   "metadata": {},
   "source": [
    "### Read orders from file"
   ]
  },
  {
   "cell_type": "code",
   "execution_count": 2,
   "metadata": {},
   "outputs": [],
   "source": [
    "def readOrdersFileIntoDF(filename):\n",
    "\n",
    "    ordersDataFrame = pd.read_csv(filename,  parse_dates=['Date'], index_col=\"Date\")\n",
    "    \n",
    "    \n",
    "    # Getting the Symbols from the Orders. This list will be required for fetching the prices\n",
    "    symbolList = list(set(ordersDataFrame['Symbol']))\n",
    "    \n",
    "    # Returning it.\n",
    "    return ordersDataFrame, symbolList"
   ]
  },
  {
   "cell_type": "markdown",
   "metadata": {},
   "source": [
    "### Get data from Yahoo for the given dates "
   ]
  },
  {
   "cell_type": "code",
   "execution_count": 10,
   "metadata": {},
   "outputs": [],
   "source": [
    "def fetchData(dt_start, dt_end, ls_symbols):\n",
    "\n",
    "    # Add a day to dt_end for Yahoo purpose\n",
    "    dt_end = pd.to_datetime(dt_end) + pd.DateOffset(days=1)\n",
    "    \n",
    "    # Get data of trading days between the start and the end.\n",
    "    df = pdr.get_data_yahoo(\n",
    "            # tickers list (single tickers accepts a string as well)\n",
    "            tickers = ls_symbols,\n",
    "\n",
    "            # start date (YYYY-MM-DD / datetime.datetime object)\n",
    "            # (optional, defaults is 1950-01-01)\n",
    "            start = dt_start,\n",
    "\n",
    "            # end date (YYYY-MM-DD / datetime.datetime object)\n",
    "            # (optional, defaults is Today)\n",
    "            end = dt_end,\n",
    "\n",
    "            # return a multi-index dataframe\n",
    "            # (optional, default is Panel, which is deprecated)\n",
    "            as_panel = False,\n",
    "\n",
    "            # group by ticker (to access via data['SPY'])\n",
    "            # (optional, default is 'column')\n",
    "            group_by = 'ticker',\n",
    "\n",
    "            # adjust all OHLC automatically\n",
    "            # (optional, default is False)\n",
    "            auto_adjust = False\n",
    "    )\n",
    "    #print(df)    \n",
    "    # Getting the numpy ndarray of Adj Close prices.\n",
    "    adj_close_price = df.loc[:, (slice(None), ('Adj Close'))]\n",
    "\n",
    "    \n",
    "    # returning the Adj Closed prices for all the days    \n",
    "    return adj_close_price"
   ]
  },
  {
   "cell_type": "markdown",
   "metadata": {},
   "source": [
    "### Market simulator"
   ]
  },
  {
   "cell_type": "code",
   "execution_count": 4,
   "metadata": {},
   "outputs": [],
   "source": [
    "def marketsim(initialCash, ordersdf, symbols):\n",
    "\n",
    "    # reading the boundary dates\n",
    "    dt_start = ordersdf.index[0]\n",
    "    dt_end = ordersdf.index[len(ordersdf)-1]\n",
    "\n",
    "    # All the adjustedClosingPrices fetched from NYSE within the range and for given symbols\n",
    "    closingPrices = fetchData(dt_start, dt_end, symbols)\n",
    "    num_tradingDays = len(closingPrices)\n",
    "    #print(closingPrices)\n",
    "    \n",
    "    #Cash for the days\n",
    "    temp = np.zeros((num_tradingDays, 1))\n",
    "    cash = pd.DataFrame(temp, columns = ['cashinhand'])\n",
    "    \n",
    "    #Value for the days\n",
    "    temp = np.zeros((num_tradingDays, 1))\n",
    "    valueFrame = pd.DataFrame(temp, columns = ['valueOfPortfolio'])\n",
    "\n",
    "    #Setting the first value to be the initial cash amount.\n",
    "    cash.cashinhand.loc[0] = initialCash\n",
    "    \n",
    "    index = 0\n",
    " \n",
    "    for tradingDayIndex in range(num_tradingDays):  \n",
    "        if tradingDayIndex != 0:\n",
    "            cash.cashinhand.iloc[tradingDayIndex] = cash.cashinhand.iloc[tradingDayIndex - 1] \n",
    "        else:\n",
    "            cash.cashinhand.iloc[tradingDayIndex] = initialCash\n",
    "          \n",
    "        for tradingOrder in ordersdf.index:\n",
    "            if tradingOrder == closingPrices.index[tradingDayIndex]:\n",
    "                if ordersdf.Order.iloc[index] == 'BUY':\n",
    "                    toBuySymbol = ordersdf.Symbol.iloc[index]\n",
    "                    toBuy = symbols.index(toBuySymbol)\n",
    "                    numShares = ordersdf.Shares.iloc[index]\n",
    "                    priceForTheDay = closingPrices.iloc[tradingDayIndex][toBuy]\n",
    "                    cash.cashinhand.iloc[tradingDayIndex] = cash.cashinhand.iloc[tradingDayIndex] - (priceForTheDay * float(numShares))\n",
    "                    print(\"Date: \", tradingOrder,\n",
    "                          \"Symbol: \", toBuySymbol,\n",
    "                          \"Order: \", ordersdf.Order.iloc[index],\n",
    "                          \"Shares: \", numShares,\n",
    "                          \"Price: \", priceForTheDay,\n",
    "                          \"Cash: \", cash.cashinhand.iloc[tradingDayIndex] )\n",
    "                elif ordersdf.Order.iloc[index] == 'SELL':\n",
    "                    toSellSymbol = ordersdf.Symbol.iloc[index]\n",
    "                    toSell = symbols.index(toSellSymbol)\n",
    "                    numShares = ordersdf.Shares.iloc[index]\n",
    "                    priceForTheDay = closingPrices.iloc[tradingDayIndex][toSell]\n",
    "                    cash.cashinhand.iloc[tradingDayIndex] = cash.cashinhand.iloc[tradingDayIndex] + (priceForTheDay * float(numShares))\n",
    "                    print(\"Date: \", tradingOrder,\n",
    "                          \"Symbol: \", toSellSymbol,\n",
    "                          \"Order: \", ordersdf.Order.iloc[index],\n",
    "                          \"Shares: \", numShares,\n",
    "                          \"Price: \", priceForTheDay,\n",
    "                          \"Cash: \", cash.cashinhand.iloc[tradingDayIndex] )\n",
    "                else:\n",
    "                    print(\"error\")\n",
    "                index+=1\n",
    "        \n",
    "\n",
    "        valueFrame['valueOfPortfolio'] = cash['cashinhand'].values\n",
    "        \n",
    "    valueFrame.index = closingPrices.index\n",
    "\n",
    "    return valueFrame"
   ]
  },
  {
   "cell_type": "markdown",
   "metadata": {},
   "source": [
    "### Define market simulation function"
   ]
  },
  {
   "cell_type": "code",
   "execution_count": 19,
   "metadata": {},
   "outputs": [],
   "source": [
    "def compute_portvals(orders_file = \"./orders/orders-01.csv\", start_val = 1000000, commission = 9.95, impact = 0.005):\n",
    "    # TODO: Your code here\n",
    "    # Reading the data from the file, and getting a NumPy matrix\n",
    "    ordersDataFrame, symbols = readOrdersFileIntoDF(orders_file)\n",
    "\n",
    "    # Getting data from marketsim\n",
    "    print(\"List of transactions\")\n",
    "    valueFrame = marketsim(start_val, ordersDataFrame, symbols)\n",
    "    return valueFrame, symbols\n"
   ]
  },
  {
   "cell_type": "markdown",
   "metadata": {},
   "source": [
    "### Process Orders"
   ]
  },
  {
   "cell_type": "code",
   "execution_count": null,
   "metadata": {},
   "outputs": [],
   "source": [
    "# Define input parameters    \n",
    "of = \"./orders/orders-02.csv\"   \n",
    "sv = 1000000  \n",
    "    \n",
    "# Process orders \n",
    "portvals, symbols = compute_portvals(orders_file = of, start_val = sv)\n",
    "print(symbols)"
   ]
  },
  {
   "cell_type": "markdown",
   "metadata": {},
   "source": [
    "### Portfolio stats"
   ]
  },
  {
   "cell_type": "markdown",
   "metadata": {},
   "source": [
    "#### Plot the price history over the trading period."
   ]
  },
  {
   "cell_type": "code",
   "execution_count": null,
   "metadata": {},
   "outputs": [],
   "source": [
    "# reading the boundary dates\n",
    "dt_start = portvals.index[0]\n",
    "dt_end = portvals.index[len(portvals)-1]\n",
    "\n",
    "# Getting data from Yahoo\n",
    "values = fetchData(dt_start, dt_end, symbols)\n",
    "\n",
    "# Getting the symbol names\n",
    "columnNames = list(values.head(1)) \n",
    "symbols_dict = dict(columnNames)\n",
    "columnNames = list(symbols_dict.keys()) "
   ]
  },
  {
   "cell_type": "code",
   "execution_count": 22,
   "metadata": {},
   "outputs": [
    {
     "ename": "NameError",
     "evalue": "name 'df' is not defined",
     "output_type": "error",
     "traceback": [
      "\u001b[0;31m---------------------------------------------------------------------------\u001b[0m",
      "\u001b[0;31mNameError\u001b[0m                                 Traceback (most recent call last)",
      "\u001b[0;32m<ipython-input-22-2cfadf98ba74>\u001b[0m in \u001b[0;36m<module>\u001b[0;34m()\u001b[0m\n\u001b[1;32m      1\u001b[0m \u001b[0;34m\u001b[0m\u001b[0m\n\u001b[1;32m      2\u001b[0m trace_price1 = go.Scatter(\n\u001b[0;32m----> 3\u001b[0;31m                 \u001b[0mx\u001b[0m\u001b[0;34m=\u001b[0m\u001b[0mdf\u001b[0m\u001b[0;34m.\u001b[0m\u001b[0mindex\u001b[0m\u001b[0;34m,\u001b[0m\u001b[0;34m\u001b[0m\u001b[0m\n\u001b[0m\u001b[1;32m      4\u001b[0m                 \u001b[0my\u001b[0m\u001b[0;34m=\u001b[0m\u001b[0mvalues\u001b[0m\u001b[0;34m.\u001b[0m\u001b[0miloc\u001b[0m\u001b[0;34m[\u001b[0m\u001b[0;34m:\u001b[0m\u001b[0;34m,\u001b[0m\u001b[0;36m0\u001b[0m\u001b[0;34m]\u001b[0m\u001b[0;34m,\u001b[0m\u001b[0;34m\u001b[0m\u001b[0m\n\u001b[1;32m      5\u001b[0m                 \u001b[0mname\u001b[0m \u001b[0;34m=\u001b[0m \u001b[0mcolumnNames\u001b[0m\u001b[0;34m[\u001b[0m\u001b[0;36m0\u001b[0m\u001b[0;34m]\u001b[0m\u001b[0;34m,\u001b[0m\u001b[0;34m\u001b[0m\u001b[0m\n",
      "\u001b[0;31mNameError\u001b[0m: name 'df' is not defined"
     ]
    }
   ],
   "source": [
    "\n",
    "trace_price1 = go.Scatter(\n",
    "                x=df.index,\n",
    "                y=values.iloc[:,0],\n",
    "                name = columnNames[0],\n",
    "                line = dict(color = '#17BECF'),\n",
    "                opacity = 0.8)\n",
    "trace_price2 = go.Scatter(\n",
    "                x=df.index,\n",
    "                y=values.iloc[:,1],\n",
    "                name = columnNames[1],\n",
    "                line = dict(color = '#FF8000'),\n",
    "                opacity = 0.8)\n",
    "trace_price3 = go.Scatter(\n",
    "                x=df.index,\n",
    "                y=values.iloc[:,2],\n",
    "                name = columnNames[2],\n",
    "                line = dict(color = '#FF0000'),\n",
    "                opacity = 0.8)\n",
    "trace_price4 = go.Scatter(\n",
    "                x=df.index,\n",
    "                y=values.iloc[:,3],\n",
    "                name = columnNames[3],\n",
    "                line = dict(color = '#04B404'),\n",
    "                opacity = 0.8)\n",
    "data = [trace_price1, trace_price2, trace_price3, trace_price4]\n",
    "\n",
    "layout = dict(\n",
    "    title = \"Price History over the trading period\",\n",
    "    xaxis = dict(\n",
    "            title='Dates',\n",
    "            rangeselector=dict(\n",
    "                buttons=list([\n",
    "                    dict(count=1,\n",
    "                         label='1m',\n",
    "                         step='month',\n",
    "                         stepmode='backward'),\n",
    "                    dict(count=6,\n",
    "                         label='6m',\n",
    "                         step='month',\n",
    "                         stepmode='backward'),\n",
    "                    dict(step='all')\n",
    "                ])\n",
    "            ),\n",
    "            ),\n",
    "\n",
    "    yaxis = dict(\n",
    "            title='Price')\n",
    "\n",
    "    )\n",
    "\n",
    "\n",
    "\n",
    "fig = dict(data=data, layout=layout)\n",
    "iplot(fig)"
   ]
  },
  {
   "cell_type": "markdown",
   "metadata": {},
   "source": [
    "## Part 2: Part 2: Transaction Costs\n"
   ]
  },
  {
   "cell_type": "code",
   "execution_count": null,
   "metadata": {},
   "outputs": [],
   "source": []
  }
 ],
 "metadata": {
  "kernelspec": {
   "display_name": "Python 3",
   "language": "python",
   "name": "python3"
  },
  "language_info": {
   "codemirror_mode": {
    "name": "ipython",
    "version": 3
   },
   "file_extension": ".py",
   "mimetype": "text/x-python",
   "name": "python",
   "nbconvert_exporter": "python",
   "pygments_lexer": "ipython3",
   "version": "3.6.4"
  }
 },
 "nbformat": 4,
 "nbformat_minor": 2
}
