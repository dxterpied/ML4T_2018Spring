{
 "cells": [
  {
   "cell_type": "markdown",
   "metadata": {},
   "source": [
    "# Market Simulator\n",
    "ML for trading Udacity Course exercise\n",
    "\n",
    "More info:\n",
    "https://quantsoftware.gatech.edu/Marketsim\n",
    "\n",
    "A transcription of the Udacity Course lectures can be find on https://docs.google.com/document/d/1ELqlnuTSdc9-MDHOkV0uvSY4RmI1eslyQlU9DgOY_jc/edit?usp=sharing\n",
    "\n",
    "Kairoart 2018\n",
    "\n"
   ]
  },
  {
   "cell_type": "markdown",
   "metadata": {},
   "source": [
    "## Overview\n",
    "\n",
    "In this project you will create a market simulator that accepts trading orders and keeps track of a portfolio's value over time and then assesses the performance of that portfolio. "
   ]
  },
  {
   "cell_type": "markdown",
   "metadata": {
    "toc-hr-collapsed": false
   },
   "source": [
    "## Part 1: Create a market simulation function\n",
    "\n",
    "Your job is to implement your market simulator as a function, compute_portvals() that returns a dataframe with one column. It should adhere to the following API: \n",
    "\n",
    "    def compute_portvals(orders_file = \"./orders/orders.csv\", start_val = 1000000, commission = 9.95, impact = 0.005):\n",
    "        # TODO: Your code here\n",
    "        return portvals\n",
    "\n",
    "The start date and end date of the simulation are the first and last dates with orders in the orders_file. The arguments are as follows:\n",
    "\n",
    "    orders_file is the name of a file from which to read orders, and\n",
    "    start_val is the starting value of the portfolio (initial cash available)\n",
    "    commission is the fixed amount in dollars charged for each transaction (both entry and exit)\n",
    "    impact is the amount the price moves against the trader compared to the historical data at each transaction\n",
    "\n",
    "Return the result (portvals) as a single-column pandas.DataFrame (column name does not matter), containing the value of the portfolio for each trading day in the first column from start_date to end_date, inclusive.\n",
    "\n",
    "The files containing orders are CSV files with the following columns:\n",
    "\n",
    "    Date (yyyy-mm-dd)\n",
    "    Symbol (e.g. AAPL, GOOG)\n",
    "    Order (BUY or SELL)\n",
    "    Shares (no. of shares to trade)\n",
    "\n",
    "For example: \n",
    "\n",
    "    Date,Symbol,Order,Shares\n",
    "    2008-12-3,AAPL,BUY,130\n",
    "    2008-12-8,AAPL,SELL,130\n",
    "    2008-12-5,IBM,BUY,50\n"
   ]
  },
  {
   "cell_type": "markdown",
   "metadata": {},
   "source": [
    "### Goal\n",
    "\n",
    "Your simulator should calculate the total value of the portfolio for each day using adjusted closing prices (cash plus value of equities) and print the result to the file values.csv. The contents of the values.csv file should look something like this:\n",
    "\n",
    "    2008, 12, 3, 1000000\n",
    "    2008, 12, 4, 1000010\n",
    "    2008, 12, 5, 1000250\n",
    "    ...\n"
   ]
  },
  {
   "cell_type": "markdown",
   "metadata": {},
   "source": [
    "### How it should work\n",
    "\n",
    "Your code should keep account of how many shares of each stock are in the portfolio on each day and how much cash is available on each day. Note that negative shares and negative cash are possible. Negative shares mean that the portfolio is in a short position for that stock. Negative cash means that you've borrowed money from the broker.\n",
    "\n",
    "When a BUY order occurs, you should add the appropriate number of shares to the count for that stock and subtract the appropriate cost of the shares from the cash account. The cost should be determined using the adjusted close price for that stock on that day.\n",
    "\n",
    "When a SELL order occurs, it works in reverse: You should subtract the number of shares from the count and add to the cash account. "
   ]
  },
  {
   "cell_type": "markdown",
   "metadata": {},
   "source": [
    "### Report\n",
    "\n",
    "    * Plot the price history over the trading period.\n",
    "    * Sharpe ratio (Always assume you have 252 trading days in an year. And risk free rate = 0) of the total portfolio\n",
    "    Cumulative return of the total portfolio\n",
    "    Standard deviation of daily returns of the total portfolio\n",
    "    Average daily return of the total portfolio\n",
    "    Ending value of the portfolio"
   ]
  },
  {
   "cell_type": "code",
   "execution_count": null,
   "metadata": {},
   "outputs": [],
   "source": []
  }
 ],
 "metadata": {
  "kernelspec": {
   "display_name": "Python 3",
   "language": "python",
   "name": "python3"
  },
  "language_info": {
   "codemirror_mode": {
    "name": "ipython",
    "version": 3
   },
   "file_extension": ".py",
   "mimetype": "text/x-python",
   "name": "python",
   "nbconvert_exporter": "python",
   "pygments_lexer": "ipython3",
   "version": "3.6.4"
  }
 },
 "nbformat": 4,
 "nbformat_minor": 2
}
