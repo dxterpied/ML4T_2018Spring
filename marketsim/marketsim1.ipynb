{
 "cells": [
  {
   "cell_type": "markdown",
   "metadata": {},
   "source": [
    "# Market Simulator\n",
    "ML for trading Udacity Course exercise\n",
    "\n",
    "More info:\n",
    "https://quantsoftware.gatech.edu/Marketsim\n",
    "\n",
    "A transcription of the Udacity Course lectures can be find on https://docs.google.com/document/d/1ELqlnuTSdc9-MDHOkV0uvSY4RmI1eslyQlU9DgOY_jc/edit?usp=sharing\n",
    "\n",
    "Kairoart 2018\n",
    "\n"
   ]
  },
  {
   "cell_type": "markdown",
   "metadata": {},
   "source": [
    "## Overview\n",
    "\n",
    "In this project you will create a market simulator that accepts trading orders and keeps track of a portfolio's value over time and then assesses the performance of that portfolio. "
   ]
  },
  {
   "cell_type": "markdown",
   "metadata": {
    "toc-hr-collapsed": false
   },
   "source": [
    "## Part 1: Create a market simulation function\n",
    "\n",
    "Your job is to implement your market simulator as a function, compute_portvals() that returns a dataframe with one column. It should adhere to the following API: \n",
    "\n",
    "    def compute_portvals(orders_file = \"./orders/orders.csv\", start_val = 1000000, commission = 9.95, impact = 0.005):\n",
    "        # TODO: Your code here\n",
    "        return portvals\n",
    "\n",
    "The start date and end date of the simulation are the first and last dates with orders in the orders_file. The arguments are as follows:\n",
    "\n",
    "    orders_file is the name of a file from which to read orders, and\n",
    "    start_val is the starting value of the portfolio (initial cash available)\n",
    "    commission is the fixed amount in dollars charged for each transaction (both entry and exit)\n",
    "    impact is the amount the price moves against the trader compared to the historical data at each transaction\n",
    "\n",
    "Return the result (portvals) as a single-column pandas.DataFrame (column name does not matter), containing the value of the portfolio for each trading day in the first column from start_date to end_date, inclusive.\n",
    "\n",
    "The files containing orders are CSV files with the following columns:\n",
    "\n",
    "    Date (yyyy-mm-dd)\n",
    "    Symbol (e.g. AAPL, GOOG)\n",
    "    Order (BUY or SELL)\n",
    "    Shares (no. of shares to trade)\n",
    "\n",
    "For example: \n",
    "\n",
    "    Date,Symbol,Order,Shares\n",
    "    2008-12-3,AAPL,BUY,130\n",
    "    2008-12-8,AAPL,SELL,130\n",
    "    2008-12-5,IBM,BUY,50\n"
   ]
  },
  {
   "cell_type": "markdown",
   "metadata": {},
   "source": [
    "### Goal\n",
    "\n",
    "Your simulator should calculate the total value of the portfolio for each day using adjusted closing prices (cash plus value of equities) and print the result to the file values.csv. The contents of the values.csv file should look something like this:\n",
    "\n",
    "    2008, 12, 3, 1000000\n",
    "    2008, 12, 4, 1000010\n",
    "    2008, 12, 5, 1000250\n",
    "    ...\n"
   ]
  },
  {
   "cell_type": "markdown",
   "metadata": {},
   "source": [
    "### How it should work\n",
    "\n",
    "Your code should keep account of how many shares of each stock are in the portfolio on each day and how much cash is available on each day. Note that negative shares and negative cash are possible. Negative shares mean that the portfolio is in a short position for that stock. Negative cash means that you've borrowed money from the broker.\n",
    "\n",
    "When a BUY order occurs, you should add the appropriate number of shares to the count for that stock and subtract the appropriate cost of the shares from the cash account. The cost should be determined using the adjusted close price for that stock on that day.\n",
    "\n",
    "When a SELL order occurs, it works in reverse: You should subtract the number of shares from the count and add to the cash account. "
   ]
  },
  {
   "cell_type": "markdown",
   "metadata": {},
   "source": [
    "### Report\n",
    "\n",
    "    * Plot the price history over the trading period.\n",
    "    * Sharpe ratio (Always assume you have 252 trading days in an year. And risk free rate = 0) of the total portfolio\n",
    "    * Cumulative return of the total portfolio\n",
    "    * Standard deviation of daily returns of the total portfolio\n",
    "    * Average daily return of the total portfolio\n",
    "    * Ending value of the portfolio"
   ]
  },
  {
   "cell_type": "code",
   "execution_count": 1,
   "metadata": {},
   "outputs": [
    {
     "data": {
      "text/html": [
       "<script>requirejs.config({paths: { 'plotly': ['https://cdn.plot.ly/plotly-latest.min']},});if(!window.Plotly) {{require(['plotly'],function(plotly) {window.Plotly=plotly;});}}</script>"
      ],
      "text/vnd.plotly.v1+html": [
       "<script>requirejs.config({paths: { 'plotly': ['https://cdn.plot.ly/plotly-latest.min']},});if(!window.Plotly) {{require(['plotly'],function(plotly) {window.Plotly=plotly;});}}</script>"
      ]
     },
     "metadata": {},
     "output_type": "display_data"
    }
   ],
   "source": [
    "import datetime as dt\n",
    "import matplotlib.pyplot as plt\n",
    "import pandas as pd\n",
    "import numpy as np\n",
    "import operator\n",
    "import sys\n",
    "import csv\n",
    "import math\n",
    "\n",
    "# To fetch data\n",
    "from pandas_datareader import data as pdr   \n",
    "import fix_yahoo_finance as yf  \n",
    "yf.pdr_override()   \n"
   ]
  },
  {
   "cell_type": "markdown",
   "metadata": {},
   "source": [
    "### Read orders from file"
   ]
  },
  {
   "cell_type": "code",
   "execution_count": 2,
   "metadata": {},
   "outputs": [],
   "source": [
    "def readOrdersFileIntoDF(filename):\n",
    "\n",
    "    # opening the filename\n",
    "    fr = open(filename)\n",
    "    \n",
    "    # for row count in \n",
    "    index=0\n",
    "    \n",
    "    # Lists used for making the dataframe.\n",
    "    dtList = []\n",
    "    symbolList = []\n",
    "    orderTypeList = []\n",
    "    volumeList = []\n",
    "    \n",
    "    # For each line\n",
    "    # A Sample Line - 2011,1,14,AAPL,Buy,1500\n",
    "    for orderString in fr.readlines():\n",
    "\n",
    "        # Stripping off the return line character\n",
    "        orderString=orderString.strip()\n",
    "        \n",
    "        # Splitting the line and getting a List back\n",
    "        listFromLine = orderString.split(',')\n",
    "        \n",
    "        # Adding the dates into dtList. 16,00,00 for 1600 hrs\n",
    "        dtList.append(dt.datetime(int(listFromLine[0]), int(listFromLine[1]), int(listFromLine[2])))\n",
    "        \n",
    "        # Adding the symbols into symbolList\n",
    "        symbolList.append(listFromLine[3])\n",
    "        \n",
    "        # Adding the orders into orderTypeList\n",
    "        orderTypeList.append(listFromLine[4])\n",
    "        \n",
    "        # Adding the number of shares into volumeList\n",
    "        volumeList.append(listFromLine[5])\n",
    "\n",
    "    # Creating a Dictionary for converting it into DataFrame later\n",
    "    data = { 'datetime' : dtList, 'symbol' : symbolList, 'ordertype':orderTypeList, 'volume':volumeList }\n",
    "\n",
    "    # Converting the Dictinary into a nice looking Pandas Dataframe ordered by datetime index\n",
    "    ordersDataFrame = pd.DataFrame(data)\n",
    "    ordersDataFrame.index= ordersDataFrame['datetime']\n",
    "    \n",
    "    # Drop datetime column\n",
    "    ordersDataFrame.drop('datetime', axis=1, inplace=True)\n",
    "    #print(ordersDataFrame)\n",
    "    \n",
    "    \n",
    "    # Getting the Symbols from the Orders. This list will be required for fetching the prices\n",
    "    symbolList = list(set(ordersDataFrame['symbol']))\n",
    "    \n",
    "    # Returning it.\n",
    "    return ordersDataFrame, symbolList"
   ]
  },
  {
   "cell_type": "markdown",
   "metadata": {},
   "source": [
    "### Get data from Yahoo for the given dates "
   ]
  },
  {
   "cell_type": "code",
   "execution_count": 3,
   "metadata": {},
   "outputs": [],
   "source": [
    "def fetchData(dt_start, dt_end, ls_symbols):\n",
    "\n",
    "    # Add a day to dt_end for Yahoo purpose\n",
    "    dt_end = pd.to_datetime(dt_end) + pd.DateOffset(days=1)\n",
    "    \n",
    "    # Get data of trading days between the start and the end.\n",
    "    df = pdr.get_data_yahoo(\n",
    "            # tickers list (single tickers accepts a string as well)\n",
    "            tickers = ls_symbols,\n",
    "\n",
    "            # start date (YYYY-MM-DD / datetime.datetime object)\n",
    "            # (optional, defaults is 1950-01-01)\n",
    "            start = dt_start,\n",
    "\n",
    "            # end date (YYYY-MM-DD / datetime.datetime object)\n",
    "            # (optional, defaults is Today)\n",
    "            end = dt_end,\n",
    "\n",
    "            # return a multi-index dataframe\n",
    "            # (optional, default is Panel, which is deprecated)\n",
    "            as_panel = False,\n",
    "\n",
    "            # group by ticker (to access via data['SPY'])\n",
    "            # (optional, default is 'column')\n",
    "            group_by = 'ticker',\n",
    "\n",
    "            # adjust all OHLC automatically\n",
    "            # (optional, default is False)\n",
    "            auto_adjust = False\n",
    "    )\n",
    "        \n",
    "\n",
    "    # Getting the numpy ndarray of Adj Close prices.\n",
    "    adj_close_price = df.loc[:, (slice(None), ('Adj Close'))]\n",
    "\n",
    "    \n",
    "    # returning the Adj Closed prices for all the days    \n",
    "    return adj_close_price"
   ]
  },
  {
   "cell_type": "markdown",
   "metadata": {},
   "source": [
    "### Market simulator"
   ]
  },
  {
   "cell_type": "code",
   "execution_count": 4,
   "metadata": {},
   "outputs": [],
   "source": [
    "def marketsim(initialCash, ordersdf, symbols):\n",
    "\n",
    "    # reading the boundary dates\n",
    "    dt_start = ordersdf.index[0]\n",
    "    dt_end = ordersdf.index[len(ordersdf)-1]\n",
    "    \n",
    "    # All the adjustedClosingPrices fetched from NYSE within the range and for given symbols\n",
    "    closingPrices = fetchData(dt_start, dt_end, symbols)\n",
    "    num_tradingDays = len(closingPrices)\n",
    "    #print(closingPrices)\n",
    "    \n",
    "    #Cash for the days\n",
    "    temp = np.zeros((num_tradingDays, 1))\n",
    "    cash = pd.DataFrame(temp, columns = ['cashinhand'])\n",
    "    \n",
    "    #Value for the days\n",
    "    temp = np.zeros((num_tradingDays, 1))\n",
    "    valueFrame = pd.DataFrame(temp, columns = ['valueOfPortfolio'])\n",
    "\n",
    "    #Setting the first value to be the initial cash amount.\n",
    "    cash.cashinhand.loc[0] = initialCash\n",
    "    \n",
    "    index = 0\n",
    "    \n",
    "    for tradingDayIndex in range(num_tradingDays):  \n",
    "        if tradingDayIndex != 0:\n",
    "            cash.cashinhand.iloc[tradingDayIndex] = cash.cashinhand.iloc[tradingDayIndex - 1] \n",
    "        else:\n",
    "            cash.cashinhand.iloc[tradingDayIndex] = initialCash\n",
    "            \n",
    "        for tradingOrder in ordersDataFrame.index:\n",
    "            if tradingOrder == closingPrices.index[tradingDayIndex]:\n",
    "                if ordersdf.ordertype.iloc[index] == 'Buy':\n",
    "                    toBuySymbol = ordersdf.symbol.iloc[index]\n",
    "                    toBuy = symbols.index(toBuySymbol)\n",
    "                    numShares = ordersdf.volume.iloc[index]\n",
    "                    priceForTheDay = closingPrices.iloc[tradingDayIndex][toBuy]\n",
    "                    cash.cashinhand.iloc[tradingDayIndex] = cash.cashinhand.iloc[tradingDayIndex] - (priceForTheDay * float(numShares))\n",
    "                    print(\"Date: \", tradingOrder,\n",
    "                          \"Symbol: \", toBuySymbol,\n",
    "                          \"Order: \", ordersdf.ordertype.iloc[index],\n",
    "                          \"Shares: \", numShares,\n",
    "                          \"Price: \", priceForTheDay,\n",
    "                          \"Cash: \", cash.cashinhand.iloc[tradingDayIndex] )\n",
    "                elif ordersdf.ordertype.iloc[index] == 'Sell':\n",
    "                    toSellSymbol = ordersdf.symbol.iloc[index]\n",
    "                    toSell = symbols.index(toSellSymbol)\n",
    "                    numShares = ordersdf.volume.iloc[index]\n",
    "                    priceForTheDay = closingPrices.iloc[tradingDayIndex][toSell]\n",
    "                    cash.cashinhand.iloc[tradingDayIndex] = cash.cashinhand.iloc[tradingDayIndex] + (priceForTheDay * float(numShares))\n",
    "                    print(\"Date: \", tradingOrder,\n",
    "                          \"Symbol: \", toSellSymbol,\n",
    "                          \"Order: \", ordersdf.ordertype.iloc[index],\n",
    "                          \"Shares: \", numShares,\n",
    "                          \"Price: \", priceForTheDay,\n",
    "                          \"Cash: \", cash.cashinhand.iloc[tradingDayIndex] )\n",
    "                else:\n",
    "                    print(\"error\")\n",
    "                index+=1\n",
    "        \n",
    "\n",
    "        valueFrame['valueOfPortfolio'] = cash['cashinhand'].values\n",
    "        \n",
    "    valueFrame.index = closingPrices.index\n",
    "\n",
    "    return valueFrame"
   ]
  },
  {
   "cell_type": "markdown",
   "metadata": {},
   "source": [
    "### Write values to file"
   ]
  },
  {
   "cell_type": "code",
   "execution_count": null,
   "metadata": {},
   "outputs": [],
   "source": []
  },
  {
   "cell_type": "markdown",
   "metadata": {},
   "source": [
    "### Define market simulation function"
   ]
  },
  {
   "cell_type": "code",
   "execution_count": 6,
   "metadata": {},
   "outputs": [
    {
     "name": "stdout",
     "output_type": "stream",
     "text": [
      "List of transactions\n",
      "2011-01-10 00:00:00 2011-12-20 00:00:00\n",
      "['IBM', 'AAPL', 'GOOG', 'XOM']\n",
      "[*********************100%***********************]  4 of 4 downloaded\n",
      "Date:  2011-01-10 00:00:00 Symbol:  AAPL Order:  Buy Shares:  1500 Price:  43.356891999999995 Cash:  934964.662\n",
      "Date:  2011-01-13 00:00:00 Symbol:  AAPL Order:  Sell Shares:  1500 Price:  43.765831 Cash:  1000613.4085\n",
      "Date:  2011-01-13 00:00:00 Symbol:  IBM Order:  Buy Shares:  4000 Price:  117.880554 Cash:  529091.1925\n",
      "Date:  2011-01-26 00:00:00 Symbol:  GOOG Order:  Buy Shares:  1000 Price:  306.258087 Cash:  222833.1055\n",
      "Date:  2011-02-02 00:00:00 Symbol:  XOM Order:  Sell Shares:  4000 Price:  65.633003 Cash:  485365.1175\n",
      "Date:  2011-02-10 00:00:00 Symbol:  XOM Order:  Buy Shares:  4000 Price:  65.81276700000001 Cash:  222114.04949999996\n",
      "Date:  2011-03-03 00:00:00 Symbol:  GOOG Order:  Sell Shares:  1000 Price:  302.810516 Cash:  524924.5655\n",
      "Date:  2011-03-03 00:00:00 Symbol:  IBM Order:  Sell Shares:  2200 Price:  130.005478 Cash:  810936.6171\n",
      "Date:  2011-05-03 00:00:00 Symbol:  IBM Order:  Sell Shares:  3300 Price:  137.472748 Cash:  1264596.6855000001\n",
      "Date:  2011-06-03 00:00:00 Symbol:  IBM Order:  Buy Shares:  1500 Price:  131.84094199999998 Cash:  1066835.2725000002\n",
      "Date:  2011-06-10 00:00:00 Symbol:  AAPL Order:  Buy Shares:  1200 Price:  41.261547 Cash:  1017321.4161000001\n",
      "Date:  2011-08-01 00:00:00 Symbol:  GOOG Order:  Buy Shares:  55 Price:  301.42453 Cash:  1000743.0669500001\n",
      "Date:  2011-08-01 00:00:00 Symbol:  GOOG Order:  Sell Shares:  55 Price:  301.42453 Cash:  1017321.4161000001\n",
      "Date:  2011-12-20 00:00:00 Symbol:  AAPL Order:  Sell Shares:  1200 Price:  50.130421000000005 Cash:  1077477.9213\n"
     ]
    }
   ],
   "source": [
    "\n",
    "\n",
    "\n",
    "initialCash = 1000000\n",
    "ordersFilename = 'input/orders.csv'\n",
    "valuesFilename = 'output/values.csv'\n",
    "\n",
    "# Reading the data from the file, and getting a NumPy matrix\n",
    "ordersDataFrame, symbols = readOrdersFileIntoDF(ordersFilename)\n",
    "\n",
    "# Getting data from marketsim\n",
    "print(\"List of transactions\")\n",
    "valueFrame = marketsim(initialCash, ordersDataFrame, symbols)\n",
    "\n",
    "# Writing data to file\n",
    "writeValuesIntoCSV(valuesFilename, valueFrame)"
   ]
  },
  {
   "cell_type": "markdown",
   "metadata": {},
   "source": [
    "## Part 2: Part 2: Transaction Costs\n"
   ]
  },
  {
   "cell_type": "code",
   "execution_count": null,
   "metadata": {},
   "outputs": [],
   "source": []
  }
 ],
 "metadata": {
  "kernelspec": {
   "display_name": "Python 3",
   "language": "python",
   "name": "python3"
  },
  "language_info": {
   "codemirror_mode": {
    "name": "ipython",
    "version": 3
   },
   "file_extension": ".py",
   "mimetype": "text/x-python",
   "name": "python",
   "nbconvert_exporter": "python",
   "pygments_lexer": "ipython3",
   "version": "3.6.4"
  }
 },
 "nbformat": 4,
 "nbformat_minor": 2
}
