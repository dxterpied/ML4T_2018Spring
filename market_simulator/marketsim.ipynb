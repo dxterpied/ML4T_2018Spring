{
 "cells": [
  {
   "cell_type": "markdown",
   "metadata": {},
   "source": [
    "# Market Simulator\n",
    "ML for trading Udacity Course exercise\n",
    "\n",
    "More info:\n",
    "http://wiki.quantsoftware.org/index.php?title=CompInvesti_Homework_3\n",
    "\n",
    "A transcription of the Udacity Course lectures can be find on https://docs.google.com/document/d/1ELqlnuTSdc9-MDHOkV0uvSY4RmI1eslyQlU9DgOY_jc/edit?usp=sharing\n",
    "\n",
    "Kairoart 2018\n",
    "\"\"\"\n"
   ]
  },
  {
   "cell_type": "markdown",
   "metadata": {},
   "source": [
    "## Overview\n",
    "\n",
    "In this project you will create a basic market simulator that accepts trading orders and keeps track of a portfolio's value and saves it to a file. You will also create another program that assesses the performance of that portfolio. "
   ]
  },
  {
   "cell_type": "markdown",
   "metadata": {},
   "source": [
    "## Part 1: Create a market simulation tool\n",
    "\n",
    "Starting cash: 1000000  \n",
    "Input file: orders.csv \n",
    "Output file: values.csv\n",
    "\n",
    "The file of orders is organized like this:\n",
    "\n",
    "    Year\n",
    "    Month\n",
    "    Day\n",
    "    Symbol\n",
    "    BUY or SELL\n",
    "    Number of Shares \n",
    "    \n",
    "For example:\n",
    "\n",
    "    2008, 12, 3, AAPL, BUY, 130\n",
    "    2008, 12, 8, AAPL, SELL, 130\n",
    "    2008, 12, 5, IBM, BUY, 50\n"
   ]
  },
  {
   "cell_type": "markdown",
   "metadata": {},
   "source": [
    "### Goal\n",
    "\n",
    "Your simulator should calculate the total value of the portfolio for each day using adjusted closing prices (cash plus value of equities) and print the result to the file values.csv. The contents of the values.csv file should look something like this:\n",
    "\n",
    "    2008, 12, 3, 1000000\n",
    "    2008, 12, 4, 1000010\n",
    "    2008, 12, 5, 1000250\n",
    "    ...\n"
   ]
  },
  {
   "cell_type": "markdown",
   "metadata": {},
   "source": [
    "### 1. Import libraries"
   ]
  },
  {
   "cell_type": "code",
   "execution_count": 19,
   "metadata": {},
   "outputs": [
    {
     "ename": "ModuleNotFoundError",
     "evalue": "No module named 'QSTK'",
     "output_type": "error",
     "traceback": [
      "\u001b[0;31m---------------------------------------------------------------------------\u001b[0m",
      "\u001b[0;31mModuleNotFoundError\u001b[0m                       Traceback (most recent call last)",
      "\u001b[0;32m<ipython-input-19-67f21d6340c2>\u001b[0m in \u001b[0;36m<module>\u001b[0;34m()\u001b[0m\n\u001b[1;32m      8\u001b[0m \u001b[0;34m\u001b[0m\u001b[0m\n\u001b[1;32m      9\u001b[0m \u001b[0;31m# QSTK Imports\u001b[0m\u001b[0;34m\u001b[0m\u001b[0;34m\u001b[0m\u001b[0m\n\u001b[0;32m---> 10\u001b[0;31m \u001b[0;32mimport\u001b[0m \u001b[0mQSTK\u001b[0m\u001b[0;34m.\u001b[0m\u001b[0mqstkutil\u001b[0m\u001b[0;34m.\u001b[0m\u001b[0mqsdateutil\u001b[0m \u001b[0;32mas\u001b[0m \u001b[0mdu\u001b[0m\u001b[0;34m\u001b[0m\u001b[0m\n\u001b[0m\u001b[1;32m     11\u001b[0m \u001b[0;32mimport\u001b[0m \u001b[0mQSTK\u001b[0m\u001b[0;34m.\u001b[0m\u001b[0mqstkutil\u001b[0m\u001b[0;34m.\u001b[0m\u001b[0mtsutil\u001b[0m \u001b[0;32mas\u001b[0m \u001b[0mtsu\u001b[0m\u001b[0;34m\u001b[0m\u001b[0m\n\u001b[1;32m     12\u001b[0m \u001b[0;32mimport\u001b[0m \u001b[0mQSTK\u001b[0m\u001b[0;34m.\u001b[0m\u001b[0mqstkutil\u001b[0m\u001b[0;34m.\u001b[0m\u001b[0mDataAccess\u001b[0m \u001b[0;32mas\u001b[0m \u001b[0mda\u001b[0m\u001b[0;34m\u001b[0m\u001b[0m\n",
      "\u001b[0;31mModuleNotFoundError\u001b[0m: No module named 'QSTK'"
     ]
    }
   ],
   "source": [
    "import datetime as dt\n",
    "import matplotlib.pyplot as plt\n",
    "import pandas as pd\n",
    "import numpy as np\n",
    "import operator\n",
    "import sys\n",
    "import csv\n",
    "\n",
    "# QSTK Imports\n",
    "import QSTK.qstkutil.qsdateutil as du\n",
    "import QSTK.qstkutil.tsutil as tsu\n",
    "import QSTK.qstkutil.DataAccess as da"
   ]
  },
  {
   "cell_type": "code",
   "execution_count": 14,
   "metadata": {},
   "outputs": [],
   "source": [
    "def readOrdersFileIntoDF(filename):\n",
    "\n",
    "    # opening the filename\n",
    "    fr = open(filename)\n",
    "    \n",
    "    # for row count in \n",
    "    index=0\n",
    "    \n",
    "    # Lists used for making the dataframe.\n",
    "    dtList = []\n",
    "    symbolList = []\n",
    "    orderTypeList = []\n",
    "    volumeList = []\n",
    "    \n",
    "    # For each line\n",
    "    # A Sample Line - 2011,1,14,AAPL,Buy,1500\n",
    "    for orderString in fr.readlines():\n",
    "\n",
    "        # Stripping off the return line character\n",
    "        orderString=orderString.strip()\n",
    "        \n",
    "        # Splitting the line and getting a List back\n",
    "        listFromLine = orderString.split(',')\n",
    "        \n",
    "        # Adding the dates into dtList. 16,00,00 for 1600 hrs\n",
    "        dtList.append(dt.datetime(int(listFromLine[0]), int(listFromLine[1]), int(listFromLine[2]), 16, 00, 00))\n",
    "        \n",
    "        # Adding the symbols into symbolList\n",
    "        symbolList.append(listFromLine[3])\n",
    "        \n",
    "        # Adding the orders into orderTypeList\n",
    "        orderTypeList.append(listFromLine[4])\n",
    "        \n",
    "        # Adding the number of shares into volumeList\n",
    "        volumeList.append(listFromLine[5])\n",
    "\n",
    "    # Creating a Dictionary for converting it into DataFrame later\n",
    "    data = { 'datetime' : dtList, 'symbol' : symbolList, 'ordertype':orderTypeList, 'volume':volumeList }\n",
    "    \n",
    "    # Converting the Dictinary into a nice looking Pandas Dataframe\n",
    "    ordersDataFrame = pd.DataFrame(data)\n",
    "    \n",
    "    #Sorting by datetime column #Makes Sense :)\n",
    "    sortedOrdersDataFrame = ordersDataFrame.sort_index(by=['datetime'])\n",
    "    sortedOrdersDataFrame = sortedOrdersDataFrame.reset_index(drop=True)\n",
    "    \n",
    "    \n",
    "    # Making the datetime columns as the index and removing it from the table\n",
    "    # sortedOrdersDataFrame.index = sortedOrdersDataFrame.datetime\n",
    "    # del sortedOrdersDataFrame['datetime']\n",
    "    \n",
    "    # Getting the Symbols from the Orders. This list will be required for fetching the prices\n",
    "    symbolList = list(set(sortedOrdersDataFrame['symbol']))\n",
    "    \n",
    "    # Returning it.\n",
    "    return sortedOrdersDataFrame, symbolList"
   ]
  },
  {
   "cell_type": "code",
   "execution_count": 15,
   "metadata": {},
   "outputs": [],
   "source": [
    "def fetchNYSEData(dt_start, dt_end, ls_symbols):\n",
    "\n",
    "    # The Time of Closing is 1600 hrs \n",
    "    dt_timeofday = dt.timedelta(hours=16)\n",
    "    \n",
    "    # Get a list of trading days between the start and the end.\n",
    "    ldt_timestamps = du.getNYSEdays(dt_start, dt_end, dt_timeofday)\n",
    "\n",
    "    # Creating an object of the dataaccess class with Yahoo as the source.\n",
    "    c_dataobj = da.DataAccess('Yahoo', cachestalltime=0)\n",
    "\n",
    "    # Keys to be read from the data, it is good to read everything in one go.\n",
    "    ls_keys = ['open', 'high', 'low', 'close', 'volume', 'actual_close']\n",
    "\n",
    "    # Reading the data, now d_data is a dictionary with the keys above.\n",
    "    # Timestamps and symbols are the ones that were specified before.\n",
    "    ldf_data = c_dataobj.get_data(ldt_timestamps, ls_symbols, ls_keys)\n",
    "    d_data = dict(zip(ls_keys, ldf_data))\n",
    "    \n",
    "    timestampsForNYSEDays = d_data['close'].index\n",
    "\n",
    "    # Filling the data for NAN\n",
    "    for s_key in ls_keys:\n",
    "        d_data[s_key] = d_data[s_key].fillna(method='ffill')\n",
    "        d_data[s_key] = d_data[s_key].fillna(method='bfill')\n",
    "        d_data[s_key] = d_data[s_key].fillna(1.0)\n",
    "\n",
    "    # Getting the numpy ndarray of close prices.\n",
    "    na_price = d_data['close'].values\n",
    "\n",
    "    # returning the closed prices for all the days    \n",
    "    return na_price, ldt_timestamps"
   ]
  },
  {
   "cell_type": "code",
   "execution_count": 16,
   "metadata": {},
   "outputs": [],
   "source": [
    "def marketsim(initialCash, ordersDataFrame, symbols):\n",
    "\n",
    "    # reading the boundary dates\n",
    "    dt_start = ordersDataFrame.datetime[0]\n",
    "    dt_end = ordersDataFrame.datetime[len(ordersDataFrame)-1]\n",
    "    \n",
    "    # All the adjustedClosingPrices fetched from NYSE within the range and for given symbols\n",
    "    closingPrices, ldt_timestamps = fetchNYSEData(dt_start, dt_end, symbols)\n",
    "    \n",
    "    num_tradingDays = len(ldt_timestamps)\n",
    "    \n",
    "    # For Holdings of the share\t\n",
    "    temp = np.zeros((1, len(symbols)))\n",
    "    holdings = pd.DataFrame(temp, columns = symbols, index = ['holdings'])\n",
    "    \n",
    "    #Cash for the days\n",
    "    temp = np.zeros((num_tradingDays, 1))\n",
    "    cash = pd.DataFrame(temp, columns = ['cashinhand'])\n",
    "    \n",
    "    #Value for the days\n",
    "    temp = np.zeros((num_tradingDays, 1))\n",
    "    valueFrame = pd.DataFrame(temp, columns = ['valueOfPortfolio'])\n",
    "\n",
    "    #Setting the first value to be the initial cash amount.\n",
    "    cash.cashinhand.ix[0] = initialCash\n",
    "    \n",
    "    index = 0\n",
    "    \n",
    "    for tradingDayIndex in range(num_tradingDays):\n",
    "        if tradingDayIndex != 0:\n",
    "            cash.cashinhand.ix[tradingDayIndex] = cash.cashinhand.ix[tradingDayIndex - 1] \n",
    "        else:\n",
    "            cash.cashinhand.ix[tradingDayIndex] = initialCash\n",
    "\n",
    "        for tradingOrder in ordersDataFrame.datetime:\t\t\t\t\n",
    "            if tradingOrder == ldt_timestamps[tradingDayIndex]:\n",
    "                if ordersDataFrame.ordertype.ix[index] == 'Buy':\n",
    "                    toBuySymbol = ordersDataFrame.symbol.ix[index]\n",
    "                    toBuy = symbols.index(toBuySymbol)\n",
    "                    numShares = ordersDataFrame.volume.ix[index]\n",
    "                    priceForTheDay = closingPrices[tradingDayIndex, toBuy]\n",
    "                    cash.cashinhand.ix[tradingDayIndex] = cash.cashinhand.ix[tradingDayIndex] - (priceForTheDay * float(numShares))\t\t\t\t\t\t\n",
    "                    holdings[toBuySymbol].ix[0] += int(numShares)\n",
    "\n",
    "                elif ordersDataFrame.ordertype.ix[index] == 'Sell':\n",
    "                    toSellSymbol = ordersDataFrame.symbol.ix[index]\n",
    "                    toSell = symbols.index(toSellSymbol)\n",
    "                    numShares = ordersDataFrame.volume.ix[index]\n",
    "                    priceForTheDay = closingPrices[tradingDayIndex, toSell]\n",
    "                    cash.cashinhand.ix[tradingDayIndex] = cash.cashinhand.ix[tradingDayIndex] + (priceForTheDay * float(numShares))\t\t\t\t\t\t\n",
    "                    holdings[toSellSymbol].ix[0] -= int(numShares)\n",
    "                else:\n",
    "                    print(\"error\")\n",
    "                index+=1\n",
    "\n",
    "        valueFromPortfolio = 0\n",
    "\n",
    "        for symbol in symbols:\n",
    "            priceForTheDay = closingPrices[tradingDayIndex, symbols.index(symbol)]\n",
    "            valueFromPortfolio += holdings[symbol].ix[0] * priceForTheDay\n",
    "\n",
    "        valueFrame.valueOfPortfolio.ix[tradingDayIndex] = valueFromPortfolio + cash.cashinhand.ix[tradingDayIndex]\n",
    "\n",
    "    valueFrame.index = ldt_timestamps\n",
    "    return holdings, valueFrame, cash"
   ]
  },
  {
   "cell_type": "code",
   "execution_count": 17,
   "metadata": {},
   "outputs": [],
   "source": [
    "def writeValuesIntoCSV(valuesFilename, valueFrame):\n",
    "    file = open(valuesFilename, 'w')\n",
    "    writer = csv.writer(file)\n",
    "\n",
    "    for index in range(len(valueFrame)):\n",
    "        writer.writerow([valueFrame.index[index].year, valueFrame.index[index].month, valueFrame.index[index].day ,int(round(valueFrame.valueOfPortfolio.ix[index], 0))])\n",
    "    \n",
    "    file.close()"
   ]
  },
  {
   "cell_type": "code",
   "execution_count": 18,
   "metadata": {},
   "outputs": [
    {
     "name": "stderr",
     "output_type": "stream",
     "text": [
      "/home/emi/anaconda3/lib/python3.6/site-packages/ipykernel_launcher.py:44: FutureWarning: by argument to sort_index is deprecated, please use .sort_values(by=...)\n"
     ]
    },
    {
     "ename": "NameError",
     "evalue": "name 'du' is not defined",
     "output_type": "error",
     "traceback": [
      "\u001b[0;31m---------------------------------------------------------------------------\u001b[0m",
      "\u001b[0;31mNameError\u001b[0m                                 Traceback (most recent call last)",
      "\u001b[0;32m<ipython-input-18-3afa361faf80>\u001b[0m in \u001b[0;36m<module>\u001b[0;34m()\u001b[0m\n\u001b[1;32m      5\u001b[0m \u001b[0;31m# Reading the data from the file, and getting a NumPy matrix\u001b[0m\u001b[0;34m\u001b[0m\u001b[0;34m\u001b[0m\u001b[0m\n\u001b[1;32m      6\u001b[0m \u001b[0mordersDataFrame\u001b[0m\u001b[0;34m,\u001b[0m \u001b[0msymbols\u001b[0m \u001b[0;34m=\u001b[0m \u001b[0mreadOrdersFileIntoDF\u001b[0m\u001b[0;34m(\u001b[0m\u001b[0mordersFilename\u001b[0m\u001b[0;34m)\u001b[0m\u001b[0;34m\u001b[0m\u001b[0m\n\u001b[0;32m----> 7\u001b[0;31m \u001b[0mholdings\u001b[0m\u001b[0;34m,\u001b[0m \u001b[0mvalueFrame\u001b[0m\u001b[0;34m,\u001b[0m \u001b[0mcash\u001b[0m \u001b[0;34m=\u001b[0m \u001b[0mmarketsim\u001b[0m\u001b[0;34m(\u001b[0m\u001b[0minitialCash\u001b[0m\u001b[0;34m,\u001b[0m \u001b[0mordersDataFrame\u001b[0m\u001b[0;34m,\u001b[0m \u001b[0msymbols\u001b[0m\u001b[0;34m)\u001b[0m\u001b[0;34m\u001b[0m\u001b[0m\n\u001b[0m\u001b[1;32m      8\u001b[0m \u001b[0;34m\u001b[0m\u001b[0m\n\u001b[1;32m      9\u001b[0m \u001b[0mwriteValuesIntoCSV\u001b[0m\u001b[0;34m(\u001b[0m\u001b[0mvaluesFilename\u001b[0m\u001b[0;34m,\u001b[0m \u001b[0mvalueFrame\u001b[0m\u001b[0;34m)\u001b[0m\u001b[0;34m\u001b[0m\u001b[0m\n",
      "\u001b[0;32m<ipython-input-16-3ba91d6fad30>\u001b[0m in \u001b[0;36mmarketsim\u001b[0;34m(initialCash, ordersDataFrame, symbols)\u001b[0m\n\u001b[1;32m      6\u001b[0m \u001b[0;34m\u001b[0m\u001b[0m\n\u001b[1;32m      7\u001b[0m     \u001b[0;31m# All the adjustedClosingPrices fetched from NYSE within the range and for given symbols\u001b[0m\u001b[0;34m\u001b[0m\u001b[0;34m\u001b[0m\u001b[0m\n\u001b[0;32m----> 8\u001b[0;31m     \u001b[0mclosingPrices\u001b[0m\u001b[0;34m,\u001b[0m \u001b[0mldt_timestamps\u001b[0m \u001b[0;34m=\u001b[0m \u001b[0mfetchNYSEData\u001b[0m\u001b[0;34m(\u001b[0m\u001b[0mdt_start\u001b[0m\u001b[0;34m,\u001b[0m \u001b[0mdt_end\u001b[0m\u001b[0;34m,\u001b[0m \u001b[0msymbols\u001b[0m\u001b[0;34m)\u001b[0m\u001b[0;34m\u001b[0m\u001b[0m\n\u001b[0m\u001b[1;32m      9\u001b[0m \u001b[0;34m\u001b[0m\u001b[0m\n\u001b[1;32m     10\u001b[0m     \u001b[0mnum_tradingDays\u001b[0m \u001b[0;34m=\u001b[0m \u001b[0mlen\u001b[0m\u001b[0;34m(\u001b[0m\u001b[0mldt_timestamps\u001b[0m\u001b[0;34m)\u001b[0m\u001b[0;34m\u001b[0m\u001b[0m\n",
      "\u001b[0;32m<ipython-input-15-c597f6dc3d40>\u001b[0m in \u001b[0;36mfetchNYSEData\u001b[0;34m(dt_start, dt_end, ls_symbols)\u001b[0m\n\u001b[1;32m      5\u001b[0m \u001b[0;34m\u001b[0m\u001b[0m\n\u001b[1;32m      6\u001b[0m     \u001b[0;31m# Get a list of trading days between the start and the end.\u001b[0m\u001b[0;34m\u001b[0m\u001b[0;34m\u001b[0m\u001b[0m\n\u001b[0;32m----> 7\u001b[0;31m     \u001b[0mldt_timestamps\u001b[0m \u001b[0;34m=\u001b[0m \u001b[0mdu\u001b[0m\u001b[0;34m.\u001b[0m\u001b[0mgetNYSEdays\u001b[0m\u001b[0;34m(\u001b[0m\u001b[0mdt_start\u001b[0m\u001b[0;34m,\u001b[0m \u001b[0mdt_end\u001b[0m\u001b[0;34m,\u001b[0m \u001b[0mdt_timeofday\u001b[0m\u001b[0;34m)\u001b[0m\u001b[0;34m\u001b[0m\u001b[0m\n\u001b[0m\u001b[1;32m      8\u001b[0m \u001b[0;34m\u001b[0m\u001b[0m\n\u001b[1;32m      9\u001b[0m     \u001b[0;31m# Creating an object of the dataaccess class with Yahoo as the source.\u001b[0m\u001b[0;34m\u001b[0m\u001b[0;34m\u001b[0m\u001b[0m\n",
      "\u001b[0;31mNameError\u001b[0m: name 'du' is not defined"
     ]
    }
   ],
   "source": [
    "initialCash = 1000000\n",
    "ordersFilename = 'input/orders.csv'\n",
    "valuesFilename = 'output/orders.csv'\n",
    "\n",
    "# Reading the data from the file, and getting a NumPy matrix\n",
    "ordersDataFrame, symbols = readOrdersFileIntoDF(ordersFilename)\n",
    "holdings, valueFrame, cash = marketsim(initialCash, ordersDataFrame, symbols)\n",
    "\n",
    "writeValuesIntoCSV(valuesFilename, valueFrame)"
   ]
  },
  {
   "cell_type": "code",
   "execution_count": null,
   "metadata": {},
   "outputs": [],
   "source": []
  }
 ],
 "metadata": {
  "kernelspec": {
   "display_name": "Python 3",
   "language": "python",
   "name": "python3"
  },
  "language_info": {
   "codemirror_mode": {
    "name": "ipython",
    "version": 3
   },
   "file_extension": ".py",
   "mimetype": "text/x-python",
   "name": "python",
   "nbconvert_exporter": "python",
   "pygments_lexer": "ipython3",
   "version": "3.6.4"
  }
 },
 "nbformat": 4,
 "nbformat_minor": 2
}
