{
 "cells": [
  {
   "cell_type": "markdown",
   "metadata": {},
   "source": [
    "# Market Simulator\n",
    "ML for trading Udacity Course exercise\n",
    "\n",
    "More info:\n",
    "http://wiki.quantsoftware.org/index.php?title=CompInvesti_Homework_3\n",
    "\n",
    "A transcription of the Udacity Course lectures can be find on https://docs.google.com/document/d/1ELqlnuTSdc9-MDHOkV0uvSY4RmI1eslyQlU9DgOY_jc/edit?usp=sharing\n",
    "\n",
    "Kairoart 2018\n",
    "\n"
   ]
  },
  {
   "cell_type": "markdown",
   "metadata": {},
   "source": [
    "## Overview\n",
    "\n",
    "In this project you will create a basic market simulator that accepts trading orders and keeps track of a portfolio's value and saves it to a file. You will also create another program that assesses the performance of that portfolio. "
   ]
  },
  {
   "cell_type": "markdown",
   "metadata": {
    "toc-hr-collapsed": false
   },
   "source": [
    "## Part 1: Create a market simulation tool\n",
    "\n",
    "Starting cash: 1000000  \n",
    "Input file: orders.csv \n",
    "Output file: values.csv\n",
    "\n",
    "The file of orders is organized like this:\n",
    "\n",
    "    Year\n",
    "    Month\n",
    "    Day\n",
    "    Symbol\n",
    "    BUY or SELL\n",
    "    Number of Shares \n",
    "    \n",
    "For example:\n",
    "\n",
    "    2008, 12, 3, AAPL, BUY, 130\n",
    "    2008, 12, 8, AAPL, SELL, 130\n",
    "    2008, 12, 5, IBM, BUY, 50\n"
   ]
  },
  {
   "cell_type": "markdown",
   "metadata": {},
   "source": [
    "### Goal\n",
    "\n",
    "Your simulator should calculate the total value of the portfolio for each day using adjusted closing prices (cash plus value of equities) and print the result to the file values.csv. The contents of the values.csv file should look something like this:\n",
    "\n",
    "    2008, 12, 3, 1000000\n",
    "    2008, 12, 4, 1000010\n",
    "    2008, 12, 5, 1000250\n",
    "    ...\n"
   ]
  },
  {
   "cell_type": "markdown",
   "metadata": {},
   "source": [
    "### Import libraries"
   ]
  },
  {
   "cell_type": "code",
   "execution_count": 1,
   "metadata": {},
   "outputs": [
    {
     "data": {
      "text/html": [
       "<script>requirejs.config({paths: { 'plotly': ['https://cdn.plot.ly/plotly-latest.min']},});if(!window.Plotly) {{require(['plotly'],function(plotly) {window.Plotly=plotly;});}}</script>"
      ],
      "text/vnd.plotly.v1+html": [
       "<script>requirejs.config({paths: { 'plotly': ['https://cdn.plot.ly/plotly-latest.min']},});if(!window.Plotly) {{require(['plotly'],function(plotly) {window.Plotly=plotly;});}}</script>"
      ]
     },
     "metadata": {},
     "output_type": "display_data"
    }
   ],
   "source": [
    "import datetime as dt\n",
    "import matplotlib.pyplot as plt\n",
    "import pandas as pd\n",
    "import numpy as np\n",
    "import operator\n",
    "import sys\n",
    "import csv\n",
    "import math\n",
    "\n",
    "# To fetch data\n",
    "from pandas_datareader import data as pdr   \n",
    "import fix_yahoo_finance as yf  \n",
    "yf.pdr_override()   \n",
    "\n",
    "# Add plotly for interactive charts\n",
    "from plotly.offline import init_notebook_mode, iplot\n",
    "init_notebook_mode(connected=True)\n",
    "import plotly.plotly as py\n",
    "import plotly.graph_objs as go\n",
    "from plotly import tools\n",
    "\n"
   ]
  },
  {
   "cell_type": "markdown",
   "metadata": {},
   "source": [
    "### Read orders from file"
   ]
  },
  {
   "cell_type": "code",
   "execution_count": 20,
   "metadata": {},
   "outputs": [],
   "source": [
    "def readOrdersFileIntoDF(filename):\n",
    "\n",
    "    # opening the filename\n",
    "    fr = open(filename)\n",
    "    \n",
    "    # for row count in \n",
    "    index=0\n",
    "    \n",
    "    # Lists used for making the dataframe.\n",
    "    dtList = []\n",
    "    symbolList = []\n",
    "    orderTypeList = []\n",
    "    volumeList = []\n",
    "    \n",
    "    # For each line\n",
    "    # A Sample Line - 2011,1,14,AAPL,Buy,1500\n",
    "    for orderString in fr.readlines():\n",
    "\n",
    "        # Stripping off the return line character\n",
    "        orderString=orderString.strip()\n",
    "        \n",
    "        # Splitting the line and getting a List back\n",
    "        listFromLine = orderString.split(',')\n",
    "        \n",
    "        # Adding the dates into dtList. 16,00,00 for 1600 hrs\n",
    "        dtList.append(dt.datetime(int(listFromLine[0]), int(listFromLine[1]), int(listFromLine[2])))\n",
    "        \n",
    "        # Adding the symbols into symbolList\n",
    "        symbolList.append(listFromLine[3])\n",
    "        \n",
    "        # Adding the orders into orderTypeList\n",
    "        orderTypeList.append(listFromLine[4])\n",
    "        \n",
    "        # Adding the number of shares into volumeList\n",
    "        volumeList.append(listFromLine[5])\n",
    "\n",
    "    # Creating a Dictionary for converting it into DataFrame later\n",
    "    data = { 'datetime' : dtList, 'symbol' : symbolList, 'ordertype':orderTypeList, 'volume':volumeList }\n",
    "\n",
    "    # Converting the Dictinary into a nice looking Pandas Dataframe ordered by datetime index\n",
    "    ordersDataFrame = pd.DataFrame(data)\n",
    "    ordersDataFrame.index= ordersDataFrame['datetime']\n",
    "    \n",
    "    # Drop datetime column\n",
    "    ordersDataFrame.drop('datetime', axis=1, inplace=True)\n",
    "    #print(ordersDataFrame)\n",
    "    \n",
    "    \n",
    "    # Getting the Symbols from the Orders. This list will be required for fetching the prices\n",
    "    symbolList = list(set(ordersDataFrame['symbol']))\n",
    "    \n",
    "    # Returning it.\n",
    "    return ordersDataFrame, symbolList"
   ]
  },
  {
   "cell_type": "markdown",
   "metadata": {},
   "source": [
    "### Get data from Yahoo for the given dates "
   ]
  },
  {
   "cell_type": "code",
   "execution_count": 21,
   "metadata": {},
   "outputs": [],
   "source": [
    "def fetchData(dt_start, dt_end, ls_symbols):\n",
    "\n",
    "    # Add a day to dt_end for Yahoo purpose\n",
    "    dt_end = pd.to_datetime(dt_end) + pd.DateOffset(days=1)\n",
    "    \n",
    "    # Get data of trading days between the start and the end.\n",
    "    df = pdr.get_data_yahoo(\n",
    "            # tickers list (single tickers accepts a string as well)\n",
    "            tickers = ls_symbols,\n",
    "\n",
    "            # start date (YYYY-MM-DD / datetime.datetime object)\n",
    "            # (optional, defaults is 1950-01-01)\n",
    "            start = dt_start,\n",
    "\n",
    "            # end date (YYYY-MM-DD / datetime.datetime object)\n",
    "            # (optional, defaults is Today)\n",
    "            end = dt_end,\n",
    "\n",
    "            # return a multi-index dataframe\n",
    "            # (optional, default is Panel, which is deprecated)\n",
    "            as_panel = False,\n",
    "\n",
    "            # group by ticker (to access via data['SPY'])\n",
    "            # (optional, default is 'column')\n",
    "            group_by = 'ticker',\n",
    "\n",
    "            # adjust all OHLC automatically\n",
    "            # (optional, default is False)\n",
    "            auto_adjust = False\n",
    "    )\n",
    "        \n",
    "\n",
    "    # Getting the numpy ndarray of Adj Close prices.\n",
    "    adj_close_price = df.loc[:, (slice(None), ('Adj Close'))]\n",
    "\n",
    "    \n",
    "    # returning the Adj Closed prices for all the days    \n",
    "    return adj_close_price"
   ]
  },
  {
   "cell_type": "markdown",
   "metadata": {},
   "source": [
    "### Market simulator"
   ]
  },
  {
   "cell_type": "code",
   "execution_count": 22,
   "metadata": {},
   "outputs": [],
   "source": [
    "def marketsim(initialCash, ordersdf, symbols):\n",
    "\n",
    "    # reading the boundary dates\n",
    "    dt_start = ordersdf.index[0]\n",
    "    dt_end = ordersdf.index[len(ordersdf)-1]\n",
    "    \n",
    "    # All the adjustedClosingPrices fetched from NYSE within the range and for given symbols\n",
    "    closingPrices = fetchData(dt_start, dt_end, symbols)\n",
    "    num_tradingDays = len(closingPrices)\n",
    "    #print(closingPrices)\n",
    "    \n",
    "    #Cash for the days\n",
    "    temp = np.zeros((num_tradingDays, 1))\n",
    "    cash = pd.DataFrame(temp, columns = ['cashinhand'])\n",
    "    \n",
    "    #Value for the days\n",
    "    temp = np.zeros((num_tradingDays, 1))\n",
    "    valueFrame = pd.DataFrame(temp, columns = ['valueOfPortfolio'])\n",
    "\n",
    "    #Setting the first value to be the initial cash amount.\n",
    "    cash.cashinhand.loc[0] = initialCash\n",
    "    \n",
    "    index = 0\n",
    "    \n",
    "    for tradingDayIndex in range(num_tradingDays):  \n",
    "        if tradingDayIndex != 0:\n",
    "            cash.cashinhand.iloc[tradingDayIndex] = cash.cashinhand.iloc[tradingDayIndex - 1] \n",
    "        else:\n",
    "            cash.cashinhand.iloc[tradingDayIndex] = initialCash\n",
    "            \n",
    "        for tradingOrder in ordersDataFrame.index:\n",
    "            if tradingOrder == closingPrices.index[tradingDayIndex]:\n",
    "                if ordersdf.ordertype.iloc[index] == 'Buy':\n",
    "                    toBuySymbol = ordersdf.symbol.iloc[index]\n",
    "                    toBuy = symbols.index(toBuySymbol)\n",
    "                    numShares = ordersdf.volume.iloc[index]\n",
    "                    priceForTheDay = closingPrices.iloc[tradingDayIndex][toBuy]\n",
    "                    cash.cashinhand.iloc[tradingDayIndex] = cash.cashinhand.iloc[tradingDayIndex] - (priceForTheDay * float(numShares))\n",
    "                    print(\"Date: \", tradingOrder,\n",
    "                          \"Symbol: \", toBuySymbol,\n",
    "                          \"Order: \", ordersdf.ordertype.iloc[index],\n",
    "                          \"Shares: \", numShares,\n",
    "                          \"Price: \", priceForTheDay,\n",
    "                          \"Cash: \", cash.cashinhand.iloc[tradingDayIndex] )\n",
    "                elif ordersdf.ordertype.iloc[index] == 'Sell':\n",
    "                    toSellSymbol = ordersdf.symbol.iloc[index]\n",
    "                    toSell = symbols.index(toSellSymbol)\n",
    "                    numShares = ordersdf.volume.iloc[index]\n",
    "                    priceForTheDay = closingPrices.iloc[tradingDayIndex][toSell]\n",
    "                    cash.cashinhand.iloc[tradingDayIndex] = cash.cashinhand.iloc[tradingDayIndex] + (priceForTheDay * float(numShares))\n",
    "                    print(\"Date: \", tradingOrder,\n",
    "                          \"Symbol: \", toSellSymbol,\n",
    "                          \"Order: \", ordersdf.ordertype.iloc[index],\n",
    "                          \"Shares: \", numShares,\n",
    "                          \"Price: \", priceForTheDay,\n",
    "                          \"Cash: \", cash.cashinhand.iloc[tradingDayIndex] )\n",
    "                else:\n",
    "                    print(\"error\")\n",
    "                index+=1\n",
    "        \n",
    "\n",
    "        valueFrame['valueOfPortfolio'] = cash['cashinhand'].values\n",
    "        \n",
    "    valueFrame.index = closingPrices.index\n",
    "\n",
    "    return valueFrame"
   ]
  },
  {
   "cell_type": "markdown",
   "metadata": {},
   "source": [
    "### Write values to file"
   ]
  },
  {
   "cell_type": "code",
   "execution_count": 23,
   "metadata": {},
   "outputs": [],
   "source": [
    "def writeValuesIntoCSV(valuesFilename, valueFrame):\n",
    "    file = open(valuesFilename, 'w')\n",
    "    writer = csv.writer(file)\n",
    "    for index in range(len(valueFrame)):\n",
    "        writer.writerow([valueFrame.index[index].year, valueFrame.index[index].month, valueFrame.index[index].day ,int(round(valueFrame.valueOfPortfolio.iloc[index], 0))])\n",
    "    \n",
    "    file.close()"
   ]
  },
  {
   "cell_type": "markdown",
   "metadata": {},
   "source": [
    "### Define initial values and execute simulation"
   ]
  },
  {
   "cell_type": "code",
   "execution_count": 25,
   "metadata": {},
   "outputs": [
    {
     "name": "stdout",
     "output_type": "stream",
     "text": [
      "List of transactions\n",
      "[*********************100%***********************]  4 of 4 downloaded\n",
      "Date:  2011-01-10 00:00:00 Symbol:  AAPL Order:  Buy Shares:  1500 Price:  43.356891999999995 Cash:  934964.662\n",
      "Date:  2011-01-13 00:00:00 Symbol:  AAPL Order:  Sell Shares:  1500 Price:  43.765831 Cash:  1000613.4085\n",
      "Date:  2011-01-13 00:00:00 Symbol:  IBM Order:  Buy Shares:  4000 Price:  117.880554 Cash:  529091.1925\n",
      "Date:  2011-01-26 00:00:00 Symbol:  GOOG Order:  Buy Shares:  1000 Price:  306.258087 Cash:  222833.1055\n",
      "Date:  2011-02-02 00:00:00 Symbol:  XOM Order:  Sell Shares:  4000 Price:  65.633003 Cash:  485365.1175\n",
      "Date:  2011-02-10 00:00:00 Symbol:  XOM Order:  Buy Shares:  4000 Price:  65.81276700000001 Cash:  222114.04949999996\n",
      "Date:  2011-03-03 00:00:00 Symbol:  GOOG Order:  Sell Shares:  1000 Price:  302.810516 Cash:  524924.5655\n",
      "Date:  2011-03-03 00:00:00 Symbol:  IBM Order:  Sell Shares:  2200 Price:  130.005478 Cash:  810936.6171\n",
      "Date:  2011-05-03 00:00:00 Symbol:  IBM Order:  Sell Shares:  3300 Price:  137.472748 Cash:  1264596.6855000001\n",
      "Date:  2011-06-03 00:00:00 Symbol:  IBM Order:  Buy Shares:  1500 Price:  131.84094199999998 Cash:  1066835.2725000002\n",
      "Date:  2011-06-10 00:00:00 Symbol:  AAPL Order:  Buy Shares:  1200 Price:  41.261547 Cash:  1017321.4161000001\n",
      "Date:  2011-08-01 00:00:00 Symbol:  GOOG Order:  Buy Shares:  55 Price:  301.42453 Cash:  1000743.0669500001\n",
      "Date:  2011-08-01 00:00:00 Symbol:  GOOG Order:  Sell Shares:  55 Price:  301.42453 Cash:  1017321.4161000001\n",
      "Date:  2011-12-20 00:00:00 Symbol:  AAPL Order:  Sell Shares:  1200 Price:  50.130421000000005 Cash:  1077477.9213\n"
     ]
    }
   ],
   "source": [
    "initialCash = 1000000\n",
    "ordersFilename = 'input/orders.csv'\n",
    "valuesFilename = 'output/values.csv'\n",
    "\n",
    "# Reading the data from the file, and getting a NumPy matrix\n",
    "ordersDataFrame, symbols = readOrdersFileIntoDF(ordersFilename)\n",
    "\n",
    "# Getting data from marketsim\n",
    "print(\"List of transactions\")\n",
    "valueFrame = marketsim(initialCash, ordersDataFrame, symbols)\n",
    "\n",
    "# Writing data to file\n",
    "writeValuesIntoCSV(valuesFilename, valueFrame)"
   ]
  },
  {
   "cell_type": "markdown",
   "metadata": {},
   "source": [
    "## Part 2: Create a portfolio analysis tool\n",
    "\n",
    "The tool should read in the daily values (cumulative portfolio value) from values.csv and plot them. It should use the symbol on the command line as a benchmark for comparison (in this case $SPX). Using this information, it should:\n",
    "\n",
    "    * Plot the price history over the trading period.\n",
    "    * Your program should also output:\n",
    "        * Standard deviation of daily returns of the total portfolio\n",
    "        * Average daily return of the total portfolio\n",
    "        * Sharpe ratio (Always assume you have 252 trading days in an year. And risk free rate = 0) of the total portfolio\n",
    "        * Cumulative return of the total portfolio \n"
   ]
  },
  {
   "cell_type": "markdown",
   "metadata": {},
   "source": [
    "### Read cumulative portfolio values"
   ]
  },
  {
   "cell_type": "code",
   "execution_count": null,
   "metadata": {},
   "outputs": [],
   "source": [
    "def readValuesFileIntoDF(filename):\n",
    "\n",
    "    # opening the filename\n",
    "    fr = open(filename)\n",
    "    \n",
    "    # for row count in \n",
    "    index=0\n",
    "    \n",
    "    # Lists used for making the dataframe.\n",
    "    # Date list    \n",
    "    dtList = []\n",
    "    \n",
    "    # Cumulative values list\n",
    "    cvList = []\n",
    "    \n",
    "    # For each line\n",
    "    # A Sample Line - 2011,1,14,AAPL,Buy,1500\n",
    "    for orderString in fr.readlines():\n",
    "\n",
    "        # Stripping off the return line character\n",
    "        orderString=orderString.strip()\n",
    "        \n",
    "        # Splitting the line and getting a List back\n",
    "        listFromLine = orderString.split(',')\n",
    "        \n",
    "        # Adding the dates into dtList.\n",
    "        dtList.append(dt.datetime(int(listFromLine[0]), int(listFromLine[1]), int(listFromLine[2])))\n",
    "                \n",
    "        # Adding the number of shares into volumeList\n",
    "        cvList.append(listFromLine[3])\n",
    "\n",
    "    # Creating a Dictionary for converting it into DataFrame later\n",
    "    data = { 'datetime' : dtList, 'Portfolio Value':cvList }\n",
    "\n",
    "    # Converting the Dictinary into a nice looking Pandas Dataframe ordered by datetime index\n",
    "    valuesDataFrame = pd.DataFrame(data)\n",
    "    valuesDataFrame.index= valuesDataFrame['datetime']\n",
    "    \n",
    "    # Drop datetime column\n",
    "    valuesDataFrame.drop('datetime', axis=1, inplace=True)\n",
    "    #print(ordersDataFrame)\n",
    "\n",
    "    \n",
    "    # Returning it.\n",
    "    return valuesDataFrame"
   ]
  },
  {
   "cell_type": "code",
   "execution_count": null,
   "metadata": {},
   "outputs": [],
   "source": [
    "# Funds values\n",
    "valuesFilename = 'output/values.csv'\n",
    "df = readValuesFileIntoDF(valuesFilename)\n",
    "#print(df.head())\n"
   ]
  },
  {
   "cell_type": "markdown",
   "metadata": {},
   "source": [
    "### Fecth SPX data for comparison"
   ]
  },
  {
   "cell_type": "code",
   "execution_count": null,
   "metadata": {},
   "outputs": [],
   "source": [
    "# reading the boundary dates\n",
    "dt_start = df.index[0]\n",
    "dt_end = df.index[len(df)-1]\n",
    "\n",
    "symbolSPX = ['SPX']\n",
    "spxValues = pdr.get_data_yahoo(\n",
    "            # tickers list (single tickers accepts a string as well)\n",
    "            tickers = symbolSPX,\n",
    "\n",
    "            # start date (YYYY-MM-DD / datetime.datetime object)\n",
    "            # (optional, defaults is 1950-01-01)\n",
    "            start = dt_start,\n",
    "\n",
    "            # end date (YYYY-MM-DD / datetime.datetime object)\n",
    "            # (optional, defaults is Today)\n",
    "            end = dt_end,\n",
    "\n",
    "            # return a multi-index dataframe\n",
    "            # (optional, default is Panel, which is deprecated)\n",
    "            as_panel = False,\n",
    "\n",
    "            # group by ticker (to access via data['SPY'])\n",
    "            # (optional, default is 'column')\n",
    "            group_by = 'ticker',\n",
    "\n",
    "            # adjust all OHLC automatically\n",
    "            # (optional, default is False)\n",
    "            auto_adjust = False\n",
    "    )\n",
    "\n",
    "\n",
    "# Convert string to number\n",
    "spxValues['Adj Close'] = pd.to_numeric(spxValues['Adj Close'], errors='coerce')\n",
    "portf_SPX_value = pd.Series(spxValues['Adj Close'])\n",
    "#print(portf_SPX_value)\n"
   ]
  },
  {
   "cell_type": "markdown",
   "metadata": {},
   "source": [
    "### Plot portfolio value from values.csv"
   ]
  },
  {
   "cell_type": "code",
   "execution_count": null,
   "metadata": {},
   "outputs": [],
   "source": [
    "\n",
    "\n",
    "trace_value = go.Scatter(\n",
    "                x=df.index,\n",
    "                y=df['Portfolio Value'],\n",
    "                name = \"Portfolio Value\",\n",
    "                line = dict(color = '#17BECF'),\n",
    "                opacity = 0.8)\n",
    "trace_dr = go.Scatter(\n",
    "                x=spxValues.index,\n",
    "                y=spxValues['Adj Close'],\n",
    "                name = \"SPX\",\n",
    "                line = dict(color = '#FF8000'),\n",
    "                opacity = 0.8)\n",
    "data = [trace_value]\n",
    "\n",
    "layout = dict(\n",
    "    title = \"Cumulative Portfolio Value\",\n",
    "    xaxis = dict(\n",
    "            title='Dates',\n",
    "            rangeselector=dict(\n",
    "                buttons=list([\n",
    "                    dict(count=1,\n",
    "                         label='1m',\n",
    "                         step='month',\n",
    "                         stepmode='backward'),\n",
    "                    dict(count=6,\n",
    "                         label='6m',\n",
    "                         step='month',\n",
    "                         stepmode='backward'),\n",
    "                    dict(step='all')\n",
    "                ])\n",
    "            ),\n",
    "            ),\n",
    "\n",
    "    yaxis = dict(\n",
    "            title='Value')\n",
    "\n",
    "    )\n",
    "\n",
    "\n",
    "\n",
    "fig = dict(data=data, layout=layout)\n",
    "iplot(fig)"
   ]
  },
  {
   "cell_type": "markdown",
   "metadata": {},
   "source": [
    "### Plot the price history over the trading period"
   ]
  },
  {
   "cell_type": "code",
   "execution_count": null,
   "metadata": {},
   "outputs": [],
   "source": [
    "# reading the boundary dates\n",
    "dt_start = df.index[0]\n",
    "dt_end = df.index[len(df)-1]\n",
    "\n",
    "# Getting data from Yahoo\n",
    "values = fetchData(dt_start, dt_end, symbols)\n",
    "\n",
    "# Getting the symbol names\n",
    "columnNames = list(values.head(1)) \n",
    "symbols_dict = dict(columnNames)\n",
    "columnNames = list(symbols_dict.keys()) "
   ]
  },
  {
   "cell_type": "code",
   "execution_count": null,
   "metadata": {},
   "outputs": [],
   "source": [
    "\n",
    "trace_price1 = go.Scatter(\n",
    "                x=df.index,\n",
    "                y=values.iloc[:,0],\n",
    "                name = columnNames[0],\n",
    "                line = dict(color = '#17BECF'),\n",
    "                opacity = 0.8)\n",
    "trace_price2 = go.Scatter(\n",
    "                x=df.index,\n",
    "                y=values.iloc[:,1],\n",
    "                name = columnNames[1],\n",
    "                line = dict(color = '#FF8000'),\n",
    "                opacity = 0.8)\n",
    "trace_price3 = go.Scatter(\n",
    "                x=df.index,\n",
    "                y=values.iloc[:,2],\n",
    "                name = columnNames[2],\n",
    "                line = dict(color = '#FF0000'),\n",
    "                opacity = 0.8)\n",
    "trace_price4 = go.Scatter(\n",
    "                x=df.index,\n",
    "                y=values.iloc[:,3],\n",
    "                name = columnNames[3],\n",
    "                line = dict(color = '#04B404'),\n",
    "                opacity = 0.8)\n",
    "data = [trace_price1, trace_price2, trace_price3, trace_price4]\n",
    "\n",
    "layout = dict(\n",
    "    title = \"Price History over the trading period\",\n",
    "    xaxis = dict(\n",
    "            title='Dates',\n",
    "            rangeselector=dict(\n",
    "                buttons=list([\n",
    "                    dict(count=1,\n",
    "                         label='1m',\n",
    "                         step='month',\n",
    "                         stepmode='backward'),\n",
    "                    dict(count=6,\n",
    "                         label='6m',\n",
    "                         step='month',\n",
    "                         stepmode='backward'),\n",
    "                    dict(step='all')\n",
    "                ])\n",
    "            ),\n",
    "            ),\n",
    "\n",
    "    yaxis = dict(\n",
    "            title='Price')\n",
    "\n",
    "    )\n",
    "\n",
    "\n",
    "\n",
    "fig = dict(data=data, layout=layout)\n",
    "iplot(fig)"
   ]
  },
  {
   "cell_type": "markdown",
   "metadata": {},
   "source": [
    "### Standard deviation of daily returns of the total portfolio "
   ]
  },
  {
   "cell_type": "code",
   "execution_count": null,
   "metadata": {},
   "outputs": [],
   "source": [
    "# Get daily portfolio value\n",
    "valuesFilename = 'output/values.csv'\n",
    "df = readValuesFileIntoDF(valuesFilename)\n",
    "\n",
    "# Convert string to number\n",
    "df['Portfolio Value'] = pd.to_numeric(df['Portfolio Value'], errors='coerce')\n",
    "portf_value = pd.Series(df['Portfolio Value'])\n",
    "\n",
    "\n",
    "# Daily returns funds\n",
    "daily_rets = portf_value.pct_change(1)\n",
    "daily_rets = daily_rets[1:]  \n",
    "\n",
    "# daily returns normedSPX\n",
    "daily_rets_SPX = portf_SPX_value.pct_change()\n",
    "daily_rets_SPX = daily_rets_SPX[1:]\n",
    "\n",
    "trace_daily_rets = go.Scatter(\n",
    "                x=df.index,\n",
    "                y=daily_rets,\n",
    "                name = \"Funds\",\n",
    "                line = dict(color = '#17BECF'),\n",
    "                opacity = 0.8)\n",
    "\n",
    "trace_daily_rets_SPX = go.Scatter(\n",
    "                x=df.index,\n",
    "                y=daily_rets_SPX,\n",
    "                name = \"SPX\",\n",
    "                line = dict(color = '#FF8000'),\n",
    "                opacity = 0.8)\n",
    "\n",
    "data = [trace_daily_rets, trace_daily_rets_SPX]\n",
    "\n",
    "layout = dict(\n",
    "    title = \"Daily Returns of the total Portfolio\",\n",
    "    xaxis = dict(\n",
    "            title='Dates',\n",
    "            rangeselector=dict(\n",
    "                buttons=list([\n",
    "                    dict(count=1,\n",
    "                         label='1m',\n",
    "                         step='month',\n",
    "                         stepmode='backward'),\n",
    "                    dict(count=6,\n",
    "                         label='6m',\n",
    "                         step='month',\n",
    "                         stepmode='backward'),\n",
    "                    dict(step='all')\n",
    "                ])\n",
    "            ),\n",
    "            ),\n",
    "\n",
    "    yaxis = dict(\n",
    "            title='')\n",
    "\n",
    "    )\n",
    "\n",
    "\n",
    "\n",
    "fig = dict(data=data, layout=layout)\n",
    "iplot(fig)\n",
    "\n",
    "# Standar deviation daily return\n",
    "stddevPort = daily_rets.std()\n",
    "\n",
    "# Standar deviation SPX daily return\n",
    "stddevSPX = daily_rets_SPX.std()\n",
    "\n"
   ]
  },
  {
   "cell_type": "markdown",
   "metadata": {},
   "source": [
    "### Average daily return of the total portfolio "
   ]
  },
  {
   "cell_type": "code",
   "execution_count": null,
   "metadata": {},
   "outputs": [],
   "source": [
    "# Averrage daily returns\n",
    "averagePortfolioDailyRets = daily_rets.mean()\n",
    "\n",
    "# Averrage SPX daily returns\n",
    "averageSPXDailyRets = daily_rets_SPX.mean()"
   ]
  },
  {
   "cell_type": "markdown",
   "metadata": {},
   "source": [
    "### Sharpe ratio \n",
    "\n",
    "(Always assume you have 252 trading days in an year. And risk free rate = 0) of the total portfolio "
   ]
  },
  {
   "cell_type": "code",
   "execution_count": null,
   "metadata": {},
   "outputs": [],
   "source": [
    "# Sharpe ratio funds\n",
    "sharpeRatioPort = averagePortfolioDailyRets / stddevPort\n",
    "k = math.sqrt(252)\n",
    "sharpeRatioPort = k * sharpeRatioPort\n",
    "\n",
    "# Sharpe ratio SPX\n",
    "sharpeRatioSPX = averageSPXDailyRets / stddevSPX\n",
    "k = math.sqrt(252)\n",
    "sharpeRatioSPX = k * sharpeRatioSPX"
   ]
  },
  {
   "cell_type": "markdown",
   "metadata": {},
   "source": [
    "### Cumulative return of the total portfolio"
   ]
  },
  {
   "cell_type": "code",
   "execution_count": null,
   "metadata": {},
   "outputs": [],
   "source": [
    "# Cumulative return funds\n",
    "totalPortRet = (portf_value[-1] / portf_value[0] -1)\n",
    "\n",
    "print(portf_value[-1])\n",
    "print(portf_value[0] -1)\n",
    "\n",
    "# Cumulative return SPX\n",
    "totalSPXRet = (portf_SPX_value[-1] / portf_SPX_value[0] -1)"
   ]
  },
  {
   "cell_type": "markdown",
   "metadata": {},
   "source": [
    "## Results"
   ]
  },
  {
   "cell_type": "code",
   "execution_count": null,
   "metadata": {},
   "outputs": [],
   "source": [
    "print(\"The final value of the portfolio using the sample file is \", df.index[-1], \" \", df['Portfolio Value'].iloc[-1])\n",
    "print(\"Details of the Performance of the portfolio\")\n",
    "print(\"\")\n",
    "\n",
    "print(\"Data Range :\", dt_start ,\" to \", dt_end)\n",
    "\n",
    "print(\"\")\n",
    "\n",
    "print(\"Sharpe Ratio of Fund :\", sharpeRatioPort)\n",
    "print(\"Sharpe Ratio of $SPX :\", sharpeRatioSPX)\n",
    "print(\"\")\n",
    "\n",
    "print(\"Total Return of Fund :\", totalPortRet)\n",
    "print(\"Total Return of $SPX :\", totalSPXRet)\n",
    "\n",
    "print(\"\")\n",
    "\n",
    "print(\"Standard Deviation of Fund :\", stddevPort)\n",
    "print(\"Standard Deviation of $SPX :\", stddevSPX)\n",
    "\n",
    "print(\"\")\n",
    "\n",
    "print(\"Average Daily Return of Fund :\", averagePortfolioDailyRets)\n",
    "print(\"Average Daily Return of $SPX :\", averageSPXDailyRets)"
   ]
  },
  {
   "cell_type": "markdown",
   "metadata": {},
   "source": [
    "## Conclusions\n",
    "\n",
    "In this example with the data got from orders.csv file we can conclude the following:\n",
    "\n",
    "1. **Sharpe ratio:** The risk free rate of return is higher in our funds (0.89) than in SPX, \n",
    "2. **Total return or cumulative return:** We'll obtain a 15.20% over our initial investment.\n",
    "3. **Standard Deviation or Volatility:** In this case SPX is more volatile than our fund.\n",
    "4. **Average Daily Return:** We've made a 1.1% with our funds, almost the same as SPX"
   ]
  },
  {
   "cell_type": "code",
   "execution_count": null,
   "metadata": {},
   "outputs": [],
   "source": []
  }
 ],
 "metadata": {
  "kernelspec": {
   "display_name": "Python 3",
   "language": "python",
   "name": "python3"
  },
  "language_info": {
   "codemirror_mode": {
    "name": "ipython",
    "version": 3
   },
   "file_extension": ".py",
   "mimetype": "text/x-python",
   "name": "python",
   "nbconvert_exporter": "python",
   "pygments_lexer": "ipython3",
   "version": "3.6.4"
  },
  "toc-autonumbering": false,
  "toc-showcode": false,
  "toc-showmarkdowntxt": false,
  "toc-showtags": false
 },
 "nbformat": 4,
 "nbformat_minor": 2
}
