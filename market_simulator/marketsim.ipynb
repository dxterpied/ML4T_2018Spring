{
 "cells": [
  {
   "cell_type": "markdown",
   "metadata": {},
   "source": [
    "# Market Simulator\n",
    "ML for trading Udacity Course exercise\n",
    "\n",
    "More info:\n",
    "http://wiki.quantsoftware.org/index.php?title=CompInvesti_Homework_3\n",
    "\n",
    "A transcription of the Udacity Course lectures can be find on https://docs.google.com/document/d/1ELqlnuTSdc9-MDHOkV0uvSY4RmI1eslyQlU9DgOY_jc/edit?usp=sharing\n",
    "\n",
    "Kairoart 2018\n",
    "\"\"\"\n"
   ]
  },
  {
   "cell_type": "markdown",
   "metadata": {},
   "source": [
    "## Overview\n",
    "\n",
    "In this project you will create a basic market simulator that accepts trading orders and keeps track of a portfolio's value and saves it to a file. You will also create another program that assesses the performance of that portfolio. "
   ]
  },
  {
   "cell_type": "markdown",
   "metadata": {},
   "source": [
    "## Part 1: Create a market simulation tool\n",
    "\n",
    "Starting cash: 1000000  \n",
    "Input file: orders.csv \n",
    "Output file: values.csv\n",
    "\n",
    "The file of orders is organized like this:\n",
    "\n",
    "    Year\n",
    "    Month\n",
    "    Day\n",
    "    Symbol\n",
    "    BUY or SELL\n",
    "    Number of Shares \n",
    "    \n",
    "For example:\n",
    "\n",
    "    2008, 12, 3, AAPL, BUY, 130\n",
    "    2008, 12, 8, AAPL, SELL, 130\n",
    "    2008, 12, 5, IBM, BUY, 50\n"
   ]
  },
  {
   "cell_type": "markdown",
   "metadata": {},
   "source": [
    "### Goal\n",
    "\n",
    "Your simulator should calculate the total value of the portfolio for each day using adjusted closing prices (cash plus value of equities) and print the result to the file values.csv. The contents of the values.csv file should look something like this:\n",
    "\n",
    "    2008, 12, 3, 1000000\n",
    "    2008, 12, 4, 1000010\n",
    "    2008, 12, 5, 1000250\n",
    "    ...\n"
   ]
  },
  {
   "cell_type": "markdown",
   "metadata": {},
   "source": [
    "### Import libraries"
   ]
  },
  {
   "cell_type": "code",
   "execution_count": 132,
   "metadata": {},
   "outputs": [],
   "source": [
    "import datetime as dt\n",
    "import matplotlib.pyplot as plt\n",
    "import pandas as pd\n",
    "import numpy as np\n",
    "import operator\n",
    "import sys\n",
    "import csv\n",
    "\n",
    "# To fetch data\n",
    "from pandas_datareader import data as pdr   \n",
    "import fix_yahoo_finance as yf  \n",
    "yf.pdr_override()   "
   ]
  },
  {
   "cell_type": "markdown",
   "metadata": {},
   "source": [
    "### Read orders from file"
   ]
  },
  {
   "cell_type": "code",
   "execution_count": 133,
   "metadata": {},
   "outputs": [],
   "source": [
    "def readOrdersFileIntoDF(filename):\n",
    "\n",
    "    # opening the filename\n",
    "    fr = open(filename)\n",
    "    \n",
    "    # for row count in \n",
    "    index=0\n",
    "    \n",
    "    # Lists used for making the dataframe.\n",
    "    dtList = []\n",
    "    symbolList = []\n",
    "    orderTypeList = []\n",
    "    volumeList = []\n",
    "    \n",
    "    # For each line\n",
    "    # A Sample Line - 2011,1,14,AAPL,Buy,1500\n",
    "    for orderString in fr.readlines():\n",
    "\n",
    "        # Stripping off the return line character\n",
    "        orderString=orderString.strip()\n",
    "        \n",
    "        # Splitting the line and getting a List back\n",
    "        listFromLine = orderString.split(',')\n",
    "        \n",
    "        # Adding the dates into dtList. 16,00,00 for 1600 hrs\n",
    "        dtList.append(dt.datetime(int(listFromLine[0]), int(listFromLine[1]), int(listFromLine[2])))\n",
    "        \n",
    "        # Adding the symbols into symbolList\n",
    "        symbolList.append(listFromLine[3])\n",
    "        \n",
    "        # Adding the orders into orderTypeList\n",
    "        orderTypeList.append(listFromLine[4])\n",
    "        \n",
    "        # Adding the number of shares into volumeList\n",
    "        volumeList.append(listFromLine[5])\n",
    "\n",
    "    # Creating a Dictionary for converting it into DataFrame later\n",
    "    data = { 'datetime' : dtList, 'symbol' : symbolList, 'ordertype':orderTypeList, 'volume':volumeList }\n",
    "\n",
    "    # Converting the Dictinary into a nice looking Pandas Dataframe ordered by datetime index\n",
    "    ordersDataFrame = pd.DataFrame(data)\n",
    "    ordersDataFrame.index= ordersDataFrame['datetime']\n",
    "    \n",
    "    # Drop datetime column\n",
    "    ordersDataFrame.drop('datetime', axis=1, inplace=True)\n",
    "    #print(ordersDataFrame)\n",
    "    \n",
    "    \n",
    "    # Getting the Symbols from the Orders. This list will be required for fetching the prices\n",
    "    symbolList = list(set(ordersDataFrame['symbol']))\n",
    "    \n",
    "    # Returning it.\n",
    "    return ordersDataFrame, symbolList"
   ]
  },
  {
   "cell_type": "markdown",
   "metadata": {},
   "source": [
    "### Get data from Yahoo for the dates "
   ]
  },
  {
   "cell_type": "code",
   "execution_count": 134,
   "metadata": {},
   "outputs": [],
   "source": [
    "def fetchData(dt_start, dt_end, ls_symbols):\n",
    "    \n",
    "    # Get data of trading days between the start and the end.\n",
    "    df = pdr.get_data_yahoo(ls_symbols, dt_start, dt_end)       \n",
    "    nan_rows = df.isnull().sum().sum()\n",
    "    #df.info()\n",
    "    #print(nan_rows)\n",
    "\n",
    "    # Getting the numpy ndarray of close prices.\n",
    "    na_price = df['Close'].values\n",
    "\n",
    "    # returning the closed prices for all the days    \n",
    "    return na_price, df"
   ]
  },
  {
   "cell_type": "markdown",
   "metadata": {},
   "source": [
    "### Market simulator"
   ]
  },
  {
   "cell_type": "code",
   "execution_count": 135,
   "metadata": {},
   "outputs": [],
   "source": [
    "def marketsim(initialCash, ordersdf, symbols):\n",
    "\n",
    "    # reading the boundary dates\n",
    "    dt_start = ordersdf.index[0]\n",
    "    dt_end = ordersdf.index[len(ordersdf)-1]\n",
    "\n",
    "    # All the adjustedClosingPrices fetched from NYSE within the range and for given symbols\n",
    "    closingPrices, ldt_timestamps = fetchData(dt_start, dt_end, symbols)\n",
    "\n",
    "    num_tradingDays = len(ldt_timestamps)\n",
    " \n",
    "    # For Holdings of the share\n",
    "    temp = np.zeros((1, len(symbols)))\n",
    "    holdings = pd.DataFrame(temp, columns = symbols, index = ['holdings'])\n",
    "    \n",
    "    #Cash for the days\n",
    "    temp = np.zeros((num_tradingDays, 1))\n",
    "    cash = pd.DataFrame(temp, columns = ['cashinhand'])\n",
    "    \n",
    "    #Value for the days\n",
    "    temp = np.zeros((num_tradingDays, 1))\n",
    "    valueFrame = pd.DataFrame(temp, columns = ['valueOfPortfolio'])\n",
    "\n",
    "    #Setting the first value to be the initial cash amount.\n",
    "    cash.cashinhand.loc[0] = initialCash\n",
    "    \n",
    "    index = 0\n",
    "    \n",
    "    for tradingDayIndex in range(num_tradingDays):\n",
    "        if tradingDayIndex != 0:\n",
    "            cash.cashinhand.loc[tradingDayIndex] = cash.cashinhand.loc[tradingDayIndex - 1] \n",
    "        else:\n",
    "            cash.cashinhand.loc[tradingDayIndex] = initialCash\n",
    "      \n",
    "   \n",
    "        for tradingOrder in ordersDataFrame.index:\n",
    "            if tradingOrder == ldt_timestamps.index[tradingDayIndex]:\n",
    "                if ordersdf.ordertype.iloc[index] == 'Buy':\n",
    "                    toBuySymbol = ordersdf.symbol.iloc[index]\n",
    "                    toBuy = symbols.index(toBuySymbol)\n",
    "                    numShares = ordersdf.volume.iloc[index]\n",
    "                    priceForTheDay = closingPrices[tradingDayIndex, toBuy]\n",
    "                    cash.cashinhand.iloc[tradingDayIndex] = cash.cashinhand.iloc[tradingDayIndex] - (priceForTheDay * float(numShares))\n",
    "                    holdings[toBuySymbol].iloc[0] += int(numShares)\n",
    "\n",
    "                elif ordersdf.ordertype.iloc[index] == 'Sell':\n",
    "                    toSellSymbol = ordersdf.symbol.iloc[index]\n",
    "                    toSell = symbols.index(toSellSymbol)\n",
    "                    numShares = ordersdf.volume.iloc[index]\n",
    "                    priceForTheDay = closingPrices[tradingDayIndex, toSell]\n",
    "                    cash.cashinhand.iloc[tradingDayIndex] = cash.cashinhand.iloc[tradingDayIndex] + (priceForTheDay * float(numShares))\n",
    "                    holdings[toSellSymbol].iloc[0] -= int(numShares)\n",
    "                else:\n",
    "                    print(\"error\")\n",
    "                index+=1\n",
    "\n",
    "        valueFromPortfolio = 0\n",
    "\n",
    "        for symbol in symbols:\n",
    "            priceForTheDay = closingPrices[tradingDayIndex, symbols.index(symbol)]\n",
    "            valueFromPortfolio += holdings[symbol].iloc[0] * priceForTheDay\n",
    "\n",
    "        valueFrame.valueOfPortfolio.iloc[tradingDayIndex] = valueFromPortfolio + cash.cashinhand.iloc[tradingDayIndex]\n",
    "\n",
    "    valueFrame.index = ldt_timestamps.index\n",
    "    return holdings, valueFrame, cash"
   ]
  },
  {
   "cell_type": "markdown",
   "metadata": {},
   "source": [
    "### Write values to file"
   ]
  },
  {
   "cell_type": "code",
   "execution_count": null,
   "metadata": {},
   "outputs": [],
   "source": [
    "def writeValuesIntoCSV(valuesFilename, valueFrame):\n",
    "    file = open(valuesFilename, 'w')\n",
    "    writer = csv.writer(file)\n",
    "    \n",
    "    for index in range(len(valueFrame)):\n",
    "        writer.writerow([valueFrame.index[index].year, valueFrame.index[index].month, valueFrame.index[index].day ,int(round(valueFrame.valueOfPortfolio.iloc[index], 0))])\n",
    "    \n",
    "    file.close()"
   ]
  },
  {
   "cell_type": "markdown",
   "metadata": {},
   "source": [
    "### Define initial values and execute simulation"
   ]
  },
  {
   "cell_type": "code",
   "execution_count": null,
   "metadata": {},
   "outputs": [
    {
     "name": "stdout",
     "output_type": "stream",
     "text": [
      "[                       0%                       ]"
     ]
    }
   ],
   "source": [
    "initialCash = 1000000\n",
    "ordersFilename = 'input/orders.csv'\n",
    "valuesFilename = 'output/values.csv'\n",
    "\n",
    "# Reading the data from the file, and getting a NumPy matrix\n",
    "ordersDataFrame, symbols = readOrdersFileIntoDF(ordersFilename)\n",
    "\n",
    "holdings, valueFrame, cash = marketsim(initialCash, ordersDataFrame, symbols)\n",
    "\n",
    "writeValuesIntoCSV(valuesFilename, valueFrame)"
   ]
  },
  {
   "cell_type": "code",
   "execution_count": null,
   "metadata": {},
   "outputs": [],
   "source": []
  }
 ],
 "metadata": {
  "kernelspec": {
   "display_name": "Python 3",
   "language": "python",
   "name": "python3"
  },
  "language_info": {
   "codemirror_mode": {
    "name": "ipython",
    "version": 3
   },
   "file_extension": ".py",
   "mimetype": "text/x-python",
   "name": "python",
   "nbconvert_exporter": "python",
   "pygments_lexer": "ipython3",
   "version": "3.6.4"
  },
  "toc-showtags": false
 },
 "nbformat": 4,
 "nbformat_minor": 2
}
