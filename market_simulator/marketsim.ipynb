{
 "cells": [
  {
   "cell_type": "markdown",
   "metadata": {},
   "source": [
    "# Market Simulator\n",
    "ML for trading Udacity Course exercise\n",
    "\n",
    "More info:\n",
    "http://wiki.quantsoftware.org/index.php?title=CompInvesti_Homework_3\n",
    "\n",
    "A transcription of the Udacity Course lectures can be find on https://docs.google.com/document/d/1ELqlnuTSdc9-MDHOkV0uvSY4RmI1eslyQlU9DgOY_jc/edit?usp=sharing\n",
    "\n",
    "Kairoart 2018\n",
    "\"\"\"\n"
   ]
  },
  {
   "cell_type": "markdown",
   "metadata": {},
   "source": [
    "## Overview\n",
    "\n",
    "In this project you will create a basic market simulator that accepts trading orders and keeps track of a portfolio's value and saves it to a file. You will also create another program that assesses the performance of that portfolio. "
   ]
  },
  {
   "cell_type": "markdown",
   "metadata": {},
   "source": [
    "## Part 1: Create a market simulation tool\n",
    "\n",
    "Where the number represents starting cash and orders.csv is a file of orders organized like this:\n",
    "\n",
    "    Year\n",
    "    Month\n",
    "    Day\n",
    "    Symbol\n",
    "    BUY or SELL\n",
    "    Number of Shares \n",
    "    \n",
    "For example:\n",
    "\n",
    "    2008, 12, 3, AAPL, BUY, 130\n",
    "    2008, 12, 8, AAPL, SELL, 130\n",
    "    2008, 12, 5, IBM, BUY, 50\n"
   ]
  },
  {
   "cell_type": "markdown",
   "metadata": {},
   "source": [
    "### Goal\n",
    "\n",
    "Your simulator should calculate the total value of the portfolio for each day using adjusted closing prices (cash plus value of equities) and print the result to the file values.csv. The contents of the values.csv file should look something like this:\n",
    "\n",
    "    2008, 12, 3, 1000000\n",
    "    2008, 12, 4, 1000010\n",
    "    2008, 12, 5, 1000250\n",
    "    ...\n"
   ]
  },
  {
   "cell_type": "markdown",
   "metadata": {},
   "source": [
    "### 1. Read the csv file"
   ]
  },
  {
   "cell_type": "code",
   "execution_count": 3,
   "metadata": {},
   "outputs": [
    {
     "name": "stdout",
     "output_type": "stream",
     "text": [
      "['2011', '1', '10', 'AAPL', 'Buy', '1500', '']\n",
      "['2011', '1', '13', 'AAPL', 'Sell', '1500', '']\n",
      "['2011', '1', '13', 'IBM', 'Buy', '4000', '']\n",
      "['2011', '1', '26', 'GOOG', 'Buy', '1000', '']\n",
      "['2011', '2', '2', 'XOM', 'Sell', '4000', '']\n",
      "['2011', '2', '10', 'XOM', 'Buy', '4000', '']\n",
      "['2011', '3', '3', 'GOOG', 'Sell', '1000', '']\n",
      "['2011', '3', '3', 'IBM', 'Sell', '2200', '']\n",
      "['2011', '6', '3', 'IBM', 'Sell', '3300', '']\n",
      "['2011', '5', '3', 'IBM', 'Buy', '1500', '']\n",
      "['2011', '6', '10', 'AAPL', 'Buy', '1200', '']\n",
      "['2011', '8', '1', 'GOOG', 'Buy', '55', '']\n",
      "['2011', '8', '1', 'GOOG', 'Sell', '55', '']\n",
      "['2011', '12', '20', 'AAPL', 'Sell', '1200', '']\n"
     ]
    },
    {
     "name": "stderr",
     "output_type": "stream",
     "text": [
      "/home/emi/anaconda3/lib/python3.6/site-packages/ipykernel_launcher.py:2: DeprecationWarning: 'U' mode is deprecated\n",
      "  \n"
     ]
    }
   ],
   "source": [
    "import csv\n",
    "reader = csv.reader(open('input/orders.csv', 'rU'), delimiter = ',')\n",
    "for row in reader:\n",
    "    print(row)"
   ]
  },
  {
   "cell_type": "code",
   "execution_count": null,
   "metadata": {},
   "outputs": [],
   "source": []
  }
 ],
 "metadata": {
  "kernelspec": {
   "display_name": "Python 3",
   "language": "python",
   "name": "python3"
  },
  "language_info": {
   "codemirror_mode": {
    "name": "ipython",
    "version": 3
   },
   "file_extension": ".py",
   "mimetype": "text/x-python",
   "name": "python",
   "nbconvert_exporter": "python",
   "pygments_lexer": "ipython3",
   "version": "3.6.4"
  }
 },
 "nbformat": 4,
 "nbformat_minor": 2
}
