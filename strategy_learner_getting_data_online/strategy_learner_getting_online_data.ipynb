{
 "cells": [
  {
   "cell_type": "markdown",
   "metadata": {
    "slideshow": {
     "slide_type": "slide"
    },
    "toc-hr-collapsed": false
   },
   "source": [
    "# Strategy Learner getting data online\n",
    "\n",
    "\n",
    "Kairoart 2018\n",
    "\"\"\"\n"
   ]
  },
  {
   "cell_type": "markdown",
   "metadata": {
    "slideshow": {
     "slide_type": "slide"
    }
   },
   "source": [
    "## Overview\n",
    "\n",
    "In this project we will design a learning trading agent. Your choices are:\n",
    "\n",
    "1. Regression or classification-based learner: Create a strategy using your Random Forest learner. Suggestions if you follow this approach: Classification_Trader_Hints. Important note, if you choose this method, you must set the leaf_size for your learner to 5 or greater. This is to avoid degenerate overfitting in-sample.\n",
    "2. Reinforcement Learner-based approach: Create a Q-learning-based strategy using your Q-Learner. Read the Classification_Trader_Hints first, because many of the ideas there are relevant for the Q trader, then see Q_Trader_Hints\n",
    "3. Optimization-based learner: Create a scan-based strategy using an optimizer. Read the Classification_Trader_Hints first, because many of the ideas there are relevant for the Opto trader, then see Opto_Trader_Hints\n",
    "\n",
    "Regardless of your choice above, your learner should work in the following way:\n",
    "\n",
    "* In the training phase (e.g., addEvidence()) your learner will be provided with a stock symbol and a time period. It should use this data to learn a strategy. For instance, for a regression-based learner it will use this data to make predictions about future price changes.\n",
    "* In the testing phase (e.g., testPolicy()) your learner will be provided a symbol and a date range. All learning should be turned OFF during this phase.\n",
    "\n",
    "\n",
    "If the date range is the same as used for the training, it is an in-sample test. Otherwise it is an out-of-sample test. Your learner should return a trades dataframe like it did in the last project. Here are some important requirements: Your testPolicy() method should be much faster than your addEvidence() method. The timeout requirements (see rubric) will be set accordingly. Multiple calls to your testPolicy() method should return exactly the same result. "
   ]
  },
  {
   "cell_type": "markdown",
   "metadata": {},
   "source": [
    "## Tasks\n",
    "\n",
    "* Devise numerical/technical indicators to evaluate the state of a stock on each day.\n",
    "* Build a strategy learner based on one of the learners described above that uses the indicators.\n",
    "* Test/debug the strategy learner on specific symbol/time period problems.\n",
    "* Write a report describing your learning strategy."
   ]
  },
  {
   "cell_type": "markdown",
   "metadata": {},
   "source": [
    "## Data Details, Dates and Rules\n",
    "\n",
    "* For your report, trade only the symbol JPM. This will enable us to more easily compare results. We will test your learner with other symbols as well.\n",
    "* You may use data from other symbols (such as SPY) to inform your strategy.\n",
    "* The in sample/development period is January 1, 2008 to December 31 2009.\n",
    "* The out of sample/testing period is January 1, 2010 to December 31 2011.\n",
    "* Starting cash is 100,000.\n",
    "* Allowable positions are: 1000 shares long, 1000 shares short, 0 shares.\n",
    "* Benchmark: The performance of a portfolio starting with 100,000 cash, investing in 1000 shares of the symbol in use and holding that position. Include transaction costs.\n",
    "* There is no limit on leverage.\n",
    "* Transaction costs: Commission will always be 0.00, Impact may vary, and will be passed in as a parameter to the learner.\n",
    "* Minimize use of herrings."
   ]
  },
  {
   "cell_type": "markdown",
   "metadata": {},
   "source": [
    "## Implement Strategy Learner\n",
    "\n",
    "For this part of the project you should develop a learner that can learn a trading policy using your learner. You should be able to use your Q-Learner or RTLearner from the earlier project directly, with no changes. If you want to use the optimization approach, you will need to create new code or that. You will need to write code in StrategyLearner.py to \"wrap\" your learner appropriately to frame the trading problem for it."
   ]
  },
  {
   "cell_type": "markdown",
   "metadata": {},
   "source": [
    "### StrategyLearner API\n",
    "\n",
    "import StrategyLearner as sl\n",
    "learner = sl.StrategyLearner(verbose = False, impact = 0.000) # constructor\n",
    "learner.addEvidence(symbol = \"AAPL\", sd=dt.datetime(2008,1,1), ed=dt.datetime(2009,12,31), sv = 100000) # training phase\n",
    "df_trades = learner.testPolicy(symbol = \"AAPL\", sd=dt.datetime(2010,1,1), ed=dt.datetime(2011,12,31), sv = 100000) # testing phase\n",
    "\n",
    "The input parameters are:\n",
    "\n",
    "* verbose: if False do not generate any output\n",
    "* impact: The market impact of each transaction.\n",
    "* symbol: the stock symbol to train on\n",
    "* sd: A datetime object that represents the start date\n",
    "* ed: A datetime object that represents the end date\n",
    "* sv: Start value of the portfolio\n",
    "\n",
    "The output result is:\n",
    "\n",
    "* df_trades: A data frame whose values represent trades for each day. Legal values are +1000.0 indicating a BUY of 1000 shares, -1000.0 indicating a SELL of 1000 shares, and 0.0 indicating NOTHING. Values of +2000 and -2000 for trades are also legal when switching from long to short or short to long so long as net holdings are constrained to -1000, 0, and 1000."
   ]
  },
  {
   "cell_type": "markdown",
   "metadata": {},
   "source": [
    "## Goal\n",
    "\n",
    "Implement a StrategyLearner that trains a QLearner for trading a symbol."
   ]
  },
  {
   "cell_type": "markdown",
   "metadata": {},
   "source": [
    "## Import libraries"
   ]
  },
  {
   "cell_type": "code",
   "execution_count": 1,
   "metadata": {},
   "outputs": [
    {
     "data": {
      "text/html": [
       "<script>requirejs.config({paths: { 'plotly': ['https://cdn.plot.ly/plotly-latest.min']},});if(!window.Plotly) {{require(['plotly'],function(plotly) {window.Plotly=plotly;});}}</script>"
      ],
      "text/vnd.plotly.v1+html": [
       "<script>requirejs.config({paths: { 'plotly': ['https://cdn.plot.ly/plotly-latest.min']},});if(!window.Plotly) {{require(['plotly'],function(plotly) {window.Plotly=plotly;});}}</script>"
      ]
     },
     "metadata": {},
     "output_type": "display_data"
    },
    {
     "data": {
      "text/html": [
       "<script>requirejs.config({paths: { 'plotly': ['https://cdn.plot.ly/plotly-latest.min']},});if(!window.Plotly) {{require(['plotly'],function(plotly) {window.Plotly=plotly;});}}</script>"
      ],
      "text/vnd.plotly.v1+html": [
       "<script>requirejs.config({paths: { 'plotly': ['https://cdn.plot.ly/plotly-latest.min']},});if(!window.Plotly) {{require(['plotly'],function(plotly) {window.Plotly=plotly;});}}</script>"
      ]
     },
     "metadata": {},
     "output_type": "display_data"
    }
   ],
   "source": [
    "import pandas as pd\n",
    "import numpy as np  \n",
    "import datetime as dt\n",
    "\n",
    "# To fetch data\n",
    "from pandas_datareader import data as pdr   \n",
    "import fix_yahoo_finance as yf  \n",
    "yf.pdr_override()   \n",
    "\n",
    "from util import create_df_benchmark, fetchOnlineData\n",
    "from strategyLearner import strategyLearner\n",
    "from marketsim import compute_portvals_single_symbol, market_simulator\n",
    "from indicators import get_momentum, get_sma, get_sma_indicator, compute_bollinger_value, get_RSI, plot_cum_return,  plot_momentum, plot_sma_indicator, plot_rsi_indicator, plot_momentum_sma_indicator"
   ]
  },
  {
   "cell_type": "markdown",
   "metadata": {},
   "source": [
    "## Initial Variables"
   ]
  },
  {
   "cell_type": "code",
   "execution_count": 2,
   "metadata": {},
   "outputs": [],
   "source": [
    "start_val = 100000\n",
    "symbol = \"AMZN\"\n",
    "commission = 0.00\n",
    "impact = 0.0\n",
    "num_shares = 1000"
   ]
  },
  {
   "cell_type": "markdown",
   "metadata": {},
   "source": [
    "## In-sample performance\n",
    "\n",
    "Show the performances of portfolio and benchmark in the in-sample period."
   ]
  },
  {
   "cell_type": "code",
   "execution_count": 3,
   "metadata": {},
   "outputs": [],
   "source": [
    "# Specify the start and end dates for this period.\n",
    "start_d = dt.datetime(2008, 1, 1)\n",
    "end_d = dt.datetime(2009, 12, 31)"
   ]
  },
  {
   "cell_type": "code",
   "execution_count": 6,
   "metadata": {},
   "outputs": [
    {
     "name": "stdout",
     "output_type": "stream",
     "text": [
      "[*********************100%***********************]  1 of 1 downloaded\n",
      "                  Open        High         Low       Close   Adj Close  \\\n",
      "Date                                                                     \n",
      "2007-12-31   93.809998   94.370003   92.449997   92.639999   92.639999   \n",
      "2008-01-02   95.349998   97.430000   94.699997   96.250000   96.250000   \n",
      "2008-01-03   96.059998   97.250000   94.519997   95.209999   95.209999   \n",
      "2008-01-04   93.260002   93.400002   88.500000   88.790001   88.790001   \n",
      "2008-01-07   88.620003   90.570000   85.470001   88.820000   88.820000   \n",
      "2008-01-08   87.550003   91.830002   86.930000   87.879997   87.879997   \n",
      "2008-01-09   87.559998   87.800003   80.239998   85.220001   85.220001   \n",
      "2008-01-10   83.980003   85.970001   82.970001   84.260002   84.260002   \n",
      "2008-01-11   84.029999   84.029999   80.290001   81.080002   81.080002   \n",
      "2008-01-14   82.180000   83.320000   78.870003   82.870003   82.870003   \n",
      "2008-01-15   80.489998   81.010002   78.510002   80.239998   80.239998   \n",
      "2008-01-16   79.580002   82.360001   78.440002   80.349998   80.349998   \n",
      "2008-01-17   80.160004   82.250000   79.540001   80.120003   80.120003   \n",
      "2008-01-18   79.930000   82.309998   78.040001   79.760002   79.760002   \n",
      "2008-01-22   73.580002   79.720001   72.220001   78.480003   78.480003   \n",
      "2008-01-23   75.599998   76.800003   69.949997   73.970001   73.970001   \n",
      "2008-01-24   74.529999   77.879997   74.190002   77.669998   77.669998   \n",
      "2008-01-25   78.690002   81.430000   76.330002   77.599998   77.599998   \n",
      "2008-01-28   76.910004   77.400002   74.339996   75.820000   75.820000   \n",
      "2008-01-29   75.769997   75.900002   72.059998   73.949997   73.949997   \n",
      "2008-01-30   73.540001   77.419998   73.250000   74.209999   74.209999   \n",
      "2008-01-31   68.910004   78.870003   68.839996   77.699997   77.699997   \n",
      "2008-02-01   79.019997   79.400002   73.370003   74.629997   74.629997   \n",
      "2008-02-04   74.500000   76.660004   73.900002   73.949997   73.949997   \n",
      "2008-02-05   72.800003   74.209999   72.000000   72.089996   72.089996   \n",
      "2008-02-06   72.300003   72.430000   68.169998   68.489998   68.489998   \n",
      "2008-02-07   67.370003   72.709999   67.220001   70.910004   70.910004   \n",
      "2008-02-08   73.400002   74.599998   72.519997   73.500000   73.500000   \n",
      "2008-02-11   73.139999   75.959999   72.769997   75.190002   75.190002   \n",
      "2008-02-12   75.430000   77.050003   73.790001   74.449997   74.449997   \n",
      "...                ...         ...         ...         ...         ...   \n",
      "2009-11-18  130.899994  131.410004  129.529999  131.289993  131.289993   \n",
      "2009-11-19  130.539993  130.539993  128.479996  128.990005  128.990005   \n",
      "2009-11-20  127.760002  129.990005  127.410004  129.660004  129.660004   \n",
      "2009-11-23  131.050003  133.000000  131.000000  133.000000  133.000000   \n",
      "2009-11-24  133.570007  134.330002  132.220001  132.940002  132.940002   \n",
      "2009-11-25  133.309998  134.199997  132.399994  134.029999  134.029999   \n",
      "2009-11-27  130.300003  133.000000  129.880005  131.740005  131.740005   \n",
      "2009-11-30  132.190002  136.080002  132.160004  135.910004  135.910004   \n",
      "2009-12-01  136.940002  139.350006  135.750000  138.500000  138.500000   \n",
      "2009-12-02  139.149994  142.669998  138.960007  142.250000  142.250000   \n",
      "2009-12-03  143.619995  145.910004  140.770004  141.169998  141.169998   \n",
      "2009-12-04  143.419998  143.449997  135.110001  137.580002  137.580002   \n",
      "2009-12-07  138.000000  139.000000  133.839996  134.210007  134.210007   \n",
      "2009-12-08  134.300003  136.080002  132.869995  134.110001  134.110001   \n",
      "2009-12-09  134.600006  134.710007  129.820007  131.309998  131.309998   \n",
      "2009-12-10  132.410004  136.190002  132.399994  135.380005  135.380005   \n",
      "2009-12-11  136.070007  136.289993  133.199997  134.149994  134.149994   \n",
      "2009-12-14  132.500000  132.610001  129.350006  131.380005  131.380005   \n",
      "2009-12-15  130.759995  132.460007  129.589996  130.229996  130.229996   \n",
      "2009-12-16  130.929993  131.449997  127.650002  128.360001  128.360001   \n",
      "2009-12-17  129.360001  130.080002  126.900002  126.910004  126.910004   \n",
      "2009-12-18  127.910004  128.789993  125.650002  128.479996  128.479996   \n",
      "2009-12-21  130.479996  133.199997  130.190002  132.789993  132.789993   \n",
      "2009-12-22  133.759995  135.990005  132.649994  133.750000  133.750000   \n",
      "2009-12-23  134.800003  139.050003  134.350006  138.940002  138.940002   \n",
      "2009-12-24  139.199997  139.699997  137.539993  138.470001  138.470001   \n",
      "2009-12-28  139.750000  141.979996  138.529999  139.309998  139.309998   \n",
      "2009-12-29  141.289993  142.580002  138.550003  139.410004  139.410004   \n",
      "2009-12-30  138.399994  138.399994  135.279999  136.490005  136.490005   \n",
      "2009-12-31  137.089996  137.279999  134.520004  134.520004  134.520004   \n",
      "\n",
      "              Volume  \n",
      "Date                  \n",
      "2007-12-31   5755200  \n",
      "2008-01-02  13858700  \n",
      "2008-01-03   9122500  \n",
      "2008-01-04  10270000  \n",
      "2008-01-07   9981600  \n",
      "2008-01-08  12283300  \n",
      "2008-01-09  16410900  \n",
      "2008-01-10  11609900  \n",
      "2008-01-11  10624300  \n",
      "2008-01-14   9056100  \n",
      "2008-01-15   9655900  \n",
      "2008-01-16  12407000  \n",
      "2008-01-17   9900900  \n",
      "2008-01-18  13364300  \n",
      "2008-01-22  12822200  \n",
      "2008-01-23  20405700  \n",
      "2008-01-24   9886600  \n",
      "2008-01-25  10027600  \n",
      "2008-01-28   8505300  \n",
      "2008-01-29   9958000  \n",
      "2008-01-30  25298700  \n",
      "2008-01-31  42885900  \n",
      "2008-02-01  16361000  \n",
      "2008-02-04   9155200  \n",
      "2008-02-05   9633900  \n",
      "2008-02-06  12399500  \n",
      "2008-02-07  14501700  \n",
      "2008-02-08  11700400  \n",
      "2008-02-11   7763700  \n",
      "2008-02-12   9449000  \n",
      "...              ...  \n",
      "2009-11-18   5213500  \n",
      "2009-11-19   5998200  \n",
      "2009-11-20   6652600  \n",
      "2009-11-23   6878100  \n",
      "2009-11-24   7319700  \n",
      "2009-11-25   5071200  \n",
      "2009-11-27   4422600  \n",
      "2009-11-30  10119500  \n",
      "2009-12-01   9657600  \n",
      "2009-12-02  11798000  \n",
      "2009-12-03  16523500  \n",
      "2009-12-04  14827400  \n",
      "2009-12-07   7837000  \n",
      "2009-12-08   8002800  \n",
      "2009-12-09  12632900  \n",
      "2009-12-10  11343600  \n",
      "2009-12-11   8046700  \n",
      "2009-12-14  10022900  \n",
      "2009-12-15   7428800  \n",
      "2009-12-16  10261300  \n",
      "2009-12-17   8476500  \n",
      "2009-12-18   9605400  \n",
      "2009-12-21   9473600  \n",
      "2009-12-22   8257500  \n",
      "2009-12-23   9546100  \n",
      "2009-12-24   5128800  \n",
      "2009-12-28   8763900  \n",
      "2009-12-29   8400600  \n",
      "2009-12-30   6913200  \n",
      "2009-12-31   4523000  \n",
      "\n",
      "[506 rows x 6 columns]\n"
     ]
    }
   ],
   "source": [
    "portf_AMZN_value = fetchOnlineData(start_d, end_d, symbol)\n",
    "#print(portf_AMZN_value)\n"
   ]
  },
  {
   "cell_type": "code",
   "execution_count": null,
   "metadata": {},
   "outputs": [],
   "source": []
  },
  {
   "cell_type": "code",
   "execution_count": 7,
   "metadata": {},
   "outputs": [
    {
     "name": "stderr",
     "output_type": "stream",
     "text": [
      "/home/emi/Jupyter/ML4T_2018Spring/strategy_learner_getting_data_online/indicators.py:100: FutureWarning:\n",
      "\n",
      "pd.rolling_apply is deprecated for Series and will be removed in a future version, replace with \n",
      "\tSeries.rolling(window=10,center=False).apply(func=<function>,args=<tuple>,kwargs=<dict>)\n",
      "\n"
     ]
    },
    {
     "name": "stdout",
     "output_type": "stream",
     "text": [
      "[*********************100%***********************]  1 of 1 downloaded\n"
     ]
    },
    {
     "ename": "KeyError",
     "evalue": "'the label [AMZN] is not in the [index]'",
     "output_type": "error",
     "traceback": [
      "\u001b[0;31m---------------------------------------------------------------------------\u001b[0m",
      "\u001b[0;31mKeyError\u001b[0m                                  Traceback (most recent call last)",
      "\u001b[0;32m~/anaconda3/lib/python3.6/site-packages/pandas/core/indexing.py\u001b[0m in \u001b[0;36m_has_valid_type\u001b[0;34m(self, key, axis)\u001b[0m\n\u001b[1;32m   1505\u001b[0m                 \u001b[0;32mif\u001b[0m \u001b[0;32mnot\u001b[0m \u001b[0max\u001b[0m\u001b[0;34m.\u001b[0m\u001b[0mcontains\u001b[0m\u001b[0;34m(\u001b[0m\u001b[0mkey\u001b[0m\u001b[0;34m)\u001b[0m\u001b[0;34m:\u001b[0m\u001b[0;34m\u001b[0m\u001b[0m\n\u001b[0;32m-> 1506\u001b[0;31m                     \u001b[0merror\u001b[0m\u001b[0;34m(\u001b[0m\u001b[0;34m)\u001b[0m\u001b[0;34m\u001b[0m\u001b[0m\n\u001b[0m\u001b[1;32m   1507\u001b[0m             \u001b[0;32mexcept\u001b[0m \u001b[0mTypeError\u001b[0m \u001b[0;32mas\u001b[0m \u001b[0me\u001b[0m\u001b[0;34m:\u001b[0m\u001b[0;34m\u001b[0m\u001b[0m\n",
      "\u001b[0;32m~/anaconda3/lib/python3.6/site-packages/pandas/core/indexing.py\u001b[0m in \u001b[0;36merror\u001b[0;34m()\u001b[0m\n\u001b[1;32m   1500\u001b[0m                                .format(key=key,\n\u001b[0;32m-> 1501\u001b[0;31m                                        axis=self.obj._get_axis_name(axis)))\n\u001b[0m\u001b[1;32m   1502\u001b[0m \u001b[0;34m\u001b[0m\u001b[0m\n",
      "\u001b[0;31mKeyError\u001b[0m: 'the label [AMZN] is not in the [index]'",
      "\nDuring handling of the above exception, another exception occurred:\n",
      "\u001b[0;31mKeyError\u001b[0m                                  Traceback (most recent call last)",
      "\u001b[0;32m<ipython-input-7-c3cfa9ad575c>\u001b[0m in \u001b[0;36m<module>\u001b[0;34m()\u001b[0m\n\u001b[1;32m     13\u001b[0m                       num_states=3000, num_actions=3)\n\u001b[1;32m     14\u001b[0m stl.add_evidence(symbol=symbol, start_val=start_val, \n\u001b[0;32m---> 15\u001b[0;31m                  start_date=start_d, end_date=end_d)\n\u001b[0m\u001b[1;32m     16\u001b[0m df_trades = stl.test_policy(symbol=symbol, start_date=start_d,\n\u001b[1;32m     17\u001b[0m                             end_date=end_d)\n",
      "\u001b[0;32m~/Jupyter/ML4T_2018Spring/strategy_learner_getting_data_online/strategyLearner.py\u001b[0m in \u001b[0;36madd_evidence\u001b[0;34m(self, symbol, start_date, end_date, start_val)\u001b[0m\n\u001b[1;32m    219\u001b[0m                                                       \u001b[0mstart_val\u001b[0m\u001b[0;34m=\u001b[0m\u001b[0mstart_val\u001b[0m\u001b[0;34m,\u001b[0m\u001b[0;34m\u001b[0m\u001b[0m\n\u001b[1;32m    220\u001b[0m                                                       \u001b[0mcommission\u001b[0m\u001b[0;34m=\u001b[0m\u001b[0mself\u001b[0m\u001b[0;34m.\u001b[0m\u001b[0mcommission\u001b[0m\u001b[0;34m,\u001b[0m\u001b[0;34m\u001b[0m\u001b[0m\n\u001b[0;32m--> 221\u001b[0;31m                                                       impact=self.impact)\n\u001b[0m\u001b[1;32m    222\u001b[0m             \u001b[0mcum_return\u001b[0m \u001b[0;34m=\u001b[0m \u001b[0mget_portfolio_stats\u001b[0m\u001b[0;34m(\u001b[0m\u001b[0mportvals\u001b[0m\u001b[0;34m)\u001b[0m\u001b[0;34m[\u001b[0m\u001b[0;36m0\u001b[0m\u001b[0;34m]\u001b[0m\u001b[0;34m\u001b[0m\u001b[0m\n\u001b[1;32m    223\u001b[0m             \u001b[0mcum_returns\u001b[0m\u001b[0;34m.\u001b[0m\u001b[0mappend\u001b[0m\u001b[0;34m(\u001b[0m\u001b[0mcum_return\u001b[0m\u001b[0;34m)\u001b[0m\u001b[0;34m\u001b[0m\u001b[0m\n",
      "\u001b[0;32m~/Jupyter/ML4T_2018Spring/strategy_learner_getting_data_online/marketsim.py\u001b[0m in \u001b[0;36mcompute_portvals_single_symbol\u001b[0;34m(df_orders, symbol, start_val, commission, impact)\u001b[0m\n\u001b[1;32m     55\u001b[0m     \u001b[0;32mfor\u001b[0m \u001b[0mindex\u001b[0m\u001b[0;34m,\u001b[0m \u001b[0mrow\u001b[0m \u001b[0;32min\u001b[0m \u001b[0mdf_orders\u001b[0m\u001b[0;34m.\u001b[0m\u001b[0miterrows\u001b[0m\u001b[0;34m(\u001b[0m\u001b[0;34m)\u001b[0m\u001b[0;34m:\u001b[0m\u001b[0;34m\u001b[0m\u001b[0m\n\u001b[1;32m     56\u001b[0m         \u001b[0;31m# Total value of shares purchased or sold\u001b[0m\u001b[0;34m\u001b[0m\u001b[0;34m\u001b[0m\u001b[0m\n\u001b[0;32m---> 57\u001b[0;31m         \u001b[0mtraded_share_value\u001b[0m \u001b[0;34m=\u001b[0m \u001b[0mdf_prices\u001b[0m\u001b[0;34m.\u001b[0m\u001b[0mloc\u001b[0m\u001b[0;34m[\u001b[0m\u001b[0mindex\u001b[0m\u001b[0;34m,\u001b[0m \u001b[0msymbol\u001b[0m\u001b[0;34m]\u001b[0m \u001b[0;34m*\u001b[0m \u001b[0mrow\u001b[0m\u001b[0;34m[\u001b[0m\u001b[0;34m\"Shares\"\u001b[0m\u001b[0;34m]\u001b[0m\u001b[0;34m\u001b[0m\u001b[0m\n\u001b[0m\u001b[1;32m     58\u001b[0m         \u001b[0;31m# Transaction cost\u001b[0m\u001b[0;34m\u001b[0m\u001b[0;34m\u001b[0m\u001b[0m\n\u001b[1;32m     59\u001b[0m         \u001b[0mtransaction_cost\u001b[0m \u001b[0;34m=\u001b[0m \u001b[0mcommission\u001b[0m \u001b[0;34m+\u001b[0m \u001b[0mimpact\u001b[0m \u001b[0;34m*\u001b[0m \u001b[0mdf_prices\u001b[0m\u001b[0;34m.\u001b[0m\u001b[0mloc\u001b[0m\u001b[0;34m[\u001b[0m\u001b[0mindex\u001b[0m\u001b[0;34m,\u001b[0m \u001b[0msymbol\u001b[0m\u001b[0;34m]\u001b[0m\u001b[0;31m \u001b[0m\u001b[0;31m\\\u001b[0m\u001b[0;34m\u001b[0m\u001b[0m\n",
      "\u001b[0;32m~/anaconda3/lib/python3.6/site-packages/pandas/core/indexing.py\u001b[0m in \u001b[0;36m__getitem__\u001b[0;34m(self, key)\u001b[0m\n\u001b[1;32m   1365\u001b[0m             \u001b[0;32mexcept\u001b[0m \u001b[0;34m(\u001b[0m\u001b[0mKeyError\u001b[0m\u001b[0;34m,\u001b[0m \u001b[0mIndexError\u001b[0m\u001b[0;34m)\u001b[0m\u001b[0;34m:\u001b[0m\u001b[0;34m\u001b[0m\u001b[0m\n\u001b[1;32m   1366\u001b[0m                 \u001b[0;32mpass\u001b[0m\u001b[0;34m\u001b[0m\u001b[0m\n\u001b[0;32m-> 1367\u001b[0;31m             \u001b[0;32mreturn\u001b[0m \u001b[0mself\u001b[0m\u001b[0;34m.\u001b[0m\u001b[0m_getitem_tuple\u001b[0m\u001b[0;34m(\u001b[0m\u001b[0mkey\u001b[0m\u001b[0;34m)\u001b[0m\u001b[0;34m\u001b[0m\u001b[0m\n\u001b[0m\u001b[1;32m   1368\u001b[0m         \u001b[0;32melse\u001b[0m\u001b[0;34m:\u001b[0m\u001b[0;34m\u001b[0m\u001b[0m\n\u001b[1;32m   1369\u001b[0m             \u001b[0;31m# we by definition only have the 0th axis\u001b[0m\u001b[0;34m\u001b[0m\u001b[0;34m\u001b[0m\u001b[0m\n",
      "\u001b[0;32m~/anaconda3/lib/python3.6/site-packages/pandas/core/indexing.py\u001b[0m in \u001b[0;36m_getitem_tuple\u001b[0;34m(self, tup)\u001b[0m\n\u001b[1;32m    856\u001b[0m     \u001b[0;32mdef\u001b[0m \u001b[0m_getitem_tuple\u001b[0m\u001b[0;34m(\u001b[0m\u001b[0mself\u001b[0m\u001b[0;34m,\u001b[0m \u001b[0mtup\u001b[0m\u001b[0;34m)\u001b[0m\u001b[0;34m:\u001b[0m\u001b[0;34m\u001b[0m\u001b[0m\n\u001b[1;32m    857\u001b[0m         \u001b[0;32mtry\u001b[0m\u001b[0;34m:\u001b[0m\u001b[0;34m\u001b[0m\u001b[0m\n\u001b[0;32m--> 858\u001b[0;31m             \u001b[0;32mreturn\u001b[0m \u001b[0mself\u001b[0m\u001b[0;34m.\u001b[0m\u001b[0m_getitem_lowerdim\u001b[0m\u001b[0;34m(\u001b[0m\u001b[0mtup\u001b[0m\u001b[0;34m)\u001b[0m\u001b[0;34m\u001b[0m\u001b[0m\n\u001b[0m\u001b[1;32m    859\u001b[0m         \u001b[0;32mexcept\u001b[0m \u001b[0mIndexingError\u001b[0m\u001b[0;34m:\u001b[0m\u001b[0;34m\u001b[0m\u001b[0m\n\u001b[1;32m    860\u001b[0m             \u001b[0;32mpass\u001b[0m\u001b[0;34m\u001b[0m\u001b[0m\n",
      "\u001b[0;32m~/anaconda3/lib/python3.6/site-packages/pandas/core/indexing.py\u001b[0m in \u001b[0;36m_getitem_lowerdim\u001b[0;34m(self, tup)\u001b[0m\n\u001b[1;32m   1018\u001b[0m                     \u001b[0;32mreturn\u001b[0m \u001b[0msection\u001b[0m\u001b[0;34m\u001b[0m\u001b[0m\n\u001b[1;32m   1019\u001b[0m                 \u001b[0;31m# This is an elided recursive call to iloc/loc/etc'\u001b[0m\u001b[0;34m\u001b[0m\u001b[0;34m\u001b[0m\u001b[0m\n\u001b[0;32m-> 1020\u001b[0;31m                 \u001b[0;32mreturn\u001b[0m \u001b[0mgetattr\u001b[0m\u001b[0;34m(\u001b[0m\u001b[0msection\u001b[0m\u001b[0;34m,\u001b[0m \u001b[0mself\u001b[0m\u001b[0;34m.\u001b[0m\u001b[0mname\u001b[0m\u001b[0;34m)\u001b[0m\u001b[0;34m[\u001b[0m\u001b[0mnew_key\u001b[0m\u001b[0;34m]\u001b[0m\u001b[0;34m\u001b[0m\u001b[0m\n\u001b[0m\u001b[1;32m   1021\u001b[0m \u001b[0;34m\u001b[0m\u001b[0m\n\u001b[1;32m   1022\u001b[0m         \u001b[0;32mraise\u001b[0m \u001b[0mIndexingError\u001b[0m\u001b[0;34m(\u001b[0m\u001b[0;34m'not applicable'\u001b[0m\u001b[0;34m)\u001b[0m\u001b[0;34m\u001b[0m\u001b[0m\n",
      "\u001b[0;32m~/anaconda3/lib/python3.6/site-packages/pandas/core/indexing.py\u001b[0m in \u001b[0;36m__getitem__\u001b[0;34m(self, key)\u001b[0m\n\u001b[1;32m   1371\u001b[0m \u001b[0;34m\u001b[0m\u001b[0m\n\u001b[1;32m   1372\u001b[0m             \u001b[0mmaybe_callable\u001b[0m \u001b[0;34m=\u001b[0m \u001b[0mcom\u001b[0m\u001b[0;34m.\u001b[0m\u001b[0m_apply_if_callable\u001b[0m\u001b[0;34m(\u001b[0m\u001b[0mkey\u001b[0m\u001b[0;34m,\u001b[0m \u001b[0mself\u001b[0m\u001b[0;34m.\u001b[0m\u001b[0mobj\u001b[0m\u001b[0;34m)\u001b[0m\u001b[0;34m\u001b[0m\u001b[0m\n\u001b[0;32m-> 1373\u001b[0;31m             \u001b[0;32mreturn\u001b[0m \u001b[0mself\u001b[0m\u001b[0;34m.\u001b[0m\u001b[0m_getitem_axis\u001b[0m\u001b[0;34m(\u001b[0m\u001b[0mmaybe_callable\u001b[0m\u001b[0;34m,\u001b[0m \u001b[0maxis\u001b[0m\u001b[0;34m=\u001b[0m\u001b[0maxis\u001b[0m\u001b[0;34m)\u001b[0m\u001b[0;34m\u001b[0m\u001b[0m\n\u001b[0m\u001b[1;32m   1374\u001b[0m \u001b[0;34m\u001b[0m\u001b[0m\n\u001b[1;32m   1375\u001b[0m     \u001b[0;32mdef\u001b[0m \u001b[0m_is_scalar_access\u001b[0m\u001b[0;34m(\u001b[0m\u001b[0mself\u001b[0m\u001b[0;34m,\u001b[0m \u001b[0mkey\u001b[0m\u001b[0;34m)\u001b[0m\u001b[0;34m:\u001b[0m\u001b[0;34m\u001b[0m\u001b[0m\n",
      "\u001b[0;32m~/anaconda3/lib/python3.6/site-packages/pandas/core/indexing.py\u001b[0m in \u001b[0;36m_getitem_axis\u001b[0;34m(self, key, axis)\u001b[0m\n\u001b[1;32m   1624\u001b[0m \u001b[0;34m\u001b[0m\u001b[0m\n\u001b[1;32m   1625\u001b[0m         \u001b[0;31m# fall thru to straight lookup\u001b[0m\u001b[0;34m\u001b[0m\u001b[0;34m\u001b[0m\u001b[0m\n\u001b[0;32m-> 1626\u001b[0;31m         \u001b[0mself\u001b[0m\u001b[0;34m.\u001b[0m\u001b[0m_has_valid_type\u001b[0m\u001b[0;34m(\u001b[0m\u001b[0mkey\u001b[0m\u001b[0;34m,\u001b[0m \u001b[0maxis\u001b[0m\u001b[0;34m)\u001b[0m\u001b[0;34m\u001b[0m\u001b[0m\n\u001b[0m\u001b[1;32m   1627\u001b[0m         \u001b[0;32mreturn\u001b[0m \u001b[0mself\u001b[0m\u001b[0;34m.\u001b[0m\u001b[0m_get_label\u001b[0m\u001b[0;34m(\u001b[0m\u001b[0mkey\u001b[0m\u001b[0;34m,\u001b[0m \u001b[0maxis\u001b[0m\u001b[0;34m=\u001b[0m\u001b[0maxis\u001b[0m\u001b[0;34m)\u001b[0m\u001b[0;34m\u001b[0m\u001b[0m\n\u001b[1;32m   1628\u001b[0m \u001b[0;34m\u001b[0m\u001b[0m\n",
      "\u001b[0;32m~/anaconda3/lib/python3.6/site-packages/pandas/core/indexing.py\u001b[0m in \u001b[0;36m_has_valid_type\u001b[0;34m(self, key, axis)\u001b[0m\n\u001b[1;32m   1512\u001b[0m                 \u001b[0;32mraise\u001b[0m\u001b[0;34m\u001b[0m\u001b[0m\n\u001b[1;32m   1513\u001b[0m             \u001b[0;32mexcept\u001b[0m\u001b[0;34m:\u001b[0m\u001b[0;34m\u001b[0m\u001b[0m\n\u001b[0;32m-> 1514\u001b[0;31m                 \u001b[0merror\u001b[0m\u001b[0;34m(\u001b[0m\u001b[0;34m)\u001b[0m\u001b[0;34m\u001b[0m\u001b[0m\n\u001b[0m\u001b[1;32m   1515\u001b[0m \u001b[0;34m\u001b[0m\u001b[0m\n\u001b[1;32m   1516\u001b[0m         \u001b[0;32mreturn\u001b[0m \u001b[0;32mTrue\u001b[0m\u001b[0;34m\u001b[0m\u001b[0m\n",
      "\u001b[0;32m~/anaconda3/lib/python3.6/site-packages/pandas/core/indexing.py\u001b[0m in \u001b[0;36merror\u001b[0;34m()\u001b[0m\n\u001b[1;32m   1499\u001b[0m                 raise KeyError(u\"the label [{key}] is not in the [{axis}]\"\n\u001b[1;32m   1500\u001b[0m                                .format(key=key,\n\u001b[0;32m-> 1501\u001b[0;31m                                        axis=self.obj._get_axis_name(axis)))\n\u001b[0m\u001b[1;32m   1502\u001b[0m \u001b[0;34m\u001b[0m\u001b[0m\n\u001b[1;32m   1503\u001b[0m             \u001b[0;32mtry\u001b[0m\u001b[0;34m:\u001b[0m\u001b[0;34m\u001b[0m\u001b[0m\n",
      "\u001b[0;31mKeyError\u001b[0m: 'the label [AMZN] is not in the [index]'"
     ]
    }
   ],
   "source": [
    "# Get benchmark data\n",
    "\n",
    "benchmark_prices = portf_AMZN_value['Adj Close']\n",
    "# Create benchmark data: Benchmark is a portfolio starting with $100,000, investing in 1000 shares of symbol and holding that position\n",
    "df_benchmark_trades = create_df_benchmark(symbol, start_d, end_d, num_shares)\n",
    "\n",
    "#print (df_benchmark_trades)\n",
    "\n",
    "# Train and test a StrategyLearner\n",
    "# Set verbose to True will print out and plot the cumulative return for each training epoch\n",
    "stl = strategyLearner(num_shares=num_shares, impact=impact, \n",
    "                      commission=commission, verbose=True,\n",
    "                      num_states=3000, num_actions=3)\n",
    "stl.add_evidence(symbol=symbol, start_val=start_val, \n",
    "                 start_date=start_d, end_date=end_d)\n",
    "df_trades = stl.test_policy(symbol=symbol, start_date=start_d,\n",
    "                            end_date=end_d)\n",
    "#print (df_trades)"
   ]
  },
  {
   "cell_type": "markdown",
   "metadata": {},
   "source": [
    "### Training market simulator\n"
   ]
  },
  {
   "cell_type": "code",
   "execution_count": null,
   "metadata": {},
   "outputs": [],
   "source": [
    "# Retrieve performance stats via a market simulator\n",
    "print (\"Performances during training period for {}\".format(symbol))\n",
    "print (\"Date Range: {} to {}\".format(start_d, end_d))\n",
    "orders_count, sharpe_ratio, cum_ret, std_daily_ret, avg_daily_ret, final_value = market_simulator(df_trades, df_benchmark_trades, symbol=symbol, \n",
    "                 start_val=start_val, commission=commission, impact=impact, title=\"Portfolio Value\", xtitle=\"Dates\", ytitle=\"Value\")"
   ]
  },
  {
   "cell_type": "markdown",
   "metadata": {},
   "source": [
    "## Out of sample performance\n",
    "\n",
    "Show the performances of portfolio and benchmark in the out of sample period. Use the same StrategyLearner trained above and retrieve a trades dataframe via test_policy."
   ]
  },
  {
   "cell_type": "code",
   "execution_count": null,
   "metadata": {},
   "outputs": [],
   "source": [
    "# Specify the start and end dates for this period.\n",
    "start_d = dt.datetime(2010, 1, 1)\n",
    "end_d = dt.datetime(2011, 12, 31)\n",
    "\n",
    "# Get benchmark data\n",
    "benchmark_prices = get_data([symbol], pd.date_range(start_d, end_d), addSPY=False).dropna()\n",
    "\n",
    "# Create benchmark data: Benchmark is a portfolio starting with $100,000, investing in 1000 shares of symbol and holding that position\n",
    "df_benchmark_trades = create_df_benchmark(symbol, start_d, end_d, num_shares)\n",
    "\n",
    "#print (df_benchmark_trades)\n",
    "\n",
    "# Test a StrategyLearner\n",
    "# Use the same StrategyLearner trained above and retrieve a trades dataframe via test_policy\n",
    "df_trades = stl.test_policy(symbol=symbol, start_date=start_d,\n",
    "                            end_date=end_d)\n",
    "#print (df_trades)\n",
    "\n"
   ]
  },
  {
   "cell_type": "markdown",
   "metadata": {},
   "source": [
    "### Test market simulator\n"
   ]
  },
  {
   "cell_type": "code",
   "execution_count": null,
   "metadata": {},
   "outputs": [],
   "source": [
    "# Retrieve performance stats via a market simulator\n",
    "print (\"Performances during test period for {}\".format(symbol))\n",
    "print (\"Date Range: {} to {}\".format(start_d, end_d))\n",
    "orders_count, sharpe_ratio, cum_ret, std_daily_ret, avg_daily_ret, final_value = market_simulator(df_trades, df_benchmark_trades, symbol=symbol, \n",
    "                 start_val=start_val, commission=commission, impact=impact, title=\"Portfolio Value\", xtitle=\"Dates\", ytitle=\"Value\")"
   ]
  },
  {
   "cell_type": "code",
   "execution_count": null,
   "metadata": {},
   "outputs": [],
   "source": [
    "df_trades.info()"
   ]
  },
  {
   "cell_type": "markdown",
   "metadata": {},
   "source": [
    "# Report\n",
    "\n",
    "Describe the steps you took to frame the trading problem as a learning problem for your learner. What are your indicators? Did you adjust the data in any way (dicretization, standardization)? Why or why not?\n",
    "\n",
    "**Steps:**\n",
    "\n",
    "1. Get adjusted close prices for symbol.\n",
    "2. Set the QLearner parameters:\n",
    "    * num_shares: The number of shares that can be traded in one order\n",
    "    * epochs: The number of times to train the QLearner\n",
    "    * num_steps: The number of steps used in getting thresholds for the\n",
    "    discretization process. It is the number of groups to put data into.\n",
    "3. Compute technical indicators and use them as features to be fed into a Q-learner.\n",
    "    * Momentum\n",
    "    * SMA indicator\n",
    "    * RSI indicator\n",
    "4. Get features and thresholds.\n",
    "5. Define states, actions, and rewards. \n",
    "    * States are combinations of our features. \n",
    "    * Actions are buy, sell, do nothing. \n",
    "    * Rewards:\n",
    "        Calculate the daily reward as a percentage change in prices: \n",
    "        - Position is long: if the price goes up (curr_price > prev_price),\n",
    "          we get a positive reward; otherwise, we get a negative reward\n",
    "        - Position is short: if the price goes down, we get a positive reward;\n",
    "        otherwise, we a negative reward\n",
    "        - Position is cash: we get no reward\n",
    "6. Set initial position holding to nothing.\n",
    "7. Create a series that captures order signals based on actions taken.\n",
    "8. Iterate over the data by date.\n",
    "    * Discretize features and return a state. Get a state; add 1 to position so that states >= 0.\n",
    "    * On the first day, get an action without updating the Q-table.\n",
    "    * On the last day, close any open positions.\n",
    "    * Add new_pos to orders.\n",
    "    * Update current position.\n",
    "9. Create a trade dataframe.\n",
    "10. Training: Choose the training period and you iterate over that training period and update your Q-table on each iteration. When you reach the end of that training period you backtest to see how good the model is and you go back and repeat, until the model quits getting better.\n",
    "Once it's converged you stop, you've got your model.\n",
    "11. Testing the model: You just backtest it on later data.\n",
    "\n",
    "    "
   ]
  },
  {
   "cell_type": "markdown",
   "metadata": {},
   "source": [
    "## Indicator charts"
   ]
  },
  {
   "cell_type": "markdown",
   "metadata": {},
   "source": [
    "### Momentum chart"
   ]
  },
  {
   "cell_type": "code",
   "execution_count": null,
   "metadata": {},
   "outputs": [],
   "source": [
    "# Specify the start and end dates for this period.\n",
    "start_d = dt.datetime(2008, 1, 1)\n",
    "end_d = dt.datetime(2009, 12, 31)\n",
    "\n",
    "# Set dates\n",
    "dates = pd.date_range(start_d, end_d)\n",
    "\n",
    "# Get adjusted close prices for symbol\n",
    "df = get_data([symbol], dates, addSPY=False)\n",
    "df = df.dropna()\n",
    "\n",
    "\n",
    "# Normalize the prices Dataframe\n",
    "normed = pd.DataFrame()\n",
    "for column in df:\n",
    "    normed[column] = df[column].values / df[column].iloc[0];\n",
    "\n",
    "# 2. Compute momentum\n",
    "sym_mom = get_momentum(normed[column], window=10)\n",
    "\n",
    "# 3. Plot raw JPM values and Momentum\n",
    "plot_momentum(df.index, normed[column], sym_mom, \"Momentum Indicator\", (12, 8))"
   ]
  },
  {
   "cell_type": "markdown",
   "metadata": {},
   "source": [
    "### SMA indicator"
   ]
  },
  {
   "cell_type": "code",
   "execution_count": null,
   "metadata": {},
   "outputs": [],
   "source": [
    "# Specify the start and end dates for this period.\n",
    "start_d = dt.datetime(2008, 1, 1)\n",
    "end_d = dt.datetime(2009, 12, 31)\n",
    "\n",
    "# Set dates\n",
    "dates = pd.date_range(start_d, end_d)\n",
    "\n",
    "# Get adjusted close prices for symbol\n",
    "df = get_data([symbol], dates, addSPY=False)\n",
    "df = df.dropna()\n",
    "\n",
    "# Normalize the prices Dataframe\n",
    "normed = pd.DataFrame()\n",
    "for column in df:\n",
    "    normed[column] = df[column].values / df[column].iloc[0];\n",
    "\n",
    "# Compute SMA\n",
    "sma_JPM, q = get_sma(normed[column], window=10)\n",
    "\n",
    "# Plot symbol values, SMA and SMA quality\n",
    "plot_sma_indicator(dates, df.index, normed[column], sma_JPM, q, \"Simple Moving Average (SMA)\")\n"
   ]
  },
  {
   "cell_type": "markdown",
   "metadata": {},
   "source": [
    "### Momentum/SMA cross indicator"
   ]
  },
  {
   "cell_type": "code",
   "execution_count": null,
   "metadata": {},
   "outputs": [],
   "source": [
    "# Specify the start and end dates for this period.\n",
    "start_d = dt.datetime(2008, 1, 1)\n",
    "end_d = dt.datetime(2009, 12, 31)\n",
    "\n",
    "# Set dates\n",
    "dates = pd.date_range(start_d, end_d)\n",
    "\n",
    "# Get adjusted close prices for symbol\n",
    "df = get_data([symbol], dates, addSPY=False)\n",
    "df = df.dropna()\n",
    "\n",
    "# Compute momentum\n",
    "sym_mom = get_momentum(normed[column], window=10)\n",
    "\n",
    "# Compute SMA\n",
    "sma_JPM, q = get_sma(normed[column], window=10)\n",
    "\n",
    "# Plot symbol values, SMA and Momentum\n",
    "plot_momentum_sma_indicator(dates, df.index, normed[column], sma_JPM, sym_mom, \"Momentum/SMA\")\n",
    "\n"
   ]
  },
  {
   "cell_type": "markdown",
   "metadata": {},
   "source": [
    "### RSI indicator"
   ]
  },
  {
   "cell_type": "code",
   "execution_count": null,
   "metadata": {},
   "outputs": [],
   "source": [
    "# Specify the start and end dates for this period.\n",
    "start_d = dt.datetime(2008, 1, 1)\n",
    "end_d = dt.datetime(2009, 12, 31)\n",
    "\n",
    "# Set dates\n",
    "dates = pd.date_range(start_d, end_d)\n",
    "\n",
    "# Get adjusted close prices for symbol\n",
    "df = get_data([symbol], dates, addSPY=False)\n",
    "df = df.dropna()\n",
    "\n",
    "# 1. Compute RSI\n",
    "rsi_JPM = get_RSI(df['JPM'])\n",
    "\n",
    "# 2. Plot RSI\n",
    "plot_rsi_indicator(dates, df.index, df['JPM'], rsi_JPM, window=14, \n",
    "                   title=\"RSI Indicator\", fig_size=(12, 6))\n"
   ]
  },
  {
   "cell_type": "markdown",
   "metadata": {},
   "source": [
    "# TODO\n",
    "\n",
    "Write a PDF report describing your system. The centerpiece of your report should be the description of how you utilized your learner to determine trades"
   ]
  }
 ],
 "metadata": {
  "kernelspec": {
   "display_name": "Python 3",
   "language": "python",
   "name": "python3"
  },
  "language_info": {
   "codemirror_mode": {
    "name": "ipython",
    "version": 3
   },
   "file_extension": ".py",
   "mimetype": "text/x-python",
   "name": "python",
   "nbconvert_exporter": "python",
   "pygments_lexer": "ipython3",
   "version": "3.6.4"
  },
  "toc-autonumbering": true,
  "toc-showcode": true,
  "toc-showmarkdowntxt": false,
  "toc-showtags": false
 },
 "nbformat": 4,
 "nbformat_minor": 2
}
