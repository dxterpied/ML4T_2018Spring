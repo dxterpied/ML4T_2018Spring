{
 "cells": [
  {
   "cell_type": "markdown",
   "metadata": {},
   "source": [
    "# Optimize a portfolio\n",
    "ML for trading Udacity Course exercise\n",
    "\n",
    "Analyze a portfolio.\n",
    "http://quantsoftware.gatech.edu/Optimize_something\n",
    "\n",
    "A transcription of the Udacity Course lectures can be find on https://docs.google.com/document/d/1ELqlnuTSdc9-MDHOkV0uvSY4RmI1eslyQlU9DgOY_jc/edit?usp=sharing\n",
    "\n",
    "Kairoart 2018\n",
    "\"\"\"\n"
   ]
  },
  {
   "cell_type": "markdown",
   "metadata": {},
   "source": [
    "## Overview\n",
    "\n",
    "In this project you will use what you learned about optimizers to optimize a portfolio. That means that you will find how much of a portfolio's funds should be allocated to each stock so as to optimize it's performance. We can optimize for many different metrics. In previous versions of this assignment, we tried to maximize Sharpe Ratio. We're changing it this time to define \"optimal\" as minimum volatility.\n",
    "\n",
    "You will leverage the functions you created in the \"asess_portfolio\" project that assessed the value of a portfolio with a given set of allocations."
   ]
  },
  {
   "cell_type": "markdown",
   "metadata": {},
   "source": [
    "## Task\n",
    "Implement a Python function named optimize_portfolio() that can find the optimal allocations for a given set of stocks. You should **optimize for minimum volatility** (i.e., standard deviation of daily return).\n",
    "\n",
    "The function should accept as input a list of symbols as well as start and end dates and return a list of floats (as a one-dimensional numpy array) that represents the allocations to each of the equities. You should take advantage of routines developed in the portfolio analysis project to compute daily portfolio value and statistics. You should cut-and-paste your code for the functions that did this from the last project into optimization.py.\n",
    "\n",
    "You are given the following inputs for optimizing a portfolio:\n",
    "\n",
    "* A date range to select the historical data to use (specified by a start and end date)\n",
    "* Symbols for equities (e.g., GOOG, AAPL, GLD, XOM). Note: You should support any symbol in the data directory.\n",
    "\n",
    "You should implement the following API EXACTLY.\n",
    "\n",
    "import datetime as dt\n",
    "allocs, cr, adr, sddr, sr = \\\n",
    "    optimize_portfolio(sd=dt.datetime(2008,1,1), ed=dt.datetime(2009,1,1), \\\n",
    "    syms=['GOOG','AAPL','GLD','XOM'], gen_plot=False)\n"
   ]
  },
  {
   "cell_type": "markdown",
   "metadata": {},
   "source": [
    "### Inputs\n",
    "\n",
    "* sd: A datetime object that represents the start date\n",
    "* ed: A datetime object that represents the end date\n",
    "* syms: A list of symbols that make up the portfolio (note that your code should support any symbol in the data directory)\n",
    "* gen_plot: If True, create a plot named plot.png"
   ]
  },
  {
   "cell_type": "markdown",
   "metadata": {},
   "source": [
    "### Output\n",
    "\n",
    "* allocs: A 1-d Numpy ndarray of allocations to the stocks. All the allocations must be between 0.0 and 1.0 and they must sum to 1.0.\n",
    "* cr: Cumulative return\n",
    "* adr: Average daily return\n",
    "* sddr: Standard deviation of daily return\n",
    "* sr: Sharpe ratio"
   ]
  },
  {
   "cell_type": "markdown",
   "metadata": {},
   "source": [
    "## Goal\n",
    "\n",
    "Your goal is to find allocations to the symbols that optimize the criteria given above. Assume 252 trading days in a year and a risk free return of 0.0 per day."
   ]
  },
  {
   "cell_type": "markdown",
   "metadata": {},
   "source": [
    "## Import libraries"
   ]
  },
  {
   "cell_type": "code",
   "execution_count": 43,
   "metadata": {},
   "outputs": [],
   "source": [
    "import numpy as np\n",
    "import pandas as pd\n",
    "import datetime as dt\n",
    "import scipy\n",
    "import os\n",
    "import matplotlib.pyplot as plt\n",
    "import scipy.optimize as sco\n",
    "import math\n",
    "\n",
    "# Add parent directory PATH for looking for modules,\n",
    "import sys\n",
    "sys.path.insert(0,'..')\n",
    "from util import get_data, plot_data"
   ]
  },
  {
   "cell_type": "markdown",
   "metadata": {},
   "source": [
    "## Define functions"
   ]
  },
  {
   "cell_type": "markdown",
   "metadata": {},
   "source": [
    "### Find optimal allocations\n",
    "\n",
    "* We have to provide a function to minimize f(x) that takes in x. (x = allocs)\n",
    "* An initial guess for that x. \n",
    "* Call the optimizer and let it run.\n"
   ]
  },
  {
   "cell_type": "code",
   "execution_count": 2,
   "metadata": {},
   "outputs": [],
   "source": [
    "# Define input parameters\n",
    "start_date = dt.datetime(2010,1,1)\n",
    "end_date = dt.datetime(2010,12,31)\n",
    "syms = ['GOOG', 'AAPL', 'GLD', 'XOM']\n",
    "sc=1000000\n",
    "\n",
    "# Read in adjusted closing prices for given symbols, date range\n",
    "dates = pd.date_range(start_date, end_date)\n",
    "prices_all = get_data(syms, dates)  # automatically adds SPY\n",
    "prices = prices_all[syms]  # only portfolio symbols\n"
   ]
  },
  {
   "cell_type": "code",
   "execution_count": 14,
   "metadata": {},
   "outputs": [
    {
     "name": "stdout",
     "output_type": "stream",
     "text": [
      "Optimization terminated successfully.    (Exit mode 0)\n",
      "            Current function value: -0.267039734101812\n",
      "            Iterations: 7\n",
      "            Function evaluations: 42\n",
      "            Gradient evaluations: 7\n",
      "[6.38378239e-16 1.00000000e+00 0.00000000e+00 1.76941795e-15] -0.267039734101812\n"
     ]
    }
   ],
   "source": [
    "import scipy.optimize as spo\n",
    "# Number optimal allocations\n",
    "noa = len(prices.columns)\n",
    "# Using shift with positive integer shifts rows value downwards\n",
    "rets = np.log(prices / prices.shift(1))\n",
    "#print(rets)\n",
    "\n",
    "# Expected portfolio returns\n",
    "prets = [0, 0, 0, 0]\n",
    "# Expected portfolio volatility    \n",
    "pvols = [0, 0, 0, 0]\n",
    "\n",
    "\n",
    "for p in range (2500):\n",
    "    allocs = np.random.random(noa)\n",
    "    allocs /= np.sum(allocs)\n",
    "    prets.append(np.sum(rets.mean() * allocs) * 252) \n",
    "    pvols.append(np.sqrt(np.dot(allocs.T, np.dot(rets.cov() * 252, allocs))))\n",
    "\n",
    "def statistics(allocs):\n",
    "        ''' Returns portfolio statistics.\n",
    "        Parameters\n",
    "        ==========\n",
    "        @allocs : <array-like> weights for different securities in portfolio\n",
    "        \n",
    "        Returns\n",
    "        =======\n",
    "        @pret : <float> expected portfolio return\n",
    "        @pvol : <float> expected portfolio volatility\n",
    "        @pret / pvol : <float> Sharpe ratio for rf=0\n",
    "        '''\n",
    "        allocs = np.array(allocs)\n",
    "        pret = np.sum(rets.mean() * allocs) * 252\n",
    "        pvol = np.sqrt(np.dot(allocs.T, np.dot(rets.cov() * 252, allocs)))\n",
    "        return np.array([pret, pvol, pret / pvol]) \n",
    "\n",
    "\n",
    "def min_func_volatility(allocs):\n",
    "        return -statistics(allocs)[1]\n",
    "\n",
    "\n",
    "\n",
    "\n",
    " # The function to be minimized.\n",
    "def min_func_volatility(allocs):   \n",
    "    return -statistics(allocs)[1]\n",
    "\n",
    "cons = ({'type': 'eq', 'fun': lambda x: np.sum(x) - 1})\n",
    "bnds = tuple((0, 1) for x in range(noa))\n",
    "\n",
    "\n",
    "# Minimizer\n",
    "min_result = spo.minimize(min_func_volatility, allocs, method='SLSQP', bounds=bnds, constraints=cons, options={'disp': True, })\n",
    "print(min_result.x, min_result.fun)"
   ]
  },
  {
   "cell_type": "code",
   "execution_count": 32,
   "metadata": {},
   "outputs": [],
   "source": [
    "def find_optimal_allocations(prices):\n",
    "\n",
    "    # Number optimal allocations\n",
    "    noa = len(prices.columns)\n",
    "    # Using shift with positive integer shifts rows value downwards\n",
    "    rets = np.log(prices / prices.shift(1))\n",
    "    #print rets\n",
    "\n",
    "    # Expected portfolio returns\n",
    "    prets = [0, 0, 0, 0]\n",
    "    # Expected portfolio volatility    \n",
    "    pvols = [0, 0, 0, 0]\n",
    "    \n",
    "    # Initial guess for allocs\n",
    "    for p in range (2500):\n",
    "        allocs = np.random.random(noa)\n",
    "        allocs /= np.sum(allocs)\n",
    "        prets.append(np.sum(rets.mean() * allocs) * 252)\n",
    "        pvols.append(np.sqrt(np.dot(allocs.T, np.dot(rets.cov() * 252, allocs))))\n",
    "    \n",
    "    \n",
    "    prets = np.array(prets)\n",
    "    pvols = np.array(pvols)\n",
    "\n",
    "    def statistics(allocs):\n",
    "        ''' Returns portfolio statistics.\n",
    "        Parameters\n",
    "        ==========\n",
    "        @allocs : <array-like> weights for different securities in portfolio\n",
    "        \n",
    "        Returns\n",
    "        =======\n",
    "        @pret : <float> expected portfolio return\n",
    "        @pvol : <float> expected portfolio volatility\n",
    "        @pret / pvol : <float> Sharpe ratio for rf=0\n",
    "        '''\n",
    "        allocs = np.array(allocs)\n",
    "        pret = np.sum(rets.mean() * allocs) * 252\n",
    "        pvol = np.sqrt(np.dot(allocs.T, np.dot(rets.cov() * 252, allocs)))\n",
    "        return np.array([pret, pvol, pret / pvol])\n",
    "\n",
    "    # The function to be minimized.\n",
    "    def min_func_volatility(allocs):   \n",
    "        return -statistics(allocs)[1]\n",
    "    \n",
    "    cons = ({'type': 'eq', 'fun': lambda x: np.sum(x) - 1})\n",
    "    bnds = tuple((0, 1) for x in range(noa))\n",
    "\n",
    "\n",
    "    # Minimizer\n",
    "    min_result = spo.minimize(min_func_volatility, allocs, method='SLSQP', bounds=bnds, constraints=cons, options={'disp': True, })\n",
    "    return(min_result.x)"
   ]
  },
  {
   "cell_type": "code",
   "execution_count": 47,
   "metadata": {},
   "outputs": [],
   "source": [
    "# This is the function that will be tested by the autograder\n",
    "# The student must update this code to properly implement the functionality\n",
    "def optimize_portfolio(sd = dt.datetime(2008,1,1), ed = dt.datetime(2009,1,1), \\\n",
    "    syms = ['GOOG','AAPL','GLD','XOM'], sv=1000000, gen_plot=False):\n",
    "\n",
    "    # Read in adjusted closing prices for given symbols, date range\n",
    "    dates = pd.date_range(sd, ed)\n",
    "    prices_all = get_data(syms, dates)  # automatically adds SPY\n",
    "    prices = prices_all[syms]  # only portfolio symbols\n",
    "    prices_SPY = prices_all['SPY']  # only SPY, for comparison later\n",
    "\n",
    "    # Get daily portfolio value\n",
    "    # 1. Normalize the prices Dataframe\n",
    "    normed = pd.DataFrame(index=prices.index)\n",
    "    for column in prices:\n",
    "        normed[column] = prices[column].values / prices[column].iloc[0];\n",
    "    #print(normed)\n",
    "\n",
    "    # 2. Calculate alloced\n",
    "    allocs = find_optimal_allocations(normed) #optimize allocations\n",
    "    \n",
    "   \n",
    "    # 5. Daily returns Series\n",
    "    daily_rets = normed.pct_change(1)\n",
    "    \n",
    "    # Get daily portfolio value    \n",
    "    normed = prices / prices.iloc[0]\n",
    "    alloced = normed * allocs\n",
    "    pos_vals = alloced * sv\n",
    "    pos_vals = np.sum(pos_vals,axis=1)\n",
    "    port_val = pos_vals\n",
    "\n",
    "    # Get portfolio statistics (note: std_daily_ret = volatility)\n",
    "    # 1. Cumulative return\n",
    "    cr = (port_val[-1] / port_val[0] -1)\n",
    "    \n",
    "    # 2. Averrage daily returns\n",
    "    adr = daily_rets.mean()\n",
    "    # 3. Standard deviation of daily returns\n",
    "    sddr = daily_rets.std()\n",
    "    # 4. Sharpe ratio\n",
    "    sr = adr / sddr\n",
    "    k = math.sqrt(252)\n",
    "    sr = k * sr\n",
    "    \n",
    "    # Compare daily portfolio value with SPY using a normalized plot\n",
    "    if gen_plot:\n",
    "        # Normalize port_val\n",
    "        x = port_val[0]\n",
    "        port_val = port_val.divide(x, fill_value=1)\n",
    "\n",
    "        # Normalize SPY\n",
    "        x = prices_SPY[0]\n",
    "        prices_SPY = prices_SPY.divide(x, fill_value=1)\n",
    "\n",
    "        df_temp = pd.concat([port_val, prices_SPY], \n",
    "                             keys=['Portfolio', 'SPY'], axis=1)\n",
    "        df_temp.plot()\n",
    "        \n",
    "    #print(df_temp)\n",
    "    \n",
    "\n",
    "    return allocs, cr, adr, sddr, sr\n",
    "\n",
    "def test_code():\n",
    "    # This code WILL NOT be tested by the auto grader\n",
    "    # It is only here to help you set up and test your code\n",
    "\n",
    "    # Define input parameters\n",
    "    # Note that ALL of these values will be set to different values by\n",
    "    # the autograder!\n",
    "    start_date = dt.datetime(2010,1,1)\n",
    "    end_date = dt.datetime(2010,12,31)\n",
    "    symbols = ['GOOG', 'AAPL', 'GLD', 'XOM']\n",
    "    start_val = 1000000  \n",
    "    risk_free_rate = 0.0\n",
    "    sample_freq = 252\n",
    "\n",
    "    # Assess the portfolio\n",
    "    allocs, cr, adr, sddr, sr = optimize_portfolio(sd = start_date, ed = end_date,\\\n",
    "        syms = symbols, \\\n",
    "        gen_plot = True)\n",
    "\n",
    "    # Print statistics\n",
    "    print(\"Start Date:\", sd)\n",
    "    print(\"End Date:\", ed)\n",
    "    print(\"Symbols:\", syms)\n",
    "    print(\"Allocations:\", allocs)\n",
    "    print(\"Sharpe Ratio:\", sr)\n",
    "    print(\"Volatility (stdev of daily returns):\", sddr)\n",
    "    print(\"Average Daily Return:\", adr)\n",
    "    print(\"Cumulative Return:\", cr)"
   ]
  },
  {
   "cell_type": "markdown",
   "metadata": {},
   "source": [
    "## Testing"
   ]
  },
  {
   "cell_type": "code",
   "execution_count": 48,
   "metadata": {},
   "outputs": [
    {
     "name": "stdout",
     "output_type": "stream",
     "text": [
      "Optimization terminated successfully.    (Exit mode 0)\n",
      "            Current function value: -0.2784925580954507\n",
      "            Iterations: 9\n",
      "            Function evaluations: 54\n",
      "            Gradient evaluations: 9\n",
      "Start Date: 2010-01-01 00:00:00\n",
      "End Date: 2010-01-01 00:00:00\n",
      "Symbols: ['GOOG', 'AAPL', 'GLD', 'XOM']\n",
      "Allocations: [1.00000000e+00 1.52735897e-14 2.08999484e-14 2.10165219e-13]\n",
      "Sharpe Ratio: GOOG   -0.054696\n",
      "AAPL    1.672333\n",
      "GLD     1.504567\n",
      "XOM     0.549973\n",
      "dtype: float64\n",
      "Volatility (stdev of daily returns): GOOG    0.017580\n",
      "AAPL    0.016868\n",
      "GLD     0.010402\n",
      "XOM     0.011329\n",
      "dtype: float64\n",
      "Average Daily Return: GOOG   -0.000061\n",
      "AAPL    0.001777\n",
      "GLD     0.000986\n",
      "XOM     0.000392\n",
      "dtype: float64\n",
      "Cumulative Return: -0.052301555644151954\n"
     ]
    },
    {
     "data": {
      "image/png": "[encoded data removed]",
      "text/plain": [
       "<Figure size 432x288 with 1 Axes>"
      ]
     },
     "metadata": {},
     "output_type": "display_data"
    }
   ],
   "source": [
    "test_code()"
   ]
  },
  {
   "cell_type": "code",
   "execution_count": null,
   "metadata": {},
   "outputs": [],
   "source": []
  }
 ],
 "metadata": {
  "kernelspec": {
   "display_name": "Python 3",
   "language": "python",
   "name": "python3"
  },
  "language_info": {
   "codemirror_mode": {
    "name": "ipython",
    "version": 3
   },
   "file_extension": ".py",
   "mimetype": "text/x-python",
   "name": "python",
   "nbconvert_exporter": "python",
   "pygments_lexer": "ipython3",
   "version": "3.6.4"
  }
 },
 "nbformat": 4,
 "nbformat_minor": 2
}
