{
 "cells": [
  {
   "cell_type": "markdown",
   "metadata": {},
   "source": [
    "# Assess portfolio\n",
    "ML for trading  Udacity Course exercise"
   ]
  },
  {
   "cell_type": "markdown",
   "metadata": {},
   "source": [
    "## Overview\n",
    "\n",
    "A portfolio is a collection of stocks (or other assets) and corresponding allocations of funds to each of them. In order to evaluate and compare different portfolios, we first need to compute certain metrics, based on available historical data.\n",
    "\n",
    "The primary goal of this assignment is to introduce you to this form of portfolio analysis. You will use pandas for reading in data, calculating various statistics and plotting a comparison graph."
   ]
  },
  {
   "cell_type": "markdown",
   "metadata": {},
   "source": [
    "## Task\n",
    "Create a function called assess_portfolio() that takes as input a description of a portfolio and computes important statistics about it.\n",
    "\n",
    "You are given the following inputs for analyzing a portfolio:\n",
    "\n",
    "* A date range to select the historical data to use (specified by a start and end date). You should consider performance from close of the start date to close of the end date.\n",
    "* Symbols for equities (e.g., GOOG, AAPL, GLD, XOM). Note: You should support any symbol in the data directory.\n",
    "* Allocations to the equities at the beginning of the simulation (e.g., 0.2, 0.3, 0.4, 0.1), should sum to 1.0.\n",
    "* Total starting value of the portfolio (e.g. $1,000,000)"
   ]
  },
  {
   "cell_type": "markdown",
   "metadata": {},
   "source": [
    "## Goal\n",
    "\n",
    "Your goal is to compute the daily portfolio value over given date range, and then the following statistics for the overall portfolio:\n",
    "\n",
    "* Cumulative return\n",
    "* Average period return (if sampling frequency == 252 then this is average daily return)\n",
    "* Standard deviation of daily returns\n",
    "* Sharpe ratio of the overall portfolio, given daily risk free rate (usually 0), and yearly sampling * frequency (usually 252, the no. of trading days in a year)\n",
    "* Ending value of the portfolio"
   ]
  },
  {
   "cell_type": "code",
   "execution_count": null,
   "metadata": {},
   "outputs": [],
   "source": []
  }
 ],
 "metadata": {
  "kernelspec": {
   "display_name": "Python 3",
   "language": "python",
   "name": "python3"
  },
  "language_info": {
   "codemirror_mode": {
    "name": "ipython",
    "version": 3
   },
   "file_extension": ".py",
   "mimetype": "text/x-python",
   "name": "python",
   "nbconvert_exporter": "python",
   "pygments_lexer": "ipython3",
   "version": "3.6.4"
  }
 },
 "nbformat": 4,
 "nbformat_minor": 2
}
