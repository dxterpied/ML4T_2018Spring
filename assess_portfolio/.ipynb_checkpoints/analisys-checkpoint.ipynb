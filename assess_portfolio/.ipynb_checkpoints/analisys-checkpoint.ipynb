{
 "cells": [
  {
   "cell_type": "markdown",
   "metadata": {},
   "source": [
    "# Assess portfolio\n",
    "ML for trading  Udacity Course exercise\n",
    "\n",
    "\"\"\"Analyze a portfolio.\n",
    "http://quantsoftware.gatech.edu/Assess_portfolio\n",
    "\n",
    "Copyright 2018, Kairoart\n",
    "\"\"\"\n"
   ]
  },
  {
   "cell_type": "markdown",
   "metadata": {},
   "source": [
    "## Overview\n",
    "\n",
    "A portfolio is a collection of stocks (or other assets) and corresponding allocations of funds to each of them. In order to evaluate and compare different portfolios, we first need to compute certain metrics, based on available historical data.\n",
    "\n",
    "The primary goal of this assignment is to introduce you to this form of portfolio analysis. You will use pandas for reading in data, calculating various statistics and plotting a comparison graph."
   ]
  },
  {
   "cell_type": "markdown",
   "metadata": {},
   "source": [
    "## Task\n",
    "Create a function called assess_portfolio() that takes as input a description of a portfolio and computes important statistics about it.\n",
    "\n",
    "You are given the following inputs for analyzing a portfolio:\n",
    "\n",
    "* A date range to select the historical data to use (specified by a start and end date). You should consider performance from close of the start date to close of the end date.\n",
    "* Symbols for equities (e.g., GOOG, AAPL, GLD, XOM). Note: You should support any symbol in the data directory.\n",
    "* Allocations to the equities at the beginning of the simulation (e.g., 0.2, 0.3, 0.4, 0.1), should sum to 1.0.\n",
    "* Total starting value of the portfolio (e.g. $1,000,000)"
   ]
  },
  {
   "cell_type": "markdown",
   "metadata": {},
   "source": [
    "## Goal\n",
    "\n",
    "Your goal is to compute the daily portfolio value over given date range, and then the following statistics for the overall portfolio:\n",
    "\n",
    "* cr = Cumulative return\n",
    "* adr = Average period return (if sampling frequency == 252 then this is average daily return)\n",
    "* sddr = Standard deviation of daily returns\n",
    "* sr = Sharpe ratio of the overall portfolio, given daily risk free rate (usually 0), and yearly sampling * frequency (usually 252, the no. of trading days in a year)\n",
    "* ev = Ending value of the portfolio"
   ]
  },
  {
   "cell_type": "markdown",
   "metadata": {},
   "source": [
    "## Import libraries"
   ]
  },
  {
   "cell_type": "code",
   "execution_count": 29,
   "metadata": {},
   "outputs": [],
   "source": [
    "import pandas as pd\n",
    "import numpy as np\n",
    "import datetime as dt\n",
    "import math\n",
    "\n",
    "# Add parent directory PATH for looking for modules,\n",
    "import sys\n",
    "sys.path.insert(0,'..')\n",
    "from util import get_data, plot_data"
   ]
  },
  {
   "cell_type": "code",
   "execution_count": 184,
   "metadata": {},
   "outputs": [
    {
     "name": "stdout",
     "output_type": "stream",
     "text": [
      "0.25564678453350465\n",
      "Start Date: 2010-01-01 00:00:00\n",
      "End Date: 2010-12-31 00:00:00\n",
      "Symbols: ['GOOG', 'AAPL', 'GLD', 'XOM']\n",
      "Allocations: [0.2, 0.3, 0.4, 0.1]\n",
      "Sharpe Ratio: 1.518192436412635\n",
      "Volatility (stdev of daily returns): 0.010010402800015368\n",
      "Average Daily Return: 0.0009573662342381413\n",
      "Cumulative Return: 0.25564678453350465\n"
     ]
    },
    {
     "data": {
      "image/png": "[encoded data removed]",
      "text/plain": [
       "<Figure size 432x288 with 1 Axes>"
      ]
     },
     "metadata": {},
     "output_type": "display_data"
    }
   ],
   "source": [
    "sd = dt.datetime(2010,1,1)\n",
    "ed = dt.datetime(2010,12,31)\n",
    "syms = ['GOOG','AAPL','GLD','XOM']\n",
    "allocs=[0.2, 0.3, 0.4, 0.1]\n",
    "sv=1000000\n",
    "rfr=0.0\n",
    "sf=252.0\n",
    "   \n",
    "\n",
    "# Read in adjusted closing prices for given symbols, date range\n",
    "dates = pd.date_range(sd, ed)\n",
    "prices_all = get_data(syms, dates)  # automatically adds SPY\n",
    "prices = prices_all[syms]\n",
    "prices_SPY = prices_all['SPY']\n",
    "\n",
    "# Get daily portfolio value\n",
    "# 1. Normalize the prices Dataframe\n",
    "normed = pd.DataFrame(index=prices.index)\n",
    "for column in prices:\n",
    "    normed[column] = prices[column].values / prices[column].iloc[0];\n",
    "#print(normed)\n",
    "\n",
    "# 2. Alloced Dataframe\n",
    "alloced = pd.DataFrame()\n",
    "alloced = normed * allocs\n",
    "#print(alloced)\n",
    "\n",
    "# 3. pos_vals = alloced * start vals Dataframe\n",
    "pos_vals = pd.DataFrame()\n",
    "for column in alloced:\n",
    "    pos_vals[column] = alloced[column] * sv\n",
    "pos_vals['pos_vals'] = pos_vals.iloc[:,-4:].sum(axis=1)\n",
    "#print(pos_vals)\n",
    "\n",
    "\n",
    "# 4. port_val Series\n",
    "port_val = pd.Series(pos_vals.pos_vals)\n",
    "#print(port_val)\n",
    "\n",
    "# 5. Daily returns Series\n",
    "daily_rets = port_val.pct_change(1)\n",
    "#print(daily_rets)\n",
    "#print (type(daily_rets))\n",
    "\n",
    "# Get portfolio statistics (note: std_daily_ret = volatility)\n",
    "# 1. Cumulative return\n",
    "cr = (port_val[-1] / port_val[0] -1)\n",
    "print(cr)\n",
    "# 2. Averrage daily returns\n",
    "adr = daily_rets.mean()\n",
    "# 3. Standard deviation of daily returns\n",
    "sddr = daily_rets.std()\n",
    "# 4. Sharpe ratio\n",
    "sr = adr / sddr\n",
    "k = math.sqrt(252)\n",
    "sr = k * sr\n",
    "\n",
    "# add code to plot here\n",
    "# Normalize port_val\n",
    "x = port_val[0]\n",
    "port_val = port_val.divide(x, fill_value=1)\n",
    "\n",
    "# Normalize SPY\n",
    "x = prices_SPY[0]\n",
    "prices_SPY = prices_SPY.divide(x, fill_value=1)\n",
    "\n",
    "\n",
    "df_temp = pd.concat([port_val, prices_SPY], keys=['Portfolio', 'SPY'], axis=1)\n",
    "df_temp.plot()\n",
    "\n",
    "# Print statistics\n",
    "print(\"Start Date:\", sd)\n",
    "print(\"End Date:\", ed)\n",
    "print(\"Symbols:\", syms)\n",
    "print(\"Allocations:\", allocs)\n",
    "print(\"Sharpe Ratio:\", sr)\n",
    "print(\"Volatility (stdev of daily returns):\", sddr)\n",
    "print(\"Average Daily Return:\", adr)\n",
    "print(\"Cumulative Return:\", cr)"
   ]
  },
  {
   "cell_type": "code",
   "execution_count": 193,
   "metadata": {},
   "outputs": [],
   "source": [
    "# This is the function that will be tested by the autograder\n",
    "# The student must update this code to properly implement the functionality\n",
    "def assess_portfolio(sd = dt.datetime(2008,1,1), ed = dt.datetime(2009,1,1), \\\n",
    "    syms = ['GOOG','AAPL','GLD','XOM'], \\\n",
    "    allocs=[0.1,0.2,0.3,0.4], \\\n",
    "    sv=1000000, rfr=0.0, sf=252.0, \\\n",
    "    gen_plot=False):\n",
    "\n",
    "    # Read in adjusted closing prices for given symbols, date range\n",
    "    dates = pd.date_range(sd, ed)\n",
    "    prices_all = get_data(syms, dates)  # automatically adds SPY\n",
    "    prices = prices_all[syms]  # only portfolio symbols\n",
    "    prices_SPY = prices_all['SPY']  # only SPY, for comparison later\n",
    "\n",
    "    \n",
    "    # Get daily portfolio value\n",
    "    # 1. Normalize the prices Dataframe\n",
    "    normed = pd.DataFrame(index=prices.index)\n",
    "    for column in prices:\n",
    "        normed[column] = prices[column].values / prices[column].iloc[0];\n",
    "    #print(normed)\n",
    "\n",
    "    # 2. Alloced Dataframe\n",
    "    alloced = pd.DataFrame()\n",
    "    alloced = normed * allocs\n",
    "    #print(alloced)\n",
    "\n",
    "    # 3. pos_vals = alloced * start vals Dataframe\n",
    "    pos_vals = pd.DataFrame()\n",
    "    for column in alloced:\n",
    "        pos_vals[column] = alloced[column] * sv\n",
    "    pos_vals['pos_vals'] = pos_vals.iloc[:,-4:].sum(axis=1)\n",
    "    #print(pos_vals)\n",
    "\n",
    "\n",
    "    # 4. port_val Series\n",
    "    port_val = pd.Series(pos_vals.pos_vals)\n",
    "    #print(port_val)\n",
    "\n",
    "    # 5. Daily returns Series\n",
    "    daily_rets = port_val.pct_change(1)\n",
    "    #print(daily_rets)\n",
    "    #print (type(daily_rets))\n",
    "\n",
    "    # Get portfolio statistics (note: std_daily_ret = volatility)\n",
    "    # 1. Cumulative return\n",
    "    cr = (port_val[-1] / port_val[0] -1)\n",
    "    \n",
    "    # 2. Averrage daily returns\n",
    "    adr = daily_rets.mean()\n",
    "    # 3. Standard deviation of daily returns\n",
    "    sddr = daily_rets.std()\n",
    "    # 4. Sharpe ratio\n",
    "    sr = adr / sddr\n",
    "    k = math.sqrt(252)\n",
    "    sr = k * sr\n",
    "    \n",
    "    # Compare daily portfolio value with SPY using a normalized plot\n",
    "    if gen_plot:\n",
    "        # Normalize port_val\n",
    "        x = port_val[0]\n",
    "        port_val = port_val.divide(x, fill_value=1)\n",
    "\n",
    "        # Normalize SPY\n",
    "        x = prices_SPY[0]\n",
    "        prices_SPY = prices_SPY.divide(x, fill_value=1)\n",
    "\n",
    "        df_temp = pd.concat([port_val, prices_SPY], \n",
    "                             keys=['Portfolio', 'SPY'], axis=1)\n",
    "        df_temp.plot()\n",
    "        \n",
    "    #print(df_temp)\n",
    "    # Add code here to properly compute end value\n",
    "    ev = sv\n",
    "\n",
    "    return cr, adr, sddr, sr, ev\n",
    "\n",
    "def test_code():\n",
    "    # This code WILL NOT be tested by the auto grader\n",
    "    # It is only here to help you set up and test your code\n",
    "\n",
    "    # Define input parameters\n",
    "    # Note that ALL of these values will be set to different values by\n",
    "    # the autograder!\n",
    "    start_date = dt.datetime(2009,1,1)\n",
    "    end_date = dt.datetime(2010,1,1)\n",
    "    symbols = ['GOOG', 'AAPL', 'GLD', 'XOM']\n",
    "    allocations = [0.2, 0.3, 0.4, 0.1]\n",
    "    start_val = 1000000  \n",
    "    risk_free_rate = 0.0\n",
    "    sample_freq = 252\n",
    "\n",
    "    # Assess the portfolio\n",
    "    cr, adr, sddr, sr, ev = assess_portfolio(sd = start_date, ed = end_date,\\\n",
    "        syms = symbols, \\\n",
    "        allocs = allocations,\\\n",
    "        sv = start_val, \\\n",
    "        gen_plot = True)\n",
    "\n",
    "    # Print statistics\n",
    "    print(\"Start Date:\", sd)\n",
    "    print(\"End Date:\", ed)\n",
    "    print(\"Symbols:\", syms)\n",
    "    print(\"Allocations:\", allocs)\n",
    "    print(\"Sharpe Ratio:\", sr)\n",
    "    print(\"Volatility (stdev of daily returns):\", sddr)\n",
    "    print(\"Average Daily Return:\", adr)\n",
    "    print(\"Cumulative Return:\", cr)"
   ]
  },
  {
   "cell_type": "code",
   "execution_count": 194,
   "metadata": {},
   "outputs": [
    {
     "name": "stdout",
     "output_type": "stream",
     "text": [
      "Start Date: 2010-01-01 00:00:00\n",
      "End Date: 2010-12-31 00:00:00\n",
      "Symbols: ['GOOG', 'AAPL', 'GLD', 'XOM']\n",
      "Allocations: [0.2, 0.3, 0.4, 0.1]\n",
      "Sharpe Ratio: 2.7962213992867566\n",
      "Volatility (stdev of daily returns): 0.011957732757447043\n",
      "Average Daily Return: 0.0021062995152198423\n",
      "Cumulative Return: 0.6657866039618059\n"
     ]
    },
    {
     "data": {
      "image/png": "[encoded data removed]",
      "text/plain": [
       "<Figure size 432x288 with 1 Axes>"
      ]
     },
     "metadata": {},
     "output_type": "display_data"
    }
   ],
   "source": [
    "#assess_portfolio(gen_plot=True)\n",
    "test_code()"
   ]
  },
  {
   "cell_type": "code",
   "execution_count": null,
   "metadata": {},
   "outputs": [],
   "source": []
  }
 ],
 "metadata": {
  "kernelspec": {
   "display_name": "Python 3",
   "language": "python",
   "name": "python3"
  },
  "language_info": {
   "codemirror_mode": {
    "name": "ipython",
    "version": 3
   },
   "file_extension": ".py",
   "mimetype": "text/x-python",
   "name": "python",
   "nbconvert_exporter": "python",
   "pygments_lexer": "ipython3",
   "version": "3.6.4"
  }
 },
 "nbformat": 4,
 "nbformat_minor": 2
}
