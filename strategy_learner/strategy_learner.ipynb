{
 "cells": [
  {
   "cell_type": "markdown",
   "metadata": {
    "slideshow": {
     "slide_type": "slide"
    },
    "toc-hr-collapsed": false
   },
   "source": [
    "# Strategy Learner\n",
    "ML for trading Udacity Course exercise\n",
    "\n",
    "More info:\n",
    "https://quantsoftware.gatech.edu/Strategy_learner\n",
    "\n",
    "A transcription of the Udacity Course lectures can be find on https://docs.google.com/document/d/1ELqlnuTSdc9-MDHOkV0uvSY4RmI1eslyQlU9DgOY_jc/edit?usp=sharing\n",
    "\n",
    "Kairoart 2018\n",
    "\"\"\"\n"
   ]
  },
  {
   "cell_type": "markdown",
   "metadata": {
    "slideshow": {
     "slide_type": "slide"
    }
   },
   "source": [
    "## Overview\n",
    "\n",
    "In this project you will design a learning trading agent. You must draw on the learners you have created so far in the course. Your choices are:\n",
    "\n",
    "1. Regression or classification-based learner: Create a strategy using your Random Forest learner. Suggestions if you follow this approach: Classification_Trader_Hints. Important note, if you choose this method, you must set the leaf_size for your learner to 5 or greater. This is to avoid degenerate overfitting in-sample.\n",
    "2. Reinforcement Learner-based approach: Create a Q-learning-based strategy using your Q-Learner. Read the Classification_Trader_Hints first, because many of the ideas there are relevant for the Q trader, then see Q_Trader_Hints\n",
    "3. Optimization-based learner: Create a scan-based strategy using an optimizer. Read the Classification_Trader_Hints first, because many of the ideas there are relevant for the Opto trader, then see Opto_Trader_Hints\n",
    "\n",
    "Regardless of your choice above, your learner should work in the following way:\n",
    "\n",
    "* In the training phase (e.g., addEvidence()) your learner will be provided with a stock symbol and a time period. It should use this data to learn a strategy. For instance, for a regression-based learner it will use this data to make predictions about future price changes.\n",
    "* In the testing phase (e.g., testPolicy()) your learner will be provided a symbol and a date range. All learning should be turned OFF during this phase.\n",
    "\n",
    "\n",
    "If the date range is the same as used for the training, it is an in-sample test. Otherwise it is an out-of-sample test. Your learner should return a trades dataframe like it did in the last project. Here are some important requirements: Your testPolicy() method should be much faster than your addEvidence() method. The timeout requirements (see rubric) will be set accordingly. Multiple calls to your testPolicy() method should return exactly the same result. "
   ]
  },
  {
   "cell_type": "markdown",
   "metadata": {},
   "source": [
    "## Tasks\n",
    "\n",
    "* Devise numerical/technical indicators to evaluate the state of a stock on each day.\n",
    "* Build a strategy learner based on one of the learners described above that uses the indicators.\n",
    "* Test/debug the strategy learner on specific symbol/time period problems.\n",
    "* Write a report describing your learning strategy."
   ]
  },
  {
   "cell_type": "markdown",
   "metadata": {},
   "source": [
    "## Data Details, Dates and Rules\n",
    "\n",
    "* For your report, trade only the symbol JPM. This will enable us to more easily compare results. We will test your learner with other symbols as well.\n",
    "* You may use data from other symbols (such as SPY) to inform your strategy.\n",
    "* The in sample/development period is January 1, 2008 to December 31 2009.\n",
    "* The out of sample/testing period is January 1, 2010 to December 31 2011.\n",
    "* Starting cash is 100,000.\n",
    "* Allowable positions are: 1000 shares long, 1000 shares short, 0 shares.\n",
    "* Benchmark: The performance of a portfolio starting with 100,000 cash, investing in 1000 shares of the symbol in use and holding that position. Include transaction costs.\n",
    "* There is no limit on leverage.\n",
    "* Transaction costs: Commission will always be 0.00, Impact may vary, and will be passed in as a parameter to the learner.\n",
    "* Minimize use of herrings."
   ]
  },
  {
   "cell_type": "markdown",
   "metadata": {},
   "source": [
    "## Implement Strategy Learner\n",
    "\n",
    "For this part of the project you should develop a learner that can learn a trading policy using your learner. You should be able to use your Q-Learner or RTLearner from the earlier project directly, with no changes. If you want to use the optimization approach, you will need to create new code or that. You will need to write code in StrategyLearner.py to \"wrap\" your learner appropriately to frame the trading problem for it."
   ]
  },
  {
   "cell_type": "markdown",
   "metadata": {},
   "source": [
    "### StrategyLearner API\n",
    "\n",
    "import StrategyLearner as sl\n",
    "learner = sl.StrategyLearner(verbose = False, impact = 0.000) # constructor\n",
    "learner.addEvidence(symbol = \"AAPL\", sd=dt.datetime(2008,1,1), ed=dt.datetime(2009,12,31), sv = 100000) # training phase\n",
    "df_trades = learner.testPolicy(symbol = \"AAPL\", sd=dt.datetime(2010,1,1), ed=dt.datetime(2011,12,31), sv = 100000) # testing phase\n",
    "\n",
    "The input parameters are:\n",
    "\n",
    "* verbose: if False do not generate any output\n",
    "* impact: The market impact of each transaction.\n",
    "* symbol: the stock symbol to train on\n",
    "* sd: A datetime object that represents the start date\n",
    "* ed: A datetime object that represents the end date\n",
    "* sv: Start value of the portfolio\n",
    "\n",
    "The output result is:\n",
    "\n",
    "* df_trades: A data frame whose values represent trades for each day. Legal values are +1000.0 indicating a BUY of 1000 shares, -1000.0 indicating a SELL of 1000 shares, and 0.0 indicating NOTHING. Values of +2000 and -2000 for trades are also legal when switching from long to short or short to long so long as net holdings are constrained to -1000, 0, and 1000."
   ]
  },
  {
   "cell_type": "markdown",
   "metadata": {},
   "source": [
    "## Goal\n",
    "\n",
    "Implement a StrategyLearner that trains a QLearner for trading a symbol."
   ]
  },
  {
   "cell_type": "markdown",
   "metadata": {},
   "source": [
    "## Import libraries"
   ]
  },
  {
   "cell_type": "code",
   "execution_count": 4,
   "metadata": {},
   "outputs": [],
   "source": [
    "import pandas as pd\n",
    "import numpy as np  \n",
    "import datetime as dt\n",
    "\n",
    "from util import create_df_benchmark, get_data\n",
    "from strategyLearner import strategyLearner\n",
    "\n"
   ]
  },
  {
   "cell_type": "markdown",
   "metadata": {},
   "source": [
    "## Initial Variables"
   ]
  },
  {
   "cell_type": "code",
   "execution_count": 5,
   "metadata": {},
   "outputs": [],
   "source": [
    "start_val = 100000\n",
    "symbol = \"JPM\"\n",
    "commission = 0.00\n",
    "impact = 0.0\n",
    "num_shares = 1000"
   ]
  },
  {
   "cell_type": "markdown",
   "metadata": {},
   "source": [
    "## In-sample performance\n",
    "\n",
    "Show the performances of portfolio and benchmark in the in-sample period."
   ]
  },
  {
   "cell_type": "code",
   "execution_count": 6,
   "metadata": {},
   "outputs": [
    {
     "name": "stdout",
     "output_type": "stream",
     "text": [
      "1 -0.37929999999999997\n",
      "2 -0.18210000000000004\n",
      "3 0.1763999999999999\n",
      "4 0.29899999999999993\n",
      "5 0.3126\n",
      "6 0.3292999999999999\n",
      "7 0.3292999999999999\n",
      "8 0.3292999999999999\n",
      "9 0.3292999999999999\n",
      "10 0.3292999999999999\n",
      "11 0.3292999999999999\n",
      "12 0.3292999999999999\n",
      "13 0.3292999999999999\n",
      "14 0.3292999999999999\n",
      "15 0.3292999999999999\n",
      "16 0.3292999999999999\n",
      "17 0.3292999999999999\n",
      "18 0.3292999999999999\n",
      "19 0.3292999999999999\n",
      "20 0.3292999999999999\n",
      "21 0.3292999999999999\n"
     ]
    },
    {
     "data": {
      "0": {
       "line": {
        "color": "#17BECF"
       },
       "name": "CR",
       "opacity": 0.8,
       "type": "scatter",
       "uid": "32e98af4-d7ca-11e8-8bda-c85b7676dc15",
       "x": [
        1,
        2,
        3,
        4,
        5,
        6,
        7,
        8,
        9,
        10,
        11,
        12,
        13,
        14,
        15,
        16,
        17,
        18,
        19,
        20,
        21
       ],
       "y": [
        -0.37929999999999997,
        -0.18210000000000004,
        0.1763999999999999,
        0.29899999999999993,
        0.3126,
        0.3292999999999999,
        0.3292999999999999,
        0.3292999999999999,
        0.3292999999999999,
        0.3292999999999999,
        0.3292999999999999,
        0.3292999999999999,
        0.3292999999999999,
        0.3292999999999999,
        0.3292999999999999,
        0.3292999999999999,
        0.3292999999999999,
        0.3292999999999999,
        0.3292999999999999,
        0.3292999999999999,
        0.3292999999999999
       ]
      },
      "image/png": "[encoded data removed]"
     },
     "metadata": {},
     "output_type": "display_data"
    }
   ],
   "source": [
    "# Specify the start and end dates for this period.\n",
    "start_d = dt.datetime(2008, 1, 1)\n",
    "end_d = dt.datetime(2009, 12, 31)\n",
    "\n",
    "# Get benchmark data\n",
    "benchmark_prices = get_data([symbol], pd.date_range(start_d, end_d), addSPY=False).dropna()\n",
    "\n",
    "# Create benchmark data: Benchmark is a portfolio starting with $100,000, investing in 1000 shares of symbol and holding that position\n",
    "df_benchmark_trades = create_df_benchmark(symbol, start_d, end_d, num_shares)\n",
    "\n",
    "#print (df_benchmark_trades)\n",
    "\n",
    "# Train and test a StrategyLearner\n",
    "# Set verbose to True will print out and plot the cumulative return for each training epoch\n",
    "stl = strategyLearner(num_shares=num_shares, impact=impact, \n",
    "                      commission=commission, verbose=True,\n",
    "                      num_states=3000, num_actions=3)\n",
    "stl.add_evidence(symbol=symbol, start_val=start_val, \n",
    "                 start_date=start_d, end_date=end_d)\n",
    "df_trades = stl.test_policy(symbol=symbol, start_date=start_d,\n",
    "                            end_date=end_d)\n",
    "#print (df_trades)\n",
    "\n"
   ]
  },
  {
   "cell_type": "code",
   "execution_count": null,
   "metadata": {},
   "outputs": [],
   "source": []
  }
 ],
 "metadata": {
  "kernelspec": {
   "display_name": "Python 3",
   "language": "python",
   "name": "python3"
  },
  "language_info": {
   "codemirror_mode": {
    "name": "ipython",
    "version": 3
   },
   "file_extension": ".py",
   "mimetype": "text/x-python",
   "name": "python",
   "nbconvert_exporter": "python",
   "pygments_lexer": "ipython3",
   "version": "3.6.4"
  }
 },
 "nbformat": 4,
 "nbformat_minor": 2
}
